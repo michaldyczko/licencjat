{
 "cells": [
  {
   "cell_type": "markdown",
   "metadata": {},
   "source": [
    "# Biblioteki"
   ]
  },
  {
   "cell_type": "code",
   "execution_count": 7,
   "metadata": {},
   "outputs": [],
   "source": [
    "import numpy as np\n",
    "import pandas as pd\n",
    "import json\n",
    "pd.set_option('display.max_rows', 500)\n",
    "pd.set_option('display.max_columns', 500)\n",
    "pd.set_option('display.width', 1000)\n",
    "import matplotlib.pyplot as plt\n",
    "plt.style.use(\"bmh\")\n",
    "plt.rcParams['figure.figsize'] = [15, 10]\n",
    "from statsmodels.tsa.stattools import adfuller\n",
    "from statsmodels.tsa.stattools import acf, pacf\n",
    "from statsmodels.graphics.tsaplots import plot_acf, plot_pacf\n",
    "from statsmodels.tsa.seasonal import seasonal_decompose\n",
    "from statsmodels.tools.eval_measures import rmse\n",
    "from statsmodels.tsa.arima_model import ARIMA\n",
    "from statsmodels.tsa.statespace.sarimax import SARIMAX"
   ]
  },
  {
   "cell_type": "code",
   "execution_count": 8,
   "metadata": {},
   "outputs": [],
   "source": [
    "from matplotlib.dates import bytespdate2num, num2date\n",
    "from matplotlib.ticker import Formatter"
   ]
  },
  {
   "cell_type": "markdown",
   "metadata": {},
   "source": [
    "# Deklaracje"
   ]
  },
  {
   "cell_type": "code",
   "execution_count": 9,
   "metadata": {},
   "outputs": [],
   "source": [
    "def plot_ts(ts):\n",
    "    fig, ax = plt.subplots()\n",
    "    ts_roll_mean = ts.rolling(window=12).mean()\n",
    "    ts_roll_std = ts.rolling(window=12).std()\n",
    "    \n",
    "    ts.plot(color='blue', label='Original', use_index=False)\n",
    "    ts_roll_mean.plot(color='red', label=\"Rolling mean\", use_index=False)\n",
    "    ts_roll_std.plot(color='black', label=\"Rolling std\", use_index=False)\n",
    "    \n",
    "    ax.set_xticklabels(ts.index)\n",
    "    fig.autofmt_xdate()\n",
    "    \n",
    "    \n",
    "    plt.xlabel('Date')\n",
    "    plt.ylabel('Return ratio')\n",
    "    plt.show()\n",
    "    \n",
    "def perform_dft(ts):\n",
    "    #Perform Augmented Dickey–Fuller test:\n",
    "    print('Results of Dickey Fuller Test:')\n",
    "    dftest = adfuller(y_train, autolag='AIC')\n",
    "    add_col = []\n",
    "    values = list(dftest[0:4])\n",
    "    for key,value in dftest[4].items():\n",
    "        add_col.append('Critical Value (%s)'%key)\n",
    "        values.append(value)\n",
    "\n",
    "    dfoutput = pd.DataFrame(data = [values], index=['Wartość'], columns=['Test Statistic','p-value','#Lags Used','Number of Observations Used']+add_col)\n",
    "    display(dfoutput)\n",
    "\n",
    "def decompose(ts):\n",
    "    decomposition = seasonal_decompose(ts, freq=10) \n",
    "    decomposition.plot()\n",
    "    plt.show()\n",
    "    \n",
    "def find_best_hparameters(ts, pmax, d, qmax):\n",
    "    errors_dict = {}\n",
    "    rmse_value_list = []\n",
    "    order_list = []\n",
    "    for p in range(pmax+1):\n",
    "        for q in range(qmax+1):\n",
    "            order = (p,d,q)\n",
    "            try:\n",
    "                model = ARIMA(ts, order=order, freq='B')\n",
    "                results = model.fit()\n",
    "                rmse_value = rmse(results.fittedvalues, ts)\n",
    "                rmse_value_list.append(rmse_value)\n",
    "                order_list.append(order)\n",
    "            except Exception as e:\n",
    "                errors_dict[str(order)] = {'error_str': str(e)}\n",
    "    \n",
    "    errors = pd.DataFrame.from_dict(errors_dict, orient='index')\n",
    "    display(errors)\n",
    "    \n",
    "    results = sorted([(order, rmse_value) for order, rmse_value in zip(order_list, rmse_value_list)], key = lambda x: x[1])\n",
    "    best10 = tuple(order for order, rmse_value in results[:10])\n",
    "    return best10, results\n",
    "\n",
    "def select_best_orders_from_best10(ts, best10):\n",
    "    errors_dict = {}\n",
    "    rmse_value_list = []\n",
    "    order_list = []\n",
    "    for order in best10:\n",
    "        try:\n",
    "            model = ARIMA(ts, order=order, freq='B')\n",
    "            results = model.fit()\n",
    "            rmse_value = rmse(results.fittedvalues, ts)\n",
    "            rmse_value_list.append(rmse_value)\n",
    "            order_list.append(order)\n",
    "        except Exception as e:\n",
    "            errors_dict[str(order)] = {'error_str': str(e)}\n",
    "            \n",
    "    errors = pd.DataFrame.from_dict(errors_dict, orient='index')\n",
    "    display(errors)\n",
    "    \n",
    "    results = sorted([(order, rmse_value) for order, rmse_value in zip(order_list, rmse_value_list)], key = lambda x: x[1])\n",
    "    best = results[0][0]\n",
    "    return best, results\n",
    "\n",
    "def test_orders(ts, orders):\n",
    "    errors_dict = {}\n",
    "    rmse_value_list = []\n",
    "    order_list = []\n",
    "    for order in orders:\n",
    "        try:\n",
    "            model = ARIMA(ts, order=order, freq='B')\n",
    "            results = model.fit()\n",
    "            rmse_value = rmse(results.fittedvalues, ts)\n",
    "            rmse_value_list.append(rmse_value)\n",
    "            order_list.append(order)\n",
    "        except Exception as e:\n",
    "            errors_dict[str(order)] = {'error_str': str(e)}\n",
    "            \n",
    "    errors = pd.DataFrame.from_dict(errors_dict, orient='index')\n",
    "    display(errors)\n",
    "    \n",
    "    results = sorted([(order, rmse_value) for order, rmse_value in zip(order_list, rmse_value_list)], key = lambda x: x[1])\n",
    "    best = results[0][0]\n",
    "    return best, results\n",
    "\n",
    "def show_est_plot(ts, order=None, zero=False, naiwny=False, label=\"Wykres\"):\n",
    "    if zero == True:\n",
    "        z = [0]*len(ts)\n",
    "        rmse_value = rmse(ts, z)\n",
    "        plt.plot(ts.index, z, label=\"Zero\", color='red')\n",
    "        plt.plot(ts.index, ts, label=label, color='blue')\n",
    "        plt.title(f'{label} (RMSE: {rmse_value})')\n",
    "        plt.show()\n",
    "    elif naiwny == True:\n",
    "        rmse_value = rmse(ts[1:], ts.shift()[1:])\n",
    "        plt.plot(ts[1:].index, ts.shift()[1:], label=\"Naiwny\", color='red')\n",
    "        plt.plot(ts[1:].index, ts[1:], label=label, color='blue')\n",
    "        plt.title(f'{label} (RMSE: {rmse_value})')\n",
    "        plt.show()\n",
    "    else:\n",
    "        model = ARIMA(ts, order=order, freq='B')\n",
    "        results = model.fit()\n",
    "        rmse_value = rmse(results.fittedvalues, ts)\n",
    "        plt.plot(ts.index, results.fittedvalues, label=label, color='red')\n",
    "        plt.plot(ts.index, ts, label=label, color='blue')\n",
    "        plt.title(f'{label} (RMSE: {rmse_value})')\n",
    "        plt.show()\n",
    "        "
   ]
  },
  {
   "cell_type": "code",
   "execution_count": 10,
   "metadata": {},
   "outputs": [],
   "source": [
    "best_results = {}"
   ]
  },
  {
   "cell_type": "markdown",
   "metadata": {},
   "source": [
    "# Wczytanie zbiorów"
   ]
  },
  {
   "cell_type": "code",
   "execution_count": 11,
   "metadata": {},
   "outputs": [
    {
     "ename": "FileNotFoundError",
     "evalue": "[Errno 2] File b'datasets/podzielone/ekonometryczne/train_ekon.csv' does not exist: b'datasets/podzielone/ekonometryczne/train_ekon.csv'",
     "output_type": "error",
     "traceback": [
      "\u001b[0;31m---------------------------------------------------------------------------\u001b[0m",
      "\u001b[0;31mFileNotFoundError\u001b[0m                         Traceback (most recent call last)",
      "\u001b[0;32m<ipython-input-11-86c1424f2cb5>\u001b[0m in \u001b[0;36m<module>\u001b[0;34m\u001b[0m\n\u001b[0;32m----> 1\u001b[0;31m \u001b[0mtrain\u001b[0m \u001b[0;34m=\u001b[0m \u001b[0mpd\u001b[0m\u001b[0;34m.\u001b[0m\u001b[0mread_csv\u001b[0m\u001b[0;34m(\u001b[0m\u001b[0;34m'datasets/podzielone/ekonometryczne/train_ekon.csv'\u001b[0m\u001b[0;34m,\u001b[0m \u001b[0mindex_col\u001b[0m\u001b[0;34m=\u001b[0m\u001b[0;36m0\u001b[0m\u001b[0;34m)\u001b[0m\u001b[0;34m\u001b[0m\u001b[0;34m\u001b[0m\u001b[0m\n\u001b[0m\u001b[1;32m      2\u001b[0m \u001b[0mval1\u001b[0m \u001b[0;34m=\u001b[0m \u001b[0mpd\u001b[0m\u001b[0;34m.\u001b[0m\u001b[0mread_csv\u001b[0m\u001b[0;34m(\u001b[0m\u001b[0;34m'datasets/podzielone/ekonometryczne/valid1_ekon.csv'\u001b[0m\u001b[0;34m,\u001b[0m \u001b[0mindex_col\u001b[0m\u001b[0;34m=\u001b[0m\u001b[0;36m0\u001b[0m\u001b[0;34m)\u001b[0m\u001b[0;34m\u001b[0m\u001b[0;34m\u001b[0m\u001b[0m\n\u001b[1;32m      3\u001b[0m \u001b[0mval2\u001b[0m \u001b[0;34m=\u001b[0m \u001b[0mpd\u001b[0m\u001b[0;34m.\u001b[0m\u001b[0mread_csv\u001b[0m\u001b[0;34m(\u001b[0m\u001b[0;34m'datasets/podzielone/ekonometryczne/valid2_ekon.csv'\u001b[0m\u001b[0;34m,\u001b[0m \u001b[0mindex_col\u001b[0m\u001b[0;34m=\u001b[0m\u001b[0;36m0\u001b[0m\u001b[0;34m)\u001b[0m\u001b[0;34m\u001b[0m\u001b[0;34m\u001b[0m\u001b[0m\n\u001b[1;32m      4\u001b[0m \u001b[0mval3\u001b[0m \u001b[0;34m=\u001b[0m \u001b[0mpd\u001b[0m\u001b[0;34m.\u001b[0m\u001b[0mread_csv\u001b[0m\u001b[0;34m(\u001b[0m\u001b[0;34m'datasets/podzielone/ekonometryczne/valid3_ekon.csv'\u001b[0m\u001b[0;34m,\u001b[0m \u001b[0mindex_col\u001b[0m\u001b[0;34m=\u001b[0m\u001b[0;36m0\u001b[0m\u001b[0;34m)\u001b[0m\u001b[0;34m\u001b[0m\u001b[0;34m\u001b[0m\u001b[0m\n\u001b[1;32m      5\u001b[0m \u001b[0mtest\u001b[0m \u001b[0;34m=\u001b[0m \u001b[0mpd\u001b[0m\u001b[0;34m.\u001b[0m\u001b[0mread_csv\u001b[0m\u001b[0;34m(\u001b[0m\u001b[0;34m'datasets/podzielone/ekonometryczne/test_ekon.csv'\u001b[0m\u001b[0;34m,\u001b[0m \u001b[0mindex_col\u001b[0m\u001b[0;34m=\u001b[0m\u001b[0;36m0\u001b[0m\u001b[0;34m)\u001b[0m\u001b[0;34m\u001b[0m\u001b[0;34m\u001b[0m\u001b[0m\n",
      "\u001b[0;32m~/anaconda3/lib/python3.7/site-packages/pandas/io/parsers.py\u001b[0m in \u001b[0;36mparser_f\u001b[0;34m(filepath_or_buffer, sep, delimiter, header, names, index_col, usecols, squeeze, prefix, mangle_dupe_cols, dtype, engine, converters, true_values, false_values, skipinitialspace, skiprows, skipfooter, nrows, na_values, keep_default_na, na_filter, verbose, skip_blank_lines, parse_dates, infer_datetime_format, keep_date_col, date_parser, dayfirst, iterator, chunksize, compression, thousands, decimal, lineterminator, quotechar, quoting, doublequote, escapechar, comment, encoding, dialect, tupleize_cols, error_bad_lines, warn_bad_lines, delim_whitespace, low_memory, memory_map, float_precision)\u001b[0m\n\u001b[1;32m    700\u001b[0m                     skip_blank_lines=skip_blank_lines)\n\u001b[1;32m    701\u001b[0m \u001b[0;34m\u001b[0m\u001b[0m\n\u001b[0;32m--> 702\u001b[0;31m         \u001b[0;32mreturn\u001b[0m \u001b[0m_read\u001b[0m\u001b[0;34m(\u001b[0m\u001b[0mfilepath_or_buffer\u001b[0m\u001b[0;34m,\u001b[0m \u001b[0mkwds\u001b[0m\u001b[0;34m)\u001b[0m\u001b[0;34m\u001b[0m\u001b[0;34m\u001b[0m\u001b[0m\n\u001b[0m\u001b[1;32m    703\u001b[0m \u001b[0;34m\u001b[0m\u001b[0m\n\u001b[1;32m    704\u001b[0m     \u001b[0mparser_f\u001b[0m\u001b[0;34m.\u001b[0m\u001b[0m__name__\u001b[0m \u001b[0;34m=\u001b[0m \u001b[0mname\u001b[0m\u001b[0;34m\u001b[0m\u001b[0;34m\u001b[0m\u001b[0m\n",
      "\u001b[0;32m~/anaconda3/lib/python3.7/site-packages/pandas/io/parsers.py\u001b[0m in \u001b[0;36m_read\u001b[0;34m(filepath_or_buffer, kwds)\u001b[0m\n\u001b[1;32m    427\u001b[0m \u001b[0;34m\u001b[0m\u001b[0m\n\u001b[1;32m    428\u001b[0m     \u001b[0;31m# Create the parser.\u001b[0m\u001b[0;34m\u001b[0m\u001b[0;34m\u001b[0m\u001b[0;34m\u001b[0m\u001b[0m\n\u001b[0;32m--> 429\u001b[0;31m     \u001b[0mparser\u001b[0m \u001b[0;34m=\u001b[0m \u001b[0mTextFileReader\u001b[0m\u001b[0;34m(\u001b[0m\u001b[0mfilepath_or_buffer\u001b[0m\u001b[0;34m,\u001b[0m \u001b[0;34m**\u001b[0m\u001b[0mkwds\u001b[0m\u001b[0;34m)\u001b[0m\u001b[0;34m\u001b[0m\u001b[0;34m\u001b[0m\u001b[0m\n\u001b[0m\u001b[1;32m    430\u001b[0m \u001b[0;34m\u001b[0m\u001b[0m\n\u001b[1;32m    431\u001b[0m     \u001b[0;32mif\u001b[0m \u001b[0mchunksize\u001b[0m \u001b[0;32mor\u001b[0m \u001b[0miterator\u001b[0m\u001b[0;34m:\u001b[0m\u001b[0;34m\u001b[0m\u001b[0;34m\u001b[0m\u001b[0m\n",
      "\u001b[0;32m~/anaconda3/lib/python3.7/site-packages/pandas/io/parsers.py\u001b[0m in \u001b[0;36m__init__\u001b[0;34m(self, f, engine, **kwds)\u001b[0m\n\u001b[1;32m    893\u001b[0m             \u001b[0mself\u001b[0m\u001b[0;34m.\u001b[0m\u001b[0moptions\u001b[0m\u001b[0;34m[\u001b[0m\u001b[0;34m'has_index_names'\u001b[0m\u001b[0;34m]\u001b[0m \u001b[0;34m=\u001b[0m \u001b[0mkwds\u001b[0m\u001b[0;34m[\u001b[0m\u001b[0;34m'has_index_names'\u001b[0m\u001b[0;34m]\u001b[0m\u001b[0;34m\u001b[0m\u001b[0;34m\u001b[0m\u001b[0m\n\u001b[1;32m    894\u001b[0m \u001b[0;34m\u001b[0m\u001b[0m\n\u001b[0;32m--> 895\u001b[0;31m         \u001b[0mself\u001b[0m\u001b[0;34m.\u001b[0m\u001b[0m_make_engine\u001b[0m\u001b[0;34m(\u001b[0m\u001b[0mself\u001b[0m\u001b[0;34m.\u001b[0m\u001b[0mengine\u001b[0m\u001b[0;34m)\u001b[0m\u001b[0;34m\u001b[0m\u001b[0;34m\u001b[0m\u001b[0m\n\u001b[0m\u001b[1;32m    896\u001b[0m \u001b[0;34m\u001b[0m\u001b[0m\n\u001b[1;32m    897\u001b[0m     \u001b[0;32mdef\u001b[0m \u001b[0mclose\u001b[0m\u001b[0;34m(\u001b[0m\u001b[0mself\u001b[0m\u001b[0;34m)\u001b[0m\u001b[0;34m:\u001b[0m\u001b[0;34m\u001b[0m\u001b[0;34m\u001b[0m\u001b[0m\n",
      "\u001b[0;32m~/anaconda3/lib/python3.7/site-packages/pandas/io/parsers.py\u001b[0m in \u001b[0;36m_make_engine\u001b[0;34m(self, engine)\u001b[0m\n\u001b[1;32m   1120\u001b[0m     \u001b[0;32mdef\u001b[0m \u001b[0m_make_engine\u001b[0m\u001b[0;34m(\u001b[0m\u001b[0mself\u001b[0m\u001b[0;34m,\u001b[0m \u001b[0mengine\u001b[0m\u001b[0;34m=\u001b[0m\u001b[0;34m'c'\u001b[0m\u001b[0;34m)\u001b[0m\u001b[0;34m:\u001b[0m\u001b[0;34m\u001b[0m\u001b[0;34m\u001b[0m\u001b[0m\n\u001b[1;32m   1121\u001b[0m         \u001b[0;32mif\u001b[0m \u001b[0mengine\u001b[0m \u001b[0;34m==\u001b[0m \u001b[0;34m'c'\u001b[0m\u001b[0;34m:\u001b[0m\u001b[0;34m\u001b[0m\u001b[0;34m\u001b[0m\u001b[0m\n\u001b[0;32m-> 1122\u001b[0;31m             \u001b[0mself\u001b[0m\u001b[0;34m.\u001b[0m\u001b[0m_engine\u001b[0m \u001b[0;34m=\u001b[0m \u001b[0mCParserWrapper\u001b[0m\u001b[0;34m(\u001b[0m\u001b[0mself\u001b[0m\u001b[0;34m.\u001b[0m\u001b[0mf\u001b[0m\u001b[0;34m,\u001b[0m \u001b[0;34m**\u001b[0m\u001b[0mself\u001b[0m\u001b[0;34m.\u001b[0m\u001b[0moptions\u001b[0m\u001b[0;34m)\u001b[0m\u001b[0;34m\u001b[0m\u001b[0;34m\u001b[0m\u001b[0m\n\u001b[0m\u001b[1;32m   1123\u001b[0m         \u001b[0;32melse\u001b[0m\u001b[0;34m:\u001b[0m\u001b[0;34m\u001b[0m\u001b[0;34m\u001b[0m\u001b[0m\n\u001b[1;32m   1124\u001b[0m             \u001b[0;32mif\u001b[0m \u001b[0mengine\u001b[0m \u001b[0;34m==\u001b[0m \u001b[0;34m'python'\u001b[0m\u001b[0;34m:\u001b[0m\u001b[0;34m\u001b[0m\u001b[0;34m\u001b[0m\u001b[0m\n",
      "\u001b[0;32m~/anaconda3/lib/python3.7/site-packages/pandas/io/parsers.py\u001b[0m in \u001b[0;36m__init__\u001b[0;34m(self, src, **kwds)\u001b[0m\n\u001b[1;32m   1851\u001b[0m         \u001b[0mkwds\u001b[0m\u001b[0;34m[\u001b[0m\u001b[0;34m'usecols'\u001b[0m\u001b[0;34m]\u001b[0m \u001b[0;34m=\u001b[0m \u001b[0mself\u001b[0m\u001b[0;34m.\u001b[0m\u001b[0musecols\u001b[0m\u001b[0;34m\u001b[0m\u001b[0;34m\u001b[0m\u001b[0m\n\u001b[1;32m   1852\u001b[0m \u001b[0;34m\u001b[0m\u001b[0m\n\u001b[0;32m-> 1853\u001b[0;31m         \u001b[0mself\u001b[0m\u001b[0;34m.\u001b[0m\u001b[0m_reader\u001b[0m \u001b[0;34m=\u001b[0m \u001b[0mparsers\u001b[0m\u001b[0;34m.\u001b[0m\u001b[0mTextReader\u001b[0m\u001b[0;34m(\u001b[0m\u001b[0msrc\u001b[0m\u001b[0;34m,\u001b[0m \u001b[0;34m**\u001b[0m\u001b[0mkwds\u001b[0m\u001b[0;34m)\u001b[0m\u001b[0;34m\u001b[0m\u001b[0;34m\u001b[0m\u001b[0m\n\u001b[0m\u001b[1;32m   1854\u001b[0m         \u001b[0mself\u001b[0m\u001b[0;34m.\u001b[0m\u001b[0munnamed_cols\u001b[0m \u001b[0;34m=\u001b[0m \u001b[0mself\u001b[0m\u001b[0;34m.\u001b[0m\u001b[0m_reader\u001b[0m\u001b[0;34m.\u001b[0m\u001b[0munnamed_cols\u001b[0m\u001b[0;34m\u001b[0m\u001b[0;34m\u001b[0m\u001b[0m\n\u001b[1;32m   1855\u001b[0m \u001b[0;34m\u001b[0m\u001b[0m\n",
      "\u001b[0;32mpandas/_libs/parsers.pyx\u001b[0m in \u001b[0;36mpandas._libs.parsers.TextReader.__cinit__\u001b[0;34m()\u001b[0m\n",
      "\u001b[0;32mpandas/_libs/parsers.pyx\u001b[0m in \u001b[0;36mpandas._libs.parsers.TextReader._setup_parser_source\u001b[0;34m()\u001b[0m\n",
      "\u001b[0;31mFileNotFoundError\u001b[0m: [Errno 2] File b'datasets/podzielone/ekonometryczne/train_ekon.csv' does not exist: b'datasets/podzielone/ekonometryczne/train_ekon.csv'"
     ]
    }
   ],
   "source": [
    "train = pd.read_csv('datasets/podzielone/ekonometryczne/train_ekon.csv', index_col=0)\n",
    "val1 = pd.read_csv('datasets/podzielone/ekonometryczne/valid1_ekon.csv', index_col=0)\n",
    "val2 = pd.read_csv('datasets/podzielone/ekonometryczne/valid2_ekon.csv', index_col=0)\n",
    "val3 = pd.read_csv('datasets/podzielone/ekonometryczne/valid3_ekon.csv', index_col=0)\n",
    "test = pd.read_csv('datasets/podzielone/ekonometryczne/test_ekon.csv', index_col=0)\n",
    "\n",
    "train.index = pd.to_datetime(train.index)\n",
    "val1.index = pd.to_datetime(val1.index)\n",
    "val2.index = pd.to_datetime(val2.index)\n",
    "val3.index = pd.to_datetime(val3.index)\n",
    "test.index = pd.to_datetime(test.index)\n",
    "\n",
    "whole = pd.concat([train, val1, val2, val3, test])\n",
    "\n",
    "train1 = train.asfreq('B', method='bfill')\n",
    "train2 = pd.concat([train, val1]).asfreq('B', method='bfill')\n",
    "train3 = pd.concat([train, val1, val2]).asfreq('B', method='bfill')\n",
    "\n",
    "val1 = val1.asfreq('B', method='bfill')\n",
    "val2 = val2.asfreq('B', method='bfill')\n",
    "val3 = val3.asfreq('B', method='bfill')\n",
    "test = test.asfreq('B', method='bfill')"
   ]
  },
  {
   "cell_type": "code",
   "execution_count": null,
   "metadata": {
    "scrolled": true
   },
   "outputs": [],
   "source": [
    "display(train.head(3))\n",
    "display(val1.head(3))\n",
    "display(val2.head(3))\n",
    "display(val3.head(3))\n",
    "display(test.head(3))\n",
    "display(whole.head(3))"
   ]
  },
  {
   "cell_type": "markdown",
   "metadata": {},
   "source": [
    "# Testy stacjonarności"
   ]
  },
  {
   "cell_type": "markdown",
   "metadata": {},
   "source": [
    "## Trening 1"
   ]
  },
  {
   "cell_type": "code",
   "execution_count": null,
   "metadata": {},
   "outputs": [],
   "source": [
    "y_train = train1['return ratio']\n",
    "y_valid = val1['return ratio']\n",
    "plot_ts(y_train)"
   ]
  },
  {
   "cell_type": "code",
   "execution_count": null,
   "metadata": {},
   "outputs": [],
   "source": [
    "perform_dft(y_train)"
   ]
  },
  {
   "cell_type": "code",
   "execution_count": null,
   "metadata": {
    "scrolled": false
   },
   "outputs": [],
   "source": [
    "decompose(y_train)"
   ]
  },
  {
   "cell_type": "code",
   "execution_count": null,
   "metadata": {},
   "outputs": [],
   "source": [
    "plot_acf(y_train, lags=20, alpha=0.05)\n",
    "plot_pacf(y_train, lags=20, alpha=0.05)\n",
    "plt.show()"
   ]
  },
  {
   "cell_type": "code",
   "execution_count": null,
   "metadata": {
    "scrolled": true
   },
   "outputs": [],
   "source": [
    "pmax = 3\n",
    "qmax = 3\n",
    "d = 0\n",
    "\n",
    "best10, results = find_best_hparameters(y_train, pmax=pmax, qmax=qmax, d=d)\n",
    "print(best10)\n",
    "print(results)\n",
    "print('####################################################################')\n",
    "best, results = select_best_orders_from_best10(y_valid, best10)\n",
    "best_results['train1'] = results\n",
    "print(best)\n",
    "print(results)"
   ]
  },
  {
   "cell_type": "markdown",
   "metadata": {},
   "source": [
    "## Trening 2"
   ]
  },
  {
   "cell_type": "code",
   "execution_count": null,
   "metadata": {},
   "outputs": [],
   "source": [
    "y_train = train2['return ratio']\n",
    "y_valid = val2['return ratio']\n",
    "plot_ts(y_train)"
   ]
  },
  {
   "cell_type": "code",
   "execution_count": null,
   "metadata": {},
   "outputs": [],
   "source": [
    "perform_dft(y_train)"
   ]
  },
  {
   "cell_type": "code",
   "execution_count": null,
   "metadata": {
    "scrolled": false
   },
   "outputs": [],
   "source": [
    "decompose(y_train)"
   ]
  },
  {
   "cell_type": "code",
   "execution_count": null,
   "metadata": {},
   "outputs": [],
   "source": [
    "plot_acf(y_train, lags=20, alpha=0.05)\n",
    "plot_pacf(y_train, lags=20, alpha=0.05)\n",
    "plt.show()"
   ]
  },
  {
   "cell_type": "code",
   "execution_count": null,
   "metadata": {
    "scrolled": false
   },
   "outputs": [],
   "source": [
    "pmax = 3\n",
    "qmax = 3\n",
    "d = 0\n",
    "\n",
    "best10, results = find_best_hparameters(y_train, pmax=pmax, qmax=qmax, d=d)\n",
    "print(best10)\n",
    "print(results)\n",
    "print('###############################################')\n",
    "best, results = select_best_orders_from_best10(y_valid, best10)\n",
    "best_results['train2'] = results\n",
    "print(best)\n",
    "print(results)"
   ]
  },
  {
   "cell_type": "markdown",
   "metadata": {},
   "source": [
    "## Trening 3"
   ]
  },
  {
   "cell_type": "code",
   "execution_count": null,
   "metadata": {},
   "outputs": [],
   "source": [
    "y_train = train3['return ratio']\n",
    "y_valid = val3['return ratio']\n",
    "plot_ts(y_train)"
   ]
  },
  {
   "cell_type": "code",
   "execution_count": null,
   "metadata": {},
   "outputs": [],
   "source": [
    "perform_dft(y_train)"
   ]
  },
  {
   "cell_type": "code",
   "execution_count": null,
   "metadata": {
    "scrolled": false
   },
   "outputs": [],
   "source": [
    "decompose(y_train)"
   ]
  },
  {
   "cell_type": "code",
   "execution_count": null,
   "metadata": {},
   "outputs": [],
   "source": [
    "plot_acf(y_train, lags=20, alpha=0.05)\n",
    "plot_pacf(y_train, lags=20, alpha=0.05)\n",
    "plt.show()"
   ]
  },
  {
   "cell_type": "code",
   "execution_count": null,
   "metadata": {
    "scrolled": false
   },
   "outputs": [],
   "source": [
    "pmax = 3\n",
    "qmax = 3\n",
    "d = 0\n",
    "\n",
    "best10, results = find_best_hparameters(y_train, pmax=pmax, qmax=qmax, d=d)\n",
    "print(best10)\n",
    "print(results)\n",
    "print('########################################')\n",
    "best, results = select_best_orders_from_best10(y_valid, best10)\n",
    "best_results['train3'] = results\n",
    "print(best)\n",
    "print(results)"
   ]
  },
  {
   "cell_type": "markdown",
   "metadata": {},
   "source": [
    "## Wyniki selekcji"
   ]
  },
  {
   "cell_type": "code",
   "execution_count": null,
   "metadata": {
    "scrolled": false
   },
   "outputs": [],
   "source": [
    "print(best_results['train1'])"
   ]
  },
  {
   "cell_type": "code",
   "execution_count": null,
   "metadata": {},
   "outputs": [],
   "source": [
    "print(best_results['train2'])"
   ]
  },
  {
   "cell_type": "code",
   "execution_count": null,
   "metadata": {},
   "outputs": [],
   "source": [
    "print(best_results['train3'])"
   ]
  },
  {
   "cell_type": "code",
   "execution_count": null,
   "metadata": {},
   "outputs": [],
   "source": [
    "rmse_values_dict = {}\n",
    "for k, results in best_results.items():\n",
    "    for order, rmse_value in results:\n",
    "        rmse_values_dict[order] = [rmse_value] if order not in rmse_values_dict else rmse_values_dict[order] + [rmse_value]\n",
    "\n",
    "        \n",
    "chosen_one_list = []\n",
    "for k, v in rmse_values_dict.items():\n",
    "    if len(v) == 3:\n",
    "        chosen_one_list.append((k, np.mean(v)))\n",
    "        \n",
    "chosen_one_list.sort(key=lambda x: x[1])\n",
    "chosen_one_list"
   ]
  },
  {
   "cell_type": "markdown",
   "metadata": {},
   "source": [
    "# Testowanie"
   ]
  },
  {
   "cell_type": "code",
   "execution_count": null,
   "metadata": {},
   "outputs": [],
   "source": [
    "y_test = test['return ratio']\n",
    "best_of_the_best, results = test_orders(y_test, [order for order, rmse_value in chosen_one_list])\n",
    "print(results)"
   ]
  },
  {
   "cell_type": "code",
   "execution_count": null,
   "metadata": {
    "scrolled": false
   },
   "outputs": [],
   "source": [
    "show_est_plot(y_test, best_of_the_best, label=best_of_the_best)\n",
    "show_est_plot(y_test, (3, 0, 1), label=(3, 0, 1))\n",
    "show_est_plot(y_test, zero=True, label=\"Zero\")\n",
    "show_est_plot(y_test, naiwny=True, label=\"Naiwny\")"
   ]
  },
  {
   "cell_type": "code",
   "execution_count": null,
   "metadata": {},
   "outputs": [],
   "source": []
  }
 ],
 "metadata": {
  "kernelspec": {
   "display_name": "Python 3",
   "language": "python",
   "name": "python3"
  },
  "language_info": {
   "codemirror_mode": {
    "name": "ipython",
    "version": 3
   },
   "file_extension": ".py",
   "mimetype": "text/x-python",
   "name": "python",
   "nbconvert_exporter": "python",
   "pygments_lexer": "ipython3",
   "version": "3.7.1"
  }
 },
 "nbformat": 4,
 "nbformat_minor": 2
}
