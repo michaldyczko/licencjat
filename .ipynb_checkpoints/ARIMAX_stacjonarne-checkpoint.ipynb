{
 "cells": [
  {
   "cell_type": "markdown",
   "metadata": {},
   "source": [
    "# Biblioteki"
   ]
  },
  {
   "cell_type": "code",
   "execution_count": 1,
   "metadata": {},
   "outputs": [],
   "source": [
    "import numpy as np\n",
    "import pandas as pd\n",
    "import json\n",
    "pd.set_option('display.max_rows', 500)\n",
    "pd.set_option('display.max_columns', 500)\n",
    "pd.set_option('display.width', 1000)\n",
    "import matplotlib.pyplot as plt\n",
    "plt.style.use(\"bmh\")\n",
    "plt.rcParams['figure.figsize'] = [15, 10]\n",
    "from statsmodels.tsa.stattools import adfuller\n",
    "from statsmodels.tsa.stattools import acf, pacf\n",
    "from statsmodels.graphics.tsaplots import plot_acf, plot_pacf\n",
    "from statsmodels.tsa.seasonal import seasonal_decompose\n",
    "from statsmodels.tools.eval_measures import rmse\n",
    "from statsmodels.tsa.arima_model import ARIMA\n",
    "from statsmodels.tsa.statespace.sarimax import SARIMAX\n",
    "\n",
    "from sklearn.feature_selection import SelectFromModel\n",
    "from sklearn.linear_model import LassoCV, Lasso\n",
    "\n",
    "import itertools"
   ]
  },
  {
   "cell_type": "markdown",
   "metadata": {},
   "source": [
    "# Deklaracje"
   ]
  },
  {
   "cell_type": "code",
   "execution_count": 2,
   "metadata": {},
   "outputs": [],
   "source": [
    "def plot_ts(ts):\n",
    "    fig, ax = plt.subplots()\n",
    "    ts_roll_mean = ts.rolling(window=12).mean()\n",
    "    ts_roll_std = ts.rolling(window=12).std()\n",
    "    \n",
    "    ts.plot(color='blue', label='Original', use_index=False)\n",
    "    ts_roll_mean.plot(color='red', label=\"Rolling mean\", use_index=False)\n",
    "    ts_roll_std.plot(color='black', label=\"Rolling std\", use_index=False)\n",
    "    \n",
    "    ax.set_xticklabels(ts.index)\n",
    "    fig.autofmt_xdate()\n",
    "    \n",
    "    \n",
    "    plt.xlabel('Date')\n",
    "    plt.ylabel('Return ratio')\n",
    "    plt.show()\n",
    "    \n",
    "def perform_dft(ts):\n",
    "    #Perform Augmented Dickey–Fuller test:\n",
    "    print('Results of Dickey Fuller Test:')\n",
    "    dftest = adfuller(y_train, autolag='AIC')\n",
    "    add_col = []\n",
    "    values = list(dftest[0:4])\n",
    "    for key,value in dftest[4].items():\n",
    "        add_col.append('Critical Value (%s)'%key)\n",
    "        values.append(value)\n",
    "\n",
    "    dfoutput = pd.DataFrame(data = [values], index=['Wartość'], columns=['Test Statistic','p-value','#Lags Used','Number of Observations Used']+add_col)\n",
    "    display(dfoutput)\n",
    "\n",
    "def decompose(ts):\n",
    "    decomposition = seasonal_decompose(ts, freq=10) \n",
    "    decomposition.plot()\n",
    "    plt.show()\n",
    "    \n",
    "def find_best_hparameters(ts, x, pmax, d, qmax):\n",
    "    errors_dict = {}\n",
    "    rmse_value_list = []\n",
    "    order_list = []\n",
    "    for p in range(pmax+1):\n",
    "        for q in range(qmax+1):\n",
    "            order = (p,d,q)\n",
    "            try:\n",
    "                model = SARIMAX(ts, x, order=order, freq='B', trend='c')\n",
    "                results = model.fit()\n",
    "                rmse_value = rmse(results.fittedvalues, ts)\n",
    "                rmse_value_list.append(rmse_value)\n",
    "                order_list.append(order)\n",
    "            except Exception as e:\n",
    "                errors_dict[str(order)] = {'error_str': str(e)}\n",
    "    \n",
    "    errors = pd.DataFrame.from_dict(errors_dict, orient='index')\n",
    "    display(errors)\n",
    "    \n",
    "    results = sorted([(order, rmse_value) for order, rmse_value in zip(order_list, rmse_value_list)], key = lambda x: x[1])\n",
    "    best10 = tuple(order for order, rmse_value in results[:10])\n",
    "    return best10, results\n",
    "\n",
    "# def find_best_extra_vars(ts, x_array, order, n_max=4):\n",
    "#     errors_dict = {}\n",
    "#     rmse_value_list = []\n",
    "#     order_list = []\n",
    "#     for i in range(2, n_max+1):\n",
    "#         print(i)\n",
    "#         try:\n",
    "#             model = SARIMAX(ts, order=order, freq='B')\n",
    "#             results = model.fit()\n",
    "#             rmse_value = rmse(results.fittedvalues, ts)\n",
    "#             rmse_value_list.append(rmse_value)\n",
    "#             order_list.append(order)\n",
    "#         except Exception as e:\n",
    "#             errors_dict[str(order)] = {'error_str': str(e)}\n",
    "    \n",
    "#     errors = pd.DataFrame.from_dict(errors_dict, orient='index')\n",
    "#     display(errors)\n",
    "    \n",
    "#     results = sorted([(order, rmse_value) for order, rmse_value in zip(order_list, rmse_value_list)], key = lambda x: x[1])\n",
    "#     best10 = tuple(order for order, rmse_value in results[:10])\n",
    "#     return best10, results\n",
    "\n",
    "def select_best_orders_from_best10(ts, x, best10):\n",
    "    errors_dict = {}\n",
    "    rmse_value_list = []\n",
    "    order_list = []\n",
    "    for order in best10:\n",
    "        try:\n",
    "            model = SARIMAX(ts, x, order=order, freq='B', trend='c')\n",
    "            results = model.fit()\n",
    "            rmse_value = rmse(results.fittedvalues, ts)\n",
    "            rmse_value_list.append(rmse_value)\n",
    "            order_list.append(order)\n",
    "        except Exception as e:\n",
    "            errors_dict[str(order)] = {'error_str': str(e)}\n",
    "            \n",
    "    errors = pd.DataFrame.from_dict(errors_dict, orient='index')\n",
    "    display(errors)\n",
    "    \n",
    "    results = sorted([(order, rmse_value) for order, rmse_value in zip(order_list, rmse_value_list)], key = lambda x: x[1])\n",
    "    best = results[0][0]\n",
    "    return best, results\n",
    "\n",
    "def test_orders(ts, orders):\n",
    "    errors_dict = {}\n",
    "    rmse_value_list = []\n",
    "    order_list = []\n",
    "    for order in orders:\n",
    "        try:\n",
    "            model = ARIMA(ts, order=order, freq='B')\n",
    "            results = model.fit()\n",
    "            rmse_value = rmse(results.fittedvalues, ts)\n",
    "            rmse_value_list.append(rmse_value)\n",
    "            order_list.append(order)\n",
    "        except Exception as e:\n",
    "            errors_dict[str(order)] = {'error_str': str(e)}\n",
    "            \n",
    "    errors = pd.DataFrame.from_dict(errors_dict, orient='index')\n",
    "    display(errors)\n",
    "    \n",
    "    results = sorted([(order, rmse_value) for order, rmse_value in zip(order_list, rmse_value_list)], key = lambda x: x[1])\n",
    "    best = results[0][0]\n",
    "    return best, results\n",
    "\n",
    "def show_est_plot(ts, x_array=None, order=None, zero=False, naiwny=False, label=\"Wykres\"):\n",
    "    if zero == True:\n",
    "        z = [0]*len(ts)\n",
    "        rmse_value = rmse(ts, z)\n",
    "        plt.plot(ts.index, z, label=\"Zero\", color='red')\n",
    "        plt.plot(ts.index, ts, label=label, color='blue')\n",
    "        plt.title(f'{label} (RMSE: {rmse_value})')\n",
    "        plt.show()\n",
    "    elif naiwny == True:\n",
    "        rmse_value = rmse(ts[1:], ts.shift()[1:])\n",
    "        plt.plot(ts[1:].index, ts.shift()[1:], label=\"Naiwny\", color='red')\n",
    "        plt.plot(ts[1:].index, ts[1:], label=label, color='blue')\n",
    "        plt.title(f'{label} (RMSE: {rmse_value})')\n",
    "        plt.show()\n",
    "    else:\n",
    "        model = SARIMAX(ts, x_array, order=order, freq='B', trend='c')\n",
    "        results = model.fit()\n",
    "        rmse_value = rmse(results.fittedvalues, ts)\n",
    "        plt.plot(ts.index, results.fittedvalues, label=label, color='red')\n",
    "        plt.plot(ts.index, ts, label=label, color='blue')\n",
    "        plt.title(f'{label} (RMSE: {rmse_value})')\n",
    "        plt.show()\n",
    "        "
   ]
  },
  {
   "cell_type": "code",
   "execution_count": 3,
   "metadata": {},
   "outputs": [],
   "source": [
    "best_results = {}"
   ]
  },
  {
   "cell_type": "markdown",
   "metadata": {},
   "source": [
    "# Wczytanie zbiorów"
   ]
  },
  {
   "cell_type": "code",
   "execution_count": 4,
   "metadata": {},
   "outputs": [
    {
     "data": {
      "text/html": [
       "<div>\n",
       "<style scoped>\n",
       "    .dataframe tbody tr th:only-of-type {\n",
       "        vertical-align: middle;\n",
       "    }\n",
       "\n",
       "    .dataframe tbody tr th {\n",
       "        vertical-align: top;\n",
       "    }\n",
       "\n",
       "    .dataframe thead th {\n",
       "        text-align: right;\n",
       "    }\n",
       "</style>\n",
       "<table border=\"1\" class=\"dataframe\">\n",
       "  <thead>\n",
       "    <tr style=\"text-align: right;\">\n",
       "      <th></th>\n",
       "      <th>y_return_ratio</th>\n",
       "      <th>TensorFlow__diff_1_shift_4</th>\n",
       "      <th>deep learning__diff_1_shift_4</th>\n",
       "      <th>Artificial Intelligence__diff_1_shift_19</th>\n",
       "      <th>Machine Learning__diff_1_shift_4</th>\n",
       "      <th>neural network__diff_1_shift_9</th>\n",
       "      <th>MXNet__diff_1_shift_9</th>\n",
       "      <th>blockchain_news_diff_1_shift_4</th>\n",
       "      <th>GPU_news_diff_1_shift_17</th>\n",
       "      <th>gaming_news_diff_1_shift_2</th>\n",
       "      <th>SandP_diff_1</th>\n",
       "      <th>NasdaqTech_diff_1</th>\n",
       "      <th>ATVI_gaming_diff_1</th>\n",
       "      <th>TTWO_gaming_diff_1</th>\n",
       "      <th>UBSFY_gaming_diff_1</th>\n",
       "      <th>fps_transformed_ffill_diff_1_shift_2</th>\n",
       "      <th>fps_transformed_interpolated_diff_1_shift_2</th>\n",
       "      <th>fps_interpolated_transformed_diff_1_shift_2</th>\n",
       "      <th>PLUS_DM_diff_1</th>\n",
       "      <th>MINUS_DM_diff_1_shift_8</th>\n",
       "      <th>AD_diff_1</th>\n",
       "      <th>OBV_diff_1</th>\n",
       "      <th>MIDPOINT_diff_1</th>\n",
       "      <th>MIDPRICE_diff_1</th>\n",
       "      <th>SAR_diff_1_shift_13</th>\n",
       "      <th>TEMA_diff_1</th>\n",
       "      <th>AVGPRICE_diff_1</th>\n",
       "      <th>MEDPRICE_diff_1</th>\n",
       "      <th>TYPPRICE_diff_1</th>\n",
       "      <th>WCLPRICE_diff_1</th>\n",
       "      <th>LINEARREG_diff_1</th>\n",
       "      <th>TSF_diff_1</th>\n",
       "      <th>ADD_diff_1</th>\n",
       "      <th>MAX_diff_1</th>\n",
       "      <th>MAXINDEX_diff_1</th>\n",
       "      <th>MIN_diff_1</th>\n",
       "      <th>MININDEX_diff_1_shift_19</th>\n",
       "      <th>MULT_diff_1</th>\n",
       "      <th>ATAN_diff_1</th>\n",
       "      <th>CEIL_diff_1</th>\n",
       "      <th>FLOOR_diff_1</th>\n",
       "      <th>LN_diff_1</th>\n",
       "      <th>LOG10_diff_1</th>\n",
       "      <th>SQRT_diff_1</th>\n",
       "      <th>ATVI_gaming_rr</th>\n",
       "      <th>TTWO_gaming_rr</th>\n",
       "      <th>AMD_rr</th>\n",
       "      <th>SandP_rr</th>\n",
       "      <th>NasdaqTech_rr</th>\n",
       "    </tr>\n",
       "  </thead>\n",
       "  <tbody>\n",
       "    <tr>\n",
       "      <th>2012-07-02</th>\n",
       "      <td>-0.026773</td>\n",
       "      <td>0.0</td>\n",
       "      <td>0.100000</td>\n",
       "      <td>-0.100000</td>\n",
       "      <td>0.0</td>\n",
       "      <td>-0.3</td>\n",
       "      <td>0.0</td>\n",
       "      <td>0.0</td>\n",
       "      <td>0.066667</td>\n",
       "      <td>0.066667</td>\n",
       "      <td>15.859985</td>\n",
       "      <td>25.600036</td>\n",
       "      <td>0.325</td>\n",
       "      <td>0.140</td>\n",
       "      <td>0.0</td>\n",
       "      <td>0.0</td>\n",
       "      <td>3.075789e-07</td>\n",
       "      <td>3.361222e-07</td>\n",
       "      <td>0.389983</td>\n",
       "      <td>-0.092406</td>\n",
       "      <td>1.242960e+07</td>\n",
       "      <td>15412700.0</td>\n",
       "      <td>0.185</td>\n",
       "      <td>0.075</td>\n",
       "      <td>0.022000</td>\n",
       "      <td>0.198235</td>\n",
       "      <td>0.5675</td>\n",
       "      <td>0.580</td>\n",
       "      <td>0.580000</td>\n",
       "      <td>0.5800</td>\n",
       "      <td>0.222286</td>\n",
       "      <td>0.239341</td>\n",
       "      <td>1.16</td>\n",
       "      <td>0.37</td>\n",
       "      <td>7.0</td>\n",
       "      <td>0.0</td>\n",
       "      <td>1.0</td>\n",
       "      <td>15.5678</td>\n",
       "      <td>0.003153</td>\n",
       "      <td>0.0</td>\n",
       "      <td>0.0</td>\n",
       "      <td>0.042874</td>\n",
       "      <td>0.018620</td>\n",
       "      <td>0.078845</td>\n",
       "      <td>0.028212</td>\n",
       "      <td>0.015062</td>\n",
       "      <td>0.042357</td>\n",
       "      <td>0.011922</td>\n",
       "      <td>0.019487</td>\n",
       "    </tr>\n",
       "    <tr>\n",
       "      <th>2012-07-03</th>\n",
       "      <td>0.026022</td>\n",
       "      <td>0.0</td>\n",
       "      <td>0.033333</td>\n",
       "      <td>-0.033333</td>\n",
       "      <td>0.0</td>\n",
       "      <td>-0.1</td>\n",
       "      <td>0.0</td>\n",
       "      <td>0.0</td>\n",
       "      <td>0.066667</td>\n",
       "      <td>0.066667</td>\n",
       "      <td>17.779968</td>\n",
       "      <td>15.065002</td>\n",
       "      <td>0.125</td>\n",
       "      <td>0.005</td>\n",
       "      <td>0.0</td>\n",
       "      <td>0.0</td>\n",
       "      <td>3.075789e-07</td>\n",
       "      <td>3.415669e-07</td>\n",
       "      <td>-0.167873</td>\n",
       "      <td>-0.085806</td>\n",
       "      <td>-8.829132e+06</td>\n",
       "      <td>-14542100.0</td>\n",
       "      <td>0.000</td>\n",
       "      <td>0.025</td>\n",
       "      <td>0.021560</td>\n",
       "      <td>0.105371</td>\n",
       "      <td>-0.0450</td>\n",
       "      <td>-0.075</td>\n",
       "      <td>-0.173333</td>\n",
       "      <td>-0.2225</td>\n",
       "      <td>0.118286</td>\n",
       "      <td>0.126154</td>\n",
       "      <td>-0.15</td>\n",
       "      <td>0.00</td>\n",
       "      <td>0.0</td>\n",
       "      <td>0.0</td>\n",
       "      <td>0.0</td>\n",
       "      <td>-2.1030</td>\n",
       "      <td>-0.001980</td>\n",
       "      <td>0.0</td>\n",
       "      <td>0.0</td>\n",
       "      <td>-0.027138</td>\n",
       "      <td>-0.011786</td>\n",
       "      <td>-0.050102</td>\n",
       "      <td>0.010553</td>\n",
       "      <td>0.000530</td>\n",
       "      <td>0.015901</td>\n",
       "      <td>0.013208</td>\n",
       "      <td>0.011249</td>\n",
       "    </tr>\n",
       "    <tr>\n",
       "      <th>2012-07-05</th>\n",
       "      <td>-0.010145</td>\n",
       "      <td>0.0</td>\n",
       "      <td>0.033333</td>\n",
       "      <td>-0.033333</td>\n",
       "      <td>0.0</td>\n",
       "      <td>-0.1</td>\n",
       "      <td>0.0</td>\n",
       "      <td>0.0</td>\n",
       "      <td>0.066667</td>\n",
       "      <td>0.066667</td>\n",
       "      <td>5.965027</td>\n",
       "      <td>3.634949</td>\n",
       "      <td>0.255</td>\n",
       "      <td>0.165</td>\n",
       "      <td>0.0</td>\n",
       "      <td>0.0</td>\n",
       "      <td>3.075789e-07</td>\n",
       "      <td>3.471299e-07</td>\n",
       "      <td>-0.155882</td>\n",
       "      <td>0.400323</td>\n",
       "      <td>4.638700e+06</td>\n",
       "      <td>5482100.0</td>\n",
       "      <td>0.000</td>\n",
       "      <td>0.000</td>\n",
       "      <td>0.021129</td>\n",
       "      <td>0.154290</td>\n",
       "      <td>-0.0150</td>\n",
       "      <td>0.015</td>\n",
       "      <td>0.126667</td>\n",
       "      <td>0.1825</td>\n",
       "      <td>0.134286</td>\n",
       "      <td>0.137143</td>\n",
       "      <td>0.03</td>\n",
       "      <td>0.00</td>\n",
       "      <td>0.0</td>\n",
       "      <td>0.0</td>\n",
       "      <td>0.0</td>\n",
       "      <td>0.4492</td>\n",
       "      <td>0.001876</td>\n",
       "      <td>0.0</td>\n",
       "      <td>0.0</td>\n",
       "      <td>0.025689</td>\n",
       "      <td>0.011157</td>\n",
       "      <td>0.047411</td>\n",
       "      <td>0.021303</td>\n",
       "      <td>0.017479</td>\n",
       "      <td>0.026957</td>\n",
       "      <td>0.004373</td>\n",
       "      <td>0.002684</td>\n",
       "    </tr>\n",
       "  </tbody>\n",
       "</table>\n",
       "</div>"
      ],
      "text/plain": [
       "            y_return_ratio  TensorFlow__diff_1_shift_4  deep learning__diff_1_shift_4  Artificial Intelligence__diff_1_shift_19  Machine Learning__diff_1_shift_4  neural network__diff_1_shift_9  MXNet__diff_1_shift_9  blockchain_news_diff_1_shift_4  GPU_news_diff_1_shift_17  gaming_news_diff_1_shift_2  SandP_diff_1  NasdaqTech_diff_1  ATVI_gaming_diff_1  TTWO_gaming_diff_1  UBSFY_gaming_diff_1  fps_transformed_ffill_diff_1_shift_2  fps_transformed_interpolated_diff_1_shift_2  fps_interpolated_transformed_diff_1_shift_2  PLUS_DM_diff_1  MINUS_DM_diff_1_shift_8     AD_diff_1  OBV_diff_1  MIDPOINT_diff_1  MIDPRICE_diff_1  SAR_diff_1_shift_13  TEMA_diff_1  AVGPRICE_diff_1  MEDPRICE_diff_1  TYPPRICE_diff_1  WCLPRICE_diff_1  LINEARREG_diff_1  TSF_diff_1  ADD_diff_1  MAX_diff_1  MAXINDEX_diff_1  MIN_diff_1  MININDEX_diff_1_shift_19  MULT_diff_1  ATAN_diff_1  CEIL_diff_1  FLOOR_diff_1  LN_diff_1  LOG10_diff_1  SQRT_diff_1  ATVI_gaming_rr  TTWO_gaming_rr    AMD_rr  SandP_rr  NasdaqTech_rr\n",
       "2012-07-02       -0.026773                         0.0                       0.100000                                 -0.100000                               0.0                            -0.3                    0.0                             0.0                  0.066667                    0.066667     15.859985          25.600036               0.325               0.140                  0.0                                   0.0                                 3.075789e-07                                 3.361222e-07        0.389983                -0.092406  1.242960e+07  15412700.0            0.185            0.075             0.022000     0.198235           0.5675            0.580         0.580000           0.5800          0.222286    0.239341        1.16        0.37              7.0         0.0                       1.0      15.5678     0.003153          0.0           0.0   0.042874      0.018620     0.078845        0.028212        0.015062  0.042357  0.011922       0.019487\n",
       "2012-07-03        0.026022                         0.0                       0.033333                                 -0.033333                               0.0                            -0.1                    0.0                             0.0                  0.066667                    0.066667     17.779968          15.065002               0.125               0.005                  0.0                                   0.0                                 3.075789e-07                                 3.415669e-07       -0.167873                -0.085806 -8.829132e+06 -14542100.0            0.000            0.025             0.021560     0.105371          -0.0450           -0.075        -0.173333          -0.2225          0.118286    0.126154       -0.15        0.00              0.0         0.0                       0.0      -2.1030    -0.001980          0.0           0.0  -0.027138     -0.011786    -0.050102        0.010553        0.000530  0.015901  0.013208       0.011249\n",
       "2012-07-05       -0.010145                         0.0                       0.033333                                 -0.033333                               0.0                            -0.1                    0.0                             0.0                  0.066667                    0.066667      5.965027           3.634949               0.255               0.165                  0.0                                   0.0                                 3.075789e-07                                 3.471299e-07       -0.155882                 0.400323  4.638700e+06   5482100.0            0.000            0.000             0.021129     0.154290          -0.0150            0.015         0.126667           0.1825          0.134286    0.137143        0.03        0.00              0.0         0.0                       0.0       0.4492     0.001876          0.0           0.0   0.025689      0.011157     0.047411        0.021303        0.017479  0.026957  0.004373       0.002684"
      ]
     },
     "metadata": {},
     "output_type": "display_data"
    },
    {
     "data": {
      "text/html": [
       "<div>\n",
       "<style scoped>\n",
       "    .dataframe tbody tr th:only-of-type {\n",
       "        vertical-align: middle;\n",
       "    }\n",
       "\n",
       "    .dataframe tbody tr th {\n",
       "        vertical-align: top;\n",
       "    }\n",
       "\n",
       "    .dataframe thead th {\n",
       "        text-align: right;\n",
       "    }\n",
       "</style>\n",
       "<table border=\"1\" class=\"dataframe\">\n",
       "  <thead>\n",
       "    <tr style=\"text-align: right;\">\n",
       "      <th></th>\n",
       "      <th>y_return_ratio</th>\n",
       "      <th>TensorFlow__diff_1_shift_4</th>\n",
       "      <th>deep learning__diff_1_shift_4</th>\n",
       "      <th>Artificial Intelligence__diff_1_shift_19</th>\n",
       "      <th>Machine Learning__diff_1_shift_4</th>\n",
       "      <th>neural network__diff_1_shift_9</th>\n",
       "      <th>MXNet__diff_1_shift_9</th>\n",
       "      <th>blockchain_news_diff_1_shift_4</th>\n",
       "      <th>GPU_news_diff_1_shift_17</th>\n",
       "      <th>gaming_news_diff_1_shift_2</th>\n",
       "      <th>SandP_diff_1</th>\n",
       "      <th>NasdaqTech_diff_1</th>\n",
       "      <th>ATVI_gaming_diff_1</th>\n",
       "      <th>TTWO_gaming_diff_1</th>\n",
       "      <th>UBSFY_gaming_diff_1</th>\n",
       "      <th>fps_transformed_ffill_diff_1_shift_2</th>\n",
       "      <th>fps_transformed_interpolated_diff_1_shift_2</th>\n",
       "      <th>fps_interpolated_transformed_diff_1_shift_2</th>\n",
       "      <th>PLUS_DM_diff_1</th>\n",
       "      <th>MINUS_DM_diff_1_shift_8</th>\n",
       "      <th>AD_diff_1</th>\n",
       "      <th>OBV_diff_1</th>\n",
       "      <th>MIDPOINT_diff_1</th>\n",
       "      <th>MIDPRICE_diff_1</th>\n",
       "      <th>SAR_diff_1_shift_13</th>\n",
       "      <th>TEMA_diff_1</th>\n",
       "      <th>AVGPRICE_diff_1</th>\n",
       "      <th>MEDPRICE_diff_1</th>\n",
       "      <th>TYPPRICE_diff_1</th>\n",
       "      <th>WCLPRICE_diff_1</th>\n",
       "      <th>LINEARREG_diff_1</th>\n",
       "      <th>TSF_diff_1</th>\n",
       "      <th>ADD_diff_1</th>\n",
       "      <th>MAX_diff_1</th>\n",
       "      <th>MAXINDEX_diff_1</th>\n",
       "      <th>MIN_diff_1</th>\n",
       "      <th>MININDEX_diff_1_shift_19</th>\n",
       "      <th>MULT_diff_1</th>\n",
       "      <th>ATAN_diff_1</th>\n",
       "      <th>CEIL_diff_1</th>\n",
       "      <th>FLOOR_diff_1</th>\n",
       "      <th>LN_diff_1</th>\n",
       "      <th>LOG10_diff_1</th>\n",
       "      <th>SQRT_diff_1</th>\n",
       "      <th>ATVI_gaming_rr</th>\n",
       "      <th>TTWO_gaming_rr</th>\n",
       "      <th>AMD_rr</th>\n",
       "      <th>SandP_rr</th>\n",
       "      <th>NasdaqTech_rr</th>\n",
       "    </tr>\n",
       "  </thead>\n",
       "  <tbody>\n",
       "    <tr>\n",
       "      <th>2018-01-02</th>\n",
       "      <td>0.030233</td>\n",
       "      <td>-0.032258</td>\n",
       "      <td>0.096774</td>\n",
       "      <td>-0.466667</td>\n",
       "      <td>0.129032</td>\n",
       "      <td>-0.161290</td>\n",
       "      <td>-0.451613</td>\n",
       "      <td>0.096774</td>\n",
       "      <td>0.612903</td>\n",
       "      <td>0.322581</td>\n",
       "      <td>-5.440064</td>\n",
       "      <td>-21.635009</td>\n",
       "      <td>0.084999</td>\n",
       "      <td>0.645001</td>\n",
       "      <td>-0.115</td>\n",
       "      <td>0.0</td>\n",
       "      <td>0.0</td>\n",
       "      <td>0.0</td>\n",
       "      <td>-1.011151</td>\n",
       "      <td>-1.941051</td>\n",
       "      <td>-6.999100e+06</td>\n",
       "      <td>-6999100.0</td>\n",
       "      <td>0.000000</td>\n",
       "      <td>0.000000</td>\n",
       "      <td>-1.752900</td>\n",
       "      <td>-0.311129</td>\n",
       "      <td>-2.034996</td>\n",
       "      <td>-2.284996</td>\n",
       "      <td>-2.823329</td>\n",
       "      <td>-3.092495</td>\n",
       "      <td>-0.463713</td>\n",
       "      <td>-0.557142</td>\n",
       "      <td>-4.569992</td>\n",
       "      <td>0.0</td>\n",
       "      <td>0.0</td>\n",
       "      <td>0.0</td>\n",
       "      <td>0.0</td>\n",
       "      <td>-905.755435</td>\n",
       "      <td>-0.000102</td>\n",
       "      <td>-4.0</td>\n",
       "      <td>-4.0</td>\n",
       "      <td>-0.019955</td>\n",
       "      <td>-0.008666</td>\n",
       "      <td>-0.139483</td>\n",
       "      <td>0.001341</td>\n",
       "      <td>0.005920</td>\n",
       "      <td>-0.012784</td>\n",
       "      <td>-0.002025</td>\n",
       "      <td>-0.005463</td>\n",
       "    </tr>\n",
       "    <tr>\n",
       "      <th>2018-01-03</th>\n",
       "      <td>0.065814</td>\n",
       "      <td>-0.129032</td>\n",
       "      <td>0.387097</td>\n",
       "      <td>2.129032</td>\n",
       "      <td>0.516129</td>\n",
       "      <td>-0.483871</td>\n",
       "      <td>-1.354839</td>\n",
       "      <td>0.387097</td>\n",
       "      <td>0.612903</td>\n",
       "      <td>0.322581</td>\n",
       "      <td>8.390015</td>\n",
       "      <td>30.989991</td>\n",
       "      <td>0.470000</td>\n",
       "      <td>1.864998</td>\n",
       "      <td>-0.010</td>\n",
       "      <td>0.0</td>\n",
       "      <td>0.0</td>\n",
       "      <td>0.0</td>\n",
       "      <td>0.101067</td>\n",
       "      <td>-1.802405</td>\n",
       "      <td>8.356997e+06</td>\n",
       "      <td>8890400.0</td>\n",
       "      <td>0.725006</td>\n",
       "      <td>0.000000</td>\n",
       "      <td>-1.647726</td>\n",
       "      <td>0.807774</td>\n",
       "      <td>1.302498</td>\n",
       "      <td>1.019997</td>\n",
       "      <td>2.630000</td>\n",
       "      <td>3.435001</td>\n",
       "      <td>1.436002</td>\n",
       "      <td>1.605387</td>\n",
       "      <td>2.039993</td>\n",
       "      <td>0.0</td>\n",
       "      <td>0.0</td>\n",
       "      <td>0.0</td>\n",
       "      <td>27.0</td>\n",
       "      <td>400.738646</td>\n",
       "      <td>0.000152</td>\n",
       "      <td>6.0</td>\n",
       "      <td>6.0</td>\n",
       "      <td>0.029785</td>\n",
       "      <td>0.012935</td>\n",
       "      <td>0.208708</td>\n",
       "      <td>0.007407</td>\n",
       "      <td>0.017018</td>\n",
       "      <td>0.026379</td>\n",
       "      <td>0.003129</td>\n",
       "      <td>0.007868</td>\n",
       "    </tr>\n",
       "    <tr>\n",
       "      <th>2018-01-04</th>\n",
       "      <td>0.005271</td>\n",
       "      <td>-0.032258</td>\n",
       "      <td>0.096774</td>\n",
       "      <td>0.709677</td>\n",
       "      <td>0.129032</td>\n",
       "      <td>-0.161290</td>\n",
       "      <td>-0.451613</td>\n",
       "      <td>0.096774</td>\n",
       "      <td>0.612903</td>\n",
       "      <td>0.322581</td>\n",
       "      <td>15.685059</td>\n",
       "      <td>53.874999</td>\n",
       "      <td>1.005001</td>\n",
       "      <td>2.220001</td>\n",
       "      <td>0.430</td>\n",
       "      <td>0.0</td>\n",
       "      <td>0.0</td>\n",
       "      <td>0.0</td>\n",
       "      <td>13.253852</td>\n",
       "      <td>-1.263657</td>\n",
       "      <td>1.721392e+07</td>\n",
       "      <td>22867600.0</td>\n",
       "      <td>6.559997</td>\n",
       "      <td>6.864998</td>\n",
       "      <td>-1.548863</td>\n",
       "      <td>3.104048</td>\n",
       "      <td>11.222500</td>\n",
       "      <td>11.724998</td>\n",
       "      <td>12.189997</td>\n",
       "      <td>12.422497</td>\n",
       "      <td>4.130000</td>\n",
       "      <td>4.527692</td>\n",
       "      <td>23.449997</td>\n",
       "      <td>0.0</td>\n",
       "      <td>0.0</td>\n",
       "      <td>0.0</td>\n",
       "      <td>0.0</td>\n",
       "      <td>4738.624389</td>\n",
       "      <td>0.000310</td>\n",
       "      <td>13.0</td>\n",
       "      <td>13.0</td>\n",
       "      <td>0.063739</td>\n",
       "      <td>0.027681</td>\n",
       "      <td>0.457215</td>\n",
       "      <td>0.015722</td>\n",
       "      <td>0.019918</td>\n",
       "      <td>0.082243</td>\n",
       "      <td>0.005831</td>\n",
       "      <td>0.013572</td>\n",
       "    </tr>\n",
       "  </tbody>\n",
       "</table>\n",
       "</div>"
      ],
      "text/plain": [
       "            y_return_ratio  TensorFlow__diff_1_shift_4  deep learning__diff_1_shift_4  Artificial Intelligence__diff_1_shift_19  Machine Learning__diff_1_shift_4  neural network__diff_1_shift_9  MXNet__diff_1_shift_9  blockchain_news_diff_1_shift_4  GPU_news_diff_1_shift_17  gaming_news_diff_1_shift_2  SandP_diff_1  NasdaqTech_diff_1  ATVI_gaming_diff_1  TTWO_gaming_diff_1  UBSFY_gaming_diff_1  fps_transformed_ffill_diff_1_shift_2  fps_transformed_interpolated_diff_1_shift_2  fps_interpolated_transformed_diff_1_shift_2  PLUS_DM_diff_1  MINUS_DM_diff_1_shift_8     AD_diff_1  OBV_diff_1  MIDPOINT_diff_1  MIDPRICE_diff_1  SAR_diff_1_shift_13  TEMA_diff_1  AVGPRICE_diff_1  MEDPRICE_diff_1  TYPPRICE_diff_1  WCLPRICE_diff_1  LINEARREG_diff_1  TSF_diff_1  ADD_diff_1  MAX_diff_1  MAXINDEX_diff_1  MIN_diff_1  MININDEX_diff_1_shift_19  MULT_diff_1  ATAN_diff_1  CEIL_diff_1  FLOOR_diff_1  LN_diff_1  LOG10_diff_1  SQRT_diff_1  ATVI_gaming_rr  TTWO_gaming_rr    AMD_rr  SandP_rr  NasdaqTech_rr\n",
       "2018-01-02        0.030233                   -0.032258                       0.096774                                 -0.466667                          0.129032                       -0.161290              -0.451613                        0.096774                  0.612903                    0.322581     -5.440064         -21.635009            0.084999            0.645001               -0.115                                   0.0                                          0.0                                          0.0       -1.011151                -1.941051 -6.999100e+06  -6999100.0         0.000000         0.000000            -1.752900    -0.311129        -2.034996        -2.284996        -2.823329        -3.092495         -0.463713   -0.557142   -4.569992         0.0              0.0         0.0                       0.0  -905.755435    -0.000102         -4.0          -4.0  -0.019955     -0.008666    -0.139483        0.001341        0.005920 -0.012784 -0.002025      -0.005463\n",
       "2018-01-03        0.065814                   -0.129032                       0.387097                                  2.129032                          0.516129                       -0.483871              -1.354839                        0.387097                  0.612903                    0.322581      8.390015          30.989991            0.470000            1.864998               -0.010                                   0.0                                          0.0                                          0.0        0.101067                -1.802405  8.356997e+06   8890400.0         0.725006         0.000000            -1.647726     0.807774         1.302498         1.019997         2.630000         3.435001          1.436002    1.605387    2.039993         0.0              0.0         0.0                      27.0   400.738646     0.000152          6.0           6.0   0.029785      0.012935     0.208708        0.007407        0.017018  0.026379  0.003129       0.007868\n",
       "2018-01-04        0.005271                   -0.032258                       0.096774                                  0.709677                          0.129032                       -0.161290              -0.451613                        0.096774                  0.612903                    0.322581     15.685059          53.874999            1.005001            2.220001                0.430                                   0.0                                          0.0                                          0.0       13.253852                -1.263657  1.721392e+07  22867600.0         6.559997         6.864998            -1.548863     3.104048        11.222500        11.724998        12.189997        12.422497          4.130000    4.527692   23.449997         0.0              0.0         0.0                       0.0  4738.624389     0.000310         13.0          13.0   0.063739      0.027681     0.457215        0.015722        0.019918  0.082243  0.005831       0.013572"
      ]
     },
     "metadata": {},
     "output_type": "display_data"
    },
    {
     "data": {
      "text/html": [
       "<div>\n",
       "<style scoped>\n",
       "    .dataframe tbody tr th:only-of-type {\n",
       "        vertical-align: middle;\n",
       "    }\n",
       "\n",
       "    .dataframe tbody tr th {\n",
       "        vertical-align: top;\n",
       "    }\n",
       "\n",
       "    .dataframe thead th {\n",
       "        text-align: right;\n",
       "    }\n",
       "</style>\n",
       "<table border=\"1\" class=\"dataframe\">\n",
       "  <thead>\n",
       "    <tr style=\"text-align: right;\">\n",
       "      <th></th>\n",
       "      <th>y_return_ratio</th>\n",
       "      <th>TensorFlow__diff_1_shift_4</th>\n",
       "      <th>deep learning__diff_1_shift_4</th>\n",
       "      <th>Artificial Intelligence__diff_1_shift_19</th>\n",
       "      <th>Machine Learning__diff_1_shift_4</th>\n",
       "      <th>neural network__diff_1_shift_9</th>\n",
       "      <th>MXNet__diff_1_shift_9</th>\n",
       "      <th>blockchain_news_diff_1_shift_4</th>\n",
       "      <th>GPU_news_diff_1_shift_17</th>\n",
       "      <th>gaming_news_diff_1_shift_2</th>\n",
       "      <th>SandP_diff_1</th>\n",
       "      <th>NasdaqTech_diff_1</th>\n",
       "      <th>ATVI_gaming_diff_1</th>\n",
       "      <th>TTWO_gaming_diff_1</th>\n",
       "      <th>UBSFY_gaming_diff_1</th>\n",
       "      <th>fps_transformed_ffill_diff_1_shift_2</th>\n",
       "      <th>fps_transformed_interpolated_diff_1_shift_2</th>\n",
       "      <th>fps_interpolated_transformed_diff_1_shift_2</th>\n",
       "      <th>PLUS_DM_diff_1</th>\n",
       "      <th>MINUS_DM_diff_1_shift_8</th>\n",
       "      <th>AD_diff_1</th>\n",
       "      <th>OBV_diff_1</th>\n",
       "      <th>MIDPOINT_diff_1</th>\n",
       "      <th>MIDPRICE_diff_1</th>\n",
       "      <th>SAR_diff_1_shift_13</th>\n",
       "      <th>TEMA_diff_1</th>\n",
       "      <th>AVGPRICE_diff_1</th>\n",
       "      <th>MEDPRICE_diff_1</th>\n",
       "      <th>TYPPRICE_diff_1</th>\n",
       "      <th>WCLPRICE_diff_1</th>\n",
       "      <th>LINEARREG_diff_1</th>\n",
       "      <th>TSF_diff_1</th>\n",
       "      <th>ADD_diff_1</th>\n",
       "      <th>MAX_diff_1</th>\n",
       "      <th>MAXINDEX_diff_1</th>\n",
       "      <th>MIN_diff_1</th>\n",
       "      <th>MININDEX_diff_1_shift_19</th>\n",
       "      <th>MULT_diff_1</th>\n",
       "      <th>ATAN_diff_1</th>\n",
       "      <th>CEIL_diff_1</th>\n",
       "      <th>FLOOR_diff_1</th>\n",
       "      <th>LN_diff_1</th>\n",
       "      <th>LOG10_diff_1</th>\n",
       "      <th>SQRT_diff_1</th>\n",
       "      <th>ATVI_gaming_rr</th>\n",
       "      <th>TTWO_gaming_rr</th>\n",
       "      <th>AMD_rr</th>\n",
       "      <th>SandP_rr</th>\n",
       "      <th>NasdaqTech_rr</th>\n",
       "    </tr>\n",
       "  </thead>\n",
       "  <tbody>\n",
       "    <tr>\n",
       "      <th>2018-03-01</th>\n",
       "      <td>-0.040455</td>\n",
       "      <td>0.285714</td>\n",
       "      <td>-0.071429</td>\n",
       "      <td>-0.322581</td>\n",
       "      <td>0.142857</td>\n",
       "      <td>0.071429</td>\n",
       "      <td>0.428571</td>\n",
       "      <td>0.25</td>\n",
       "      <td>0.785714</td>\n",
       "      <td>2.571429</td>\n",
       "      <td>-28.559936</td>\n",
       "      <td>-20.679931</td>\n",
       "      <td>0.309997</td>\n",
       "      <td>-0.564998</td>\n",
       "      <td>0.055</td>\n",
       "      <td>0.0</td>\n",
       "      <td>0.0</td>\n",
       "      <td>0.0</td>\n",
       "      <td>-1.878408</td>\n",
       "      <td>-2.553613</td>\n",
       "      <td>-1.120678e+07</td>\n",
       "      <td>-13077900.0</td>\n",
       "      <td>0.000000</td>\n",
       "      <td>0.000000</td>\n",
       "      <td>-3.086287</td>\n",
       "      <td>-0.104250</td>\n",
       "      <td>-1.867501</td>\n",
       "      <td>-2.205002</td>\n",
       "      <td>-2.823334</td>\n",
       "      <td>-3.132500</td>\n",
       "      <td>-0.575142</td>\n",
       "      <td>-0.808680</td>\n",
       "      <td>-4.410004</td>\n",
       "      <td>0.0</td>\n",
       "      <td>0.0</td>\n",
       "      <td>0.0</td>\n",
       "      <td>9.0</td>\n",
       "      <td>-1091.716324</td>\n",
       "      <td>-0.000068</td>\n",
       "      <td>-5.0</td>\n",
       "      <td>-4.0</td>\n",
       "      <td>-0.016638</td>\n",
       "      <td>-0.007226</td>\n",
       "      <td>-0.129951</td>\n",
       "      <td>0.004256</td>\n",
       "      <td>-0.004988</td>\n",
       "      <td>-0.007612</td>\n",
       "      <td>-0.010339</td>\n",
       "      <td>-0.004857</td>\n",
       "    </tr>\n",
       "    <tr>\n",
       "      <th>2018-03-02</th>\n",
       "      <td>0.018647</td>\n",
       "      <td>0.285714</td>\n",
       "      <td>-0.071429</td>\n",
       "      <td>-0.322581</td>\n",
       "      <td>0.142857</td>\n",
       "      <td>0.071429</td>\n",
       "      <td>0.428571</td>\n",
       "      <td>0.25</td>\n",
       "      <td>2.357143</td>\n",
       "      <td>0.857143</td>\n",
       "      <td>-37.360107</td>\n",
       "      <td>-51.405029</td>\n",
       "      <td>-0.554997</td>\n",
       "      <td>-3.135002</td>\n",
       "      <td>-0.130</td>\n",
       "      <td>0.0</td>\n",
       "      <td>0.0</td>\n",
       "      <td>0.0</td>\n",
       "      <td>-1.744236</td>\n",
       "      <td>-2.371212</td>\n",
       "      <td>-1.268395e+07</td>\n",
       "      <td>-26003000.0</td>\n",
       "      <td>5.254998</td>\n",
       "      <td>0.005005</td>\n",
       "      <td>-35.492297</td>\n",
       "      <td>-1.915082</td>\n",
       "      <td>-7.950001</td>\n",
       "      <td>-8.710007</td>\n",
       "      <td>-9.070002</td>\n",
       "      <td>-9.250000</td>\n",
       "      <td>-5.081140</td>\n",
       "      <td>-6.024283</td>\n",
       "      <td>-17.420014</td>\n",
       "      <td>0.0</td>\n",
       "      <td>0.0</td>\n",
       "      <td>0.0</td>\n",
       "      <td>0.0</td>\n",
       "      <td>-4241.785534</td>\n",
       "      <td>-0.000174</td>\n",
       "      <td>-9.0</td>\n",
       "      <td>-10.0</td>\n",
       "      <td>-0.041296</td>\n",
       "      <td>-0.017934</td>\n",
       "      <td>-0.317911</td>\n",
       "      <td>-0.007588</td>\n",
       "      <td>-0.027815</td>\n",
       "      <td>-0.024627</td>\n",
       "      <td>-0.013666</td>\n",
       "      <td>-0.012133</td>\n",
       "    </tr>\n",
       "    <tr>\n",
       "      <th>2018-03-05</th>\n",
       "      <td>-0.003763</td>\n",
       "      <td>0.857143</td>\n",
       "      <td>-0.214286</td>\n",
       "      <td>-0.035714</td>\n",
       "      <td>0.428571</td>\n",
       "      <td>0.071429</td>\n",
       "      <td>0.428571</td>\n",
       "      <td>0.75</td>\n",
       "      <td>0.785714</td>\n",
       "      <td>0.857143</td>\n",
       "      <td>-21.375000</td>\n",
       "      <td>-25.090088</td>\n",
       "      <td>0.029999</td>\n",
       "      <td>-0.770004</td>\n",
       "      <td>-0.355</td>\n",
       "      <td>0.0</td>\n",
       "      <td>0.0</td>\n",
       "      <td>0.0</td>\n",
       "      <td>-1.619648</td>\n",
       "      <td>-2.201840</td>\n",
       "      <td>2.204138e+07</td>\n",
       "      <td>22835700.0</td>\n",
       "      <td>0.000000</td>\n",
       "      <td>2.165001</td>\n",
       "      <td>0.697800</td>\n",
       "      <td>-0.934712</td>\n",
       "      <td>-5.820000</td>\n",
       "      <td>-6.779991</td>\n",
       "      <td>-3.076665</td>\n",
       "      <td>-1.225003</td>\n",
       "      <td>-2.307430</td>\n",
       "      <td>-2.711430</td>\n",
       "      <td>-13.559982</td>\n",
       "      <td>0.0</td>\n",
       "      <td>0.0</td>\n",
       "      <td>0.0</td>\n",
       "      <td>0.0</td>\n",
       "      <td>-3147.726581</td>\n",
       "      <td>0.000079</td>\n",
       "      <td>4.0</td>\n",
       "      <td>4.0</td>\n",
       "      <td>0.018475</td>\n",
       "      <td>0.008024</td>\n",
       "      <td>0.141418</td>\n",
       "      <td>0.000413</td>\n",
       "      <td>-0.007027</td>\n",
       "      <td>-0.028146</td>\n",
       "      <td>-0.007927</td>\n",
       "      <td>-0.005995</td>\n",
       "    </tr>\n",
       "  </tbody>\n",
       "</table>\n",
       "</div>"
      ],
      "text/plain": [
       "            y_return_ratio  TensorFlow__diff_1_shift_4  deep learning__diff_1_shift_4  Artificial Intelligence__diff_1_shift_19  Machine Learning__diff_1_shift_4  neural network__diff_1_shift_9  MXNet__diff_1_shift_9  blockchain_news_diff_1_shift_4  GPU_news_diff_1_shift_17  gaming_news_diff_1_shift_2  SandP_diff_1  NasdaqTech_diff_1  ATVI_gaming_diff_1  TTWO_gaming_diff_1  UBSFY_gaming_diff_1  fps_transformed_ffill_diff_1_shift_2  fps_transformed_interpolated_diff_1_shift_2  fps_interpolated_transformed_diff_1_shift_2  PLUS_DM_diff_1  MINUS_DM_diff_1_shift_8     AD_diff_1  OBV_diff_1  MIDPOINT_diff_1  MIDPRICE_diff_1  SAR_diff_1_shift_13  TEMA_diff_1  AVGPRICE_diff_1  MEDPRICE_diff_1  TYPPRICE_diff_1  WCLPRICE_diff_1  LINEARREG_diff_1  TSF_diff_1  ADD_diff_1  MAX_diff_1  MAXINDEX_diff_1  MIN_diff_1  MININDEX_diff_1_shift_19  MULT_diff_1  ATAN_diff_1  CEIL_diff_1  FLOOR_diff_1  LN_diff_1  LOG10_diff_1  SQRT_diff_1  ATVI_gaming_rr  TTWO_gaming_rr    AMD_rr  SandP_rr  NasdaqTech_rr\n",
       "2018-03-01       -0.040455                    0.285714                      -0.071429                                 -0.322581                          0.142857                        0.071429               0.428571                            0.25                  0.785714                    2.571429    -28.559936         -20.679931            0.309997           -0.564998                0.055                                   0.0                                          0.0                                          0.0       -1.878408                -2.553613 -1.120678e+07 -13077900.0         0.000000         0.000000            -3.086287    -0.104250        -1.867501        -2.205002        -2.823334        -3.132500         -0.575142   -0.808680   -4.410004         0.0              0.0         0.0                       9.0 -1091.716324    -0.000068         -5.0          -4.0  -0.016638     -0.007226    -0.129951        0.004256       -0.004988 -0.007612 -0.010339      -0.004857\n",
       "2018-03-02        0.018647                    0.285714                      -0.071429                                 -0.322581                          0.142857                        0.071429               0.428571                            0.25                  2.357143                    0.857143    -37.360107         -51.405029           -0.554997           -3.135002               -0.130                                   0.0                                          0.0                                          0.0       -1.744236                -2.371212 -1.268395e+07 -26003000.0         5.254998         0.005005           -35.492297    -1.915082        -7.950001        -8.710007        -9.070002        -9.250000         -5.081140   -6.024283  -17.420014         0.0              0.0         0.0                       0.0 -4241.785534    -0.000174         -9.0         -10.0  -0.041296     -0.017934    -0.317911       -0.007588       -0.027815 -0.024627 -0.013666      -0.012133\n",
       "2018-03-05       -0.003763                    0.857143                      -0.214286                                 -0.035714                          0.428571                        0.071429               0.428571                            0.75                  0.785714                    0.857143    -21.375000         -25.090088            0.029999           -0.770004               -0.355                                   0.0                                          0.0                                          0.0       -1.619648                -2.201840  2.204138e+07  22835700.0         0.000000         2.165001             0.697800    -0.934712        -5.820000        -6.779991        -3.076665        -1.225003         -2.307430   -2.711430  -13.559982         0.0              0.0         0.0                       0.0 -3147.726581     0.000079          4.0           4.0   0.018475      0.008024     0.141418        0.000413       -0.007027 -0.028146 -0.007927      -0.005995"
      ]
     },
     "metadata": {},
     "output_type": "display_data"
    },
    {
     "data": {
      "text/html": [
       "<div>\n",
       "<style scoped>\n",
       "    .dataframe tbody tr th:only-of-type {\n",
       "        vertical-align: middle;\n",
       "    }\n",
       "\n",
       "    .dataframe tbody tr th {\n",
       "        vertical-align: top;\n",
       "    }\n",
       "\n",
       "    .dataframe thead th {\n",
       "        text-align: right;\n",
       "    }\n",
       "</style>\n",
       "<table border=\"1\" class=\"dataframe\">\n",
       "  <thead>\n",
       "    <tr style=\"text-align: right;\">\n",
       "      <th></th>\n",
       "      <th>y_return_ratio</th>\n",
       "      <th>TensorFlow__diff_1_shift_4</th>\n",
       "      <th>deep learning__diff_1_shift_4</th>\n",
       "      <th>Artificial Intelligence__diff_1_shift_19</th>\n",
       "      <th>Machine Learning__diff_1_shift_4</th>\n",
       "      <th>neural network__diff_1_shift_9</th>\n",
       "      <th>MXNet__diff_1_shift_9</th>\n",
       "      <th>blockchain_news_diff_1_shift_4</th>\n",
       "      <th>GPU_news_diff_1_shift_17</th>\n",
       "      <th>gaming_news_diff_1_shift_2</th>\n",
       "      <th>SandP_diff_1</th>\n",
       "      <th>NasdaqTech_diff_1</th>\n",
       "      <th>ATVI_gaming_diff_1</th>\n",
       "      <th>TTWO_gaming_diff_1</th>\n",
       "      <th>UBSFY_gaming_diff_1</th>\n",
       "      <th>fps_transformed_ffill_diff_1_shift_2</th>\n",
       "      <th>fps_transformed_interpolated_diff_1_shift_2</th>\n",
       "      <th>fps_interpolated_transformed_diff_1_shift_2</th>\n",
       "      <th>PLUS_DM_diff_1</th>\n",
       "      <th>MINUS_DM_diff_1_shift_8</th>\n",
       "      <th>AD_diff_1</th>\n",
       "      <th>OBV_diff_1</th>\n",
       "      <th>MIDPOINT_diff_1</th>\n",
       "      <th>MIDPRICE_diff_1</th>\n",
       "      <th>SAR_diff_1_shift_13</th>\n",
       "      <th>TEMA_diff_1</th>\n",
       "      <th>AVGPRICE_diff_1</th>\n",
       "      <th>MEDPRICE_diff_1</th>\n",
       "      <th>TYPPRICE_diff_1</th>\n",
       "      <th>WCLPRICE_diff_1</th>\n",
       "      <th>LINEARREG_diff_1</th>\n",
       "      <th>TSF_diff_1</th>\n",
       "      <th>ADD_diff_1</th>\n",
       "      <th>MAX_diff_1</th>\n",
       "      <th>MAXINDEX_diff_1</th>\n",
       "      <th>MIN_diff_1</th>\n",
       "      <th>MININDEX_diff_1_shift_19</th>\n",
       "      <th>MULT_diff_1</th>\n",
       "      <th>ATAN_diff_1</th>\n",
       "      <th>CEIL_diff_1</th>\n",
       "      <th>FLOOR_diff_1</th>\n",
       "      <th>LN_diff_1</th>\n",
       "      <th>LOG10_diff_1</th>\n",
       "      <th>SQRT_diff_1</th>\n",
       "      <th>ATVI_gaming_rr</th>\n",
       "      <th>TTWO_gaming_rr</th>\n",
       "      <th>AMD_rr</th>\n",
       "      <th>SandP_rr</th>\n",
       "      <th>NasdaqTech_rr</th>\n",
       "    </tr>\n",
       "  </thead>\n",
       "  <tbody>\n",
       "    <tr>\n",
       "      <th>2018-05-01</th>\n",
       "      <td>0.009960</td>\n",
       "      <td>0.066667</td>\n",
       "      <td>0.033333</td>\n",
       "      <td>0.0</td>\n",
       "      <td>0.1</td>\n",
       "      <td>0.0</td>\n",
       "      <td>0.266667</td>\n",
       "      <td>0.3</td>\n",
       "      <td>0.566667</td>\n",
       "      <td>-0.333333</td>\n",
       "      <td>-7.409912</td>\n",
       "      <td>-34.854858</td>\n",
       "      <td>-0.135002</td>\n",
       "      <td>0.765000</td>\n",
       "      <td>-0.220001</td>\n",
       "      <td>0.0</td>\n",
       "      <td>-0.000013</td>\n",
       "      <td>-0.000012</td>\n",
       "      <td>-1.743474</td>\n",
       "      <td>-2.000301</td>\n",
       "      <td>-5.576041e+06</td>\n",
       "      <td>-8196100.0</td>\n",
       "      <td>0.0</td>\n",
       "      <td>0.0</td>\n",
       "      <td>-2.112872</td>\n",
       "      <td>-0.155515</td>\n",
       "      <td>-1.435002</td>\n",
       "      <td>-0.900001</td>\n",
       "      <td>-1.076670</td>\n",
       "      <td>-1.165005</td>\n",
       "      <td>-0.944001</td>\n",
       "      <td>-1.056155</td>\n",
       "      <td>-1.800003</td>\n",
       "      <td>-0.899994</td>\n",
       "      <td>2.0</td>\n",
       "      <td>0.0</td>\n",
       "      <td>0.0</td>\n",
       "      <td>-406.506667</td>\n",
       "      <td>-0.000028</td>\n",
       "      <td>-2.0</td>\n",
       "      <td>-2.0</td>\n",
       "      <td>-0.006338</td>\n",
       "      <td>-0.002753</td>\n",
       "      <td>-0.047602</td>\n",
       "      <td>-0.002038</td>\n",
       "      <td>0.007704</td>\n",
       "      <td>-0.016584</td>\n",
       "      <td>-0.002772</td>\n",
       "      <td>-0.008446</td>\n",
       "    </tr>\n",
       "    <tr>\n",
       "      <th>2018-05-02</th>\n",
       "      <td>-0.003654</td>\n",
       "      <td>0.066667</td>\n",
       "      <td>0.033333</td>\n",
       "      <td>0.0</td>\n",
       "      <td>0.1</td>\n",
       "      <td>0.0</td>\n",
       "      <td>0.266667</td>\n",
       "      <td>0.3</td>\n",
       "      <td>0.566667</td>\n",
       "      <td>-0.333333</td>\n",
       "      <td>-16.400025</td>\n",
       "      <td>-7.379761</td>\n",
       "      <td>0.870003</td>\n",
       "      <td>1.770004</td>\n",
       "      <td>-0.070000</td>\n",
       "      <td>0.0</td>\n",
       "      <td>-0.000013</td>\n",
       "      <td>-0.000011</td>\n",
       "      <td>-1.618940</td>\n",
       "      <td>4.112579</td>\n",
       "      <td>6.068295e+06</td>\n",
       "      <td>6344700.0</td>\n",
       "      <td>0.0</td>\n",
       "      <td>0.0</td>\n",
       "      <td>-1.943842</td>\n",
       "      <td>0.298319</td>\n",
       "      <td>-0.962498</td>\n",
       "      <td>-1.834999</td>\n",
       "      <td>-0.476664</td>\n",
       "      <td>0.202503</td>\n",
       "      <td>-0.520571</td>\n",
       "      <td>-0.610549</td>\n",
       "      <td>-3.669998</td>\n",
       "      <td>0.000000</td>\n",
       "      <td>0.0</td>\n",
       "      <td>0.0</td>\n",
       "      <td>0.0</td>\n",
       "      <td>-828.529537</td>\n",
       "      <td>0.000044</td>\n",
       "      <td>3.0</td>\n",
       "      <td>3.0</td>\n",
       "      <td>0.009911</td>\n",
       "      <td>0.004304</td>\n",
       "      <td>0.074498</td>\n",
       "      <td>0.013161</td>\n",
       "      <td>0.017689</td>\n",
       "      <td>0.000912</td>\n",
       "      <td>-0.006153</td>\n",
       "      <td>-0.001804</td>\n",
       "    </tr>\n",
       "    <tr>\n",
       "      <th>2018-05-03</th>\n",
       "      <td>0.029517</td>\n",
       "      <td>0.066667</td>\n",
       "      <td>0.033333</td>\n",
       "      <td>0.0</td>\n",
       "      <td>0.1</td>\n",
       "      <td>0.0</td>\n",
       "      <td>0.266667</td>\n",
       "      <td>0.3</td>\n",
       "      <td>1.700000</td>\n",
       "      <td>-1.000000</td>\n",
       "      <td>-3.925049</td>\n",
       "      <td>17.649902</td>\n",
       "      <td>1.189998</td>\n",
       "      <td>2.629997</td>\n",
       "      <td>0.610000</td>\n",
       "      <td>0.0</td>\n",
       "      <td>-0.000013</td>\n",
       "      <td>-0.000011</td>\n",
       "      <td>0.046701</td>\n",
       "      <td>-2.151178</td>\n",
       "      <td>-2.701382e+06</td>\n",
       "      <td>-6706200.0</td>\n",
       "      <td>0.0</td>\n",
       "      <td>0.0</td>\n",
       "      <td>-22.354188</td>\n",
       "      <td>0.137658</td>\n",
       "      <td>1.550000</td>\n",
       "      <td>2.300003</td>\n",
       "      <td>1.256668</td>\n",
       "      <td>0.735001</td>\n",
       "      <td>0.434572</td>\n",
       "      <td>0.592528</td>\n",
       "      <td>4.600006</td>\n",
       "      <td>-1.020004</td>\n",
       "      <td>1.0</td>\n",
       "      <td>0.0</td>\n",
       "      <td>0.0</td>\n",
       "      <td>1042.251357</td>\n",
       "      <td>-0.000016</td>\n",
       "      <td>-1.0</td>\n",
       "      <td>-1.0</td>\n",
       "      <td>-0.003661</td>\n",
       "      <td>-0.001590</td>\n",
       "      <td>-0.027561</td>\n",
       "      <td>0.017768</td>\n",
       "      <td>0.025826</td>\n",
       "      <td>0.005009</td>\n",
       "      <td>-0.001482</td>\n",
       "      <td>0.004321</td>\n",
       "    </tr>\n",
       "  </tbody>\n",
       "</table>\n",
       "</div>"
      ],
      "text/plain": [
       "            y_return_ratio  TensorFlow__diff_1_shift_4  deep learning__diff_1_shift_4  Artificial Intelligence__diff_1_shift_19  Machine Learning__diff_1_shift_4  neural network__diff_1_shift_9  MXNet__diff_1_shift_9  blockchain_news_diff_1_shift_4  GPU_news_diff_1_shift_17  gaming_news_diff_1_shift_2  SandP_diff_1  NasdaqTech_diff_1  ATVI_gaming_diff_1  TTWO_gaming_diff_1  UBSFY_gaming_diff_1  fps_transformed_ffill_diff_1_shift_2  fps_transformed_interpolated_diff_1_shift_2  fps_interpolated_transformed_diff_1_shift_2  PLUS_DM_diff_1  MINUS_DM_diff_1_shift_8     AD_diff_1  OBV_diff_1  MIDPOINT_diff_1  MIDPRICE_diff_1  SAR_diff_1_shift_13  TEMA_diff_1  AVGPRICE_diff_1  MEDPRICE_diff_1  TYPPRICE_diff_1  WCLPRICE_diff_1  LINEARREG_diff_1  TSF_diff_1  ADD_diff_1  MAX_diff_1  MAXINDEX_diff_1  MIN_diff_1  MININDEX_diff_1_shift_19  MULT_diff_1  ATAN_diff_1  CEIL_diff_1  FLOOR_diff_1  LN_diff_1  LOG10_diff_1  SQRT_diff_1  ATVI_gaming_rr  TTWO_gaming_rr    AMD_rr  SandP_rr  NasdaqTech_rr\n",
       "2018-05-01        0.009960                    0.066667                       0.033333                                       0.0                               0.1                             0.0               0.266667                             0.3                  0.566667                   -0.333333     -7.409912         -34.854858           -0.135002            0.765000            -0.220001                                   0.0                                    -0.000013                                    -0.000012       -1.743474                -2.000301 -5.576041e+06  -8196100.0              0.0              0.0            -2.112872    -0.155515        -1.435002        -0.900001        -1.076670        -1.165005         -0.944001   -1.056155   -1.800003   -0.899994              2.0         0.0                       0.0  -406.506667    -0.000028         -2.0          -2.0  -0.006338     -0.002753    -0.047602       -0.002038        0.007704 -0.016584 -0.002772      -0.008446\n",
       "2018-05-02       -0.003654                    0.066667                       0.033333                                       0.0                               0.1                             0.0               0.266667                             0.3                  0.566667                   -0.333333    -16.400025          -7.379761            0.870003            1.770004            -0.070000                                   0.0                                    -0.000013                                    -0.000011       -1.618940                 4.112579  6.068295e+06   6344700.0              0.0              0.0            -1.943842     0.298319        -0.962498        -1.834999        -0.476664         0.202503         -0.520571   -0.610549   -3.669998    0.000000              0.0         0.0                       0.0  -828.529537     0.000044          3.0           3.0   0.009911      0.004304     0.074498        0.013161        0.017689  0.000912 -0.006153      -0.001804\n",
       "2018-05-03        0.029517                    0.066667                       0.033333                                       0.0                               0.1                             0.0               0.266667                             0.3                  1.700000                   -1.000000     -3.925049          17.649902            1.189998            2.629997             0.610000                                   0.0                                    -0.000013                                    -0.000011        0.046701                -2.151178 -2.701382e+06  -6706200.0              0.0              0.0           -22.354188     0.137658         1.550000         2.300003         1.256668         0.735001          0.434572    0.592528    4.600006   -1.020004              1.0         0.0                       0.0  1042.251357    -0.000016         -1.0          -1.0  -0.003661     -0.001590    -0.027561        0.017768        0.025826  0.005009 -0.001482       0.004321"
      ]
     },
     "metadata": {},
     "output_type": "display_data"
    },
    {
     "data": {
      "text/html": [
       "<div>\n",
       "<style scoped>\n",
       "    .dataframe tbody tr th:only-of-type {\n",
       "        vertical-align: middle;\n",
       "    }\n",
       "\n",
       "    .dataframe tbody tr th {\n",
       "        vertical-align: top;\n",
       "    }\n",
       "\n",
       "    .dataframe thead th {\n",
       "        text-align: right;\n",
       "    }\n",
       "</style>\n",
       "<table border=\"1\" class=\"dataframe\">\n",
       "  <thead>\n",
       "    <tr style=\"text-align: right;\">\n",
       "      <th></th>\n",
       "      <th>y_return_ratio</th>\n",
       "      <th>TensorFlow__diff_1_shift_4</th>\n",
       "      <th>deep learning__diff_1_shift_4</th>\n",
       "      <th>Artificial Intelligence__diff_1_shift_19</th>\n",
       "      <th>Machine Learning__diff_1_shift_4</th>\n",
       "      <th>neural network__diff_1_shift_9</th>\n",
       "      <th>MXNet__diff_1_shift_9</th>\n",
       "      <th>blockchain_news_diff_1_shift_4</th>\n",
       "      <th>GPU_news_diff_1_shift_17</th>\n",
       "      <th>gaming_news_diff_1_shift_2</th>\n",
       "      <th>SandP_diff_1</th>\n",
       "      <th>NasdaqTech_diff_1</th>\n",
       "      <th>ATVI_gaming_diff_1</th>\n",
       "      <th>TTWO_gaming_diff_1</th>\n",
       "      <th>UBSFY_gaming_diff_1</th>\n",
       "      <th>fps_transformed_ffill_diff_1_shift_2</th>\n",
       "      <th>fps_transformed_interpolated_diff_1_shift_2</th>\n",
       "      <th>fps_interpolated_transformed_diff_1_shift_2</th>\n",
       "      <th>PLUS_DM_diff_1</th>\n",
       "      <th>MINUS_DM_diff_1_shift_8</th>\n",
       "      <th>AD_diff_1</th>\n",
       "      <th>OBV_diff_1</th>\n",
       "      <th>MIDPOINT_diff_1</th>\n",
       "      <th>MIDPRICE_diff_1</th>\n",
       "      <th>SAR_diff_1_shift_13</th>\n",
       "      <th>TEMA_diff_1</th>\n",
       "      <th>AVGPRICE_diff_1</th>\n",
       "      <th>MEDPRICE_diff_1</th>\n",
       "      <th>TYPPRICE_diff_1</th>\n",
       "      <th>WCLPRICE_diff_1</th>\n",
       "      <th>LINEARREG_diff_1</th>\n",
       "      <th>TSF_diff_1</th>\n",
       "      <th>ADD_diff_1</th>\n",
       "      <th>MAX_diff_1</th>\n",
       "      <th>MAXINDEX_diff_1</th>\n",
       "      <th>MIN_diff_1</th>\n",
       "      <th>MININDEX_diff_1_shift_19</th>\n",
       "      <th>MULT_diff_1</th>\n",
       "      <th>ATAN_diff_1</th>\n",
       "      <th>CEIL_diff_1</th>\n",
       "      <th>FLOOR_diff_1</th>\n",
       "      <th>LN_diff_1</th>\n",
       "      <th>LOG10_diff_1</th>\n",
       "      <th>SQRT_diff_1</th>\n",
       "      <th>ATVI_gaming_rr</th>\n",
       "      <th>TTWO_gaming_rr</th>\n",
       "      <th>AMD_rr</th>\n",
       "      <th>SandP_rr</th>\n",
       "      <th>NasdaqTech_rr</th>\n",
       "    </tr>\n",
       "  </thead>\n",
       "  <tbody>\n",
       "    <tr>\n",
       "      <th>2018-07-02</th>\n",
       "      <td>0.022541</td>\n",
       "      <td>-0.400000</td>\n",
       "      <td>-0.100000</td>\n",
       "      <td>0.0</td>\n",
       "      <td>-0.100000</td>\n",
       "      <td>-0.400000</td>\n",
       "      <td>-0.800000</td>\n",
       "      <td>0.400000</td>\n",
       "      <td>0.2</td>\n",
       "      <td>-0.3</td>\n",
       "      <td>15.250000</td>\n",
       "      <td>44.800048</td>\n",
       "      <td>1.375000</td>\n",
       "      <td>2.585003</td>\n",
       "      <td>0.425</td>\n",
       "      <td>0.0</td>\n",
       "      <td>0.0</td>\n",
       "      <td>0.0</td>\n",
       "      <td>1.817089</td>\n",
       "      <td>6.556912</td>\n",
       "      <td>-9.670365e+06</td>\n",
       "      <td>-9807500.0</td>\n",
       "      <td>0.0</td>\n",
       "      <td>0.000</td>\n",
       "      <td>1.170285</td>\n",
       "      <td>-2.807887</td>\n",
       "      <td>2.177502</td>\n",
       "      <td>2.250007</td>\n",
       "      <td>0.180003</td>\n",
       "      <td>-0.855000</td>\n",
       "      <td>-3.882573</td>\n",
       "      <td>-4.219233</td>\n",
       "      <td>4.500015</td>\n",
       "      <td>0.0</td>\n",
       "      <td>0.0</td>\n",
       "      <td>0.0</td>\n",
       "      <td>0.0</td>\n",
       "      <td>1074.090211</td>\n",
       "      <td>-0.000069</td>\n",
       "      <td>-4.0</td>\n",
       "      <td>-4.0</td>\n",
       "      <td>-0.016578</td>\n",
       "      <td>-0.007200</td>\n",
       "      <td>-0.128109</td>\n",
       "      <td>0.018332</td>\n",
       "      <td>0.022284</td>\n",
       "      <td>0.007958</td>\n",
       "      <td>0.005633</td>\n",
       "      <td>0.010789</td>\n",
       "    </tr>\n",
       "    <tr>\n",
       "      <th>2018-07-03</th>\n",
       "      <td>-0.022292</td>\n",
       "      <td>-0.133333</td>\n",
       "      <td>-0.033333</td>\n",
       "      <td>0.0</td>\n",
       "      <td>-0.033333</td>\n",
       "      <td>-0.133333</td>\n",
       "      <td>-0.266667</td>\n",
       "      <td>0.133333</td>\n",
       "      <td>0.2</td>\n",
       "      <td>-0.3</td>\n",
       "      <td>-6.920044</td>\n",
       "      <td>-7.764892</td>\n",
       "      <td>-0.060001</td>\n",
       "      <td>0.280003</td>\n",
       "      <td>-0.400</td>\n",
       "      <td>0.0</td>\n",
       "      <td>0.0</td>\n",
       "      <td>0.0</td>\n",
       "      <td>-0.972707</td>\n",
       "      <td>-1.271440</td>\n",
       "      <td>8.645578e+06</td>\n",
       "      <td>8939300.0</td>\n",
       "      <td>0.0</td>\n",
       "      <td>-0.875</td>\n",
       "      <td>1.100067</td>\n",
       "      <td>-1.483105</td>\n",
       "      <td>-2.315003</td>\n",
       "      <td>-2.600006</td>\n",
       "      <td>0.046666</td>\n",
       "      <td>1.370002</td>\n",
       "      <td>-1.551714</td>\n",
       "      <td>-1.566923</td>\n",
       "      <td>-5.200012</td>\n",
       "      <td>0.0</td>\n",
       "      <td>0.0</td>\n",
       "      <td>0.0</td>\n",
       "      <td>0.0</td>\n",
       "      <td>-1251.511509</td>\n",
       "      <td>0.000093</td>\n",
       "      <td>6.0</td>\n",
       "      <td>6.0</td>\n",
       "      <td>0.022291</td>\n",
       "      <td>0.009681</td>\n",
       "      <td>0.172505</td>\n",
       "      <td>-0.000786</td>\n",
       "      <td>0.002361</td>\n",
       "      <td>-0.014474</td>\n",
       "      <td>-0.002542</td>\n",
       "      <td>-0.001850</td>\n",
       "    </tr>\n",
       "    <tr>\n",
       "      <th>2018-07-04</th>\n",
       "      <td>0.024869</td>\n",
       "      <td>-0.133333</td>\n",
       "      <td>-0.033333</td>\n",
       "      <td>0.0</td>\n",
       "      <td>-0.033333</td>\n",
       "      <td>-0.133333</td>\n",
       "      <td>-0.266667</td>\n",
       "      <td>0.133333</td>\n",
       "      <td>0.2</td>\n",
       "      <td>-0.3</td>\n",
       "      <td>7.415039</td>\n",
       "      <td>23.399903</td>\n",
       "      <td>0.459999</td>\n",
       "      <td>0.204998</td>\n",
       "      <td>0.140</td>\n",
       "      <td>0.0</td>\n",
       "      <td>0.0</td>\n",
       "      <td>0.0</td>\n",
       "      <td>0.586778</td>\n",
       "      <td>2.299388</td>\n",
       "      <td>-5.055238e+06</td>\n",
       "      <td>-5568300.0</td>\n",
       "      <td>0.0</td>\n",
       "      <td>0.000</td>\n",
       "      <td>1.034063</td>\n",
       "      <td>-2.265725</td>\n",
       "      <td>2.220001</td>\n",
       "      <td>2.365005</td>\n",
       "      <td>-0.223333</td>\n",
       "      <td>-1.517502</td>\n",
       "      <td>-2.384859</td>\n",
       "      <td>-2.470881</td>\n",
       "      <td>4.730011</td>\n",
       "      <td>0.0</td>\n",
       "      <td>0.0</td>\n",
       "      <td>0.0</td>\n",
       "      <td>0.0</td>\n",
       "      <td>1137.731228</td>\n",
       "      <td>-0.000094</td>\n",
       "      <td>-6.0</td>\n",
       "      <td>-6.0</td>\n",
       "      <td>-0.022544</td>\n",
       "      <td>-0.009791</td>\n",
       "      <td>-0.174455</td>\n",
       "      <td>0.006027</td>\n",
       "      <td>0.001725</td>\n",
       "      <td>0.008344</td>\n",
       "      <td>0.002730</td>\n",
       "      <td>0.005586</td>\n",
       "    </tr>\n",
       "  </tbody>\n",
       "</table>\n",
       "</div>"
      ],
      "text/plain": [
       "            y_return_ratio  TensorFlow__diff_1_shift_4  deep learning__diff_1_shift_4  Artificial Intelligence__diff_1_shift_19  Machine Learning__diff_1_shift_4  neural network__diff_1_shift_9  MXNet__diff_1_shift_9  blockchain_news_diff_1_shift_4  GPU_news_diff_1_shift_17  gaming_news_diff_1_shift_2  SandP_diff_1  NasdaqTech_diff_1  ATVI_gaming_diff_1  TTWO_gaming_diff_1  UBSFY_gaming_diff_1  fps_transformed_ffill_diff_1_shift_2  fps_transformed_interpolated_diff_1_shift_2  fps_interpolated_transformed_diff_1_shift_2  PLUS_DM_diff_1  MINUS_DM_diff_1_shift_8     AD_diff_1  OBV_diff_1  MIDPOINT_diff_1  MIDPRICE_diff_1  SAR_diff_1_shift_13  TEMA_diff_1  AVGPRICE_diff_1  MEDPRICE_diff_1  TYPPRICE_diff_1  WCLPRICE_diff_1  LINEARREG_diff_1  TSF_diff_1  ADD_diff_1  MAX_diff_1  MAXINDEX_diff_1  MIN_diff_1  MININDEX_diff_1_shift_19  MULT_diff_1  ATAN_diff_1  CEIL_diff_1  FLOOR_diff_1  LN_diff_1  LOG10_diff_1  SQRT_diff_1  ATVI_gaming_rr  TTWO_gaming_rr    AMD_rr  SandP_rr  NasdaqTech_rr\n",
       "2018-07-02        0.022541                   -0.400000                      -0.100000                                       0.0                         -0.100000                       -0.400000              -0.800000                        0.400000                       0.2                        -0.3     15.250000          44.800048            1.375000            2.585003                0.425                                   0.0                                          0.0                                          0.0        1.817089                 6.556912 -9.670365e+06  -9807500.0              0.0            0.000             1.170285    -2.807887         2.177502         2.250007         0.180003        -0.855000         -3.882573   -4.219233    4.500015         0.0              0.0         0.0                       0.0  1074.090211    -0.000069         -4.0          -4.0  -0.016578     -0.007200    -0.128109        0.018332        0.022284  0.007958  0.005633       0.010789\n",
       "2018-07-03       -0.022292                   -0.133333                      -0.033333                                       0.0                         -0.033333                       -0.133333              -0.266667                        0.133333                       0.2                        -0.3     -6.920044          -7.764892           -0.060001            0.280003               -0.400                                   0.0                                          0.0                                          0.0       -0.972707                -1.271440  8.645578e+06   8939300.0              0.0           -0.875             1.100067    -1.483105        -2.315003        -2.600006         0.046666         1.370002         -1.551714   -1.566923   -5.200012         0.0              0.0         0.0                       0.0 -1251.511509     0.000093          6.0           6.0   0.022291      0.009681     0.172505       -0.000786        0.002361 -0.014474 -0.002542      -0.001850\n",
       "2018-07-04        0.024869                   -0.133333                      -0.033333                                       0.0                         -0.033333                       -0.133333              -0.266667                        0.133333                       0.2                        -0.3      7.415039          23.399903            0.459999            0.204998                0.140                                   0.0                                          0.0                                          0.0        0.586778                 2.299388 -5.055238e+06  -5568300.0              0.0            0.000             1.034063    -2.265725         2.220001         2.365005        -0.223333        -1.517502         -2.384859   -2.470881    4.730011         0.0              0.0         0.0                       0.0  1137.731228    -0.000094         -6.0          -6.0  -0.022544     -0.009791    -0.174455        0.006027        0.001725  0.008344  0.002730       0.005586"
      ]
     },
     "metadata": {},
     "output_type": "display_data"
    },
    {
     "data": {
      "text/html": [
       "<div>\n",
       "<style scoped>\n",
       "    .dataframe tbody tr th:only-of-type {\n",
       "        vertical-align: middle;\n",
       "    }\n",
       "\n",
       "    .dataframe tbody tr th {\n",
       "        vertical-align: top;\n",
       "    }\n",
       "\n",
       "    .dataframe thead th {\n",
       "        text-align: right;\n",
       "    }\n",
       "</style>\n",
       "<table border=\"1\" class=\"dataframe\">\n",
       "  <thead>\n",
       "    <tr style=\"text-align: right;\">\n",
       "      <th></th>\n",
       "      <th>y_return_ratio</th>\n",
       "      <th>TensorFlow__diff_1_shift_4</th>\n",
       "      <th>deep learning__diff_1_shift_4</th>\n",
       "      <th>Artificial Intelligence__diff_1_shift_19</th>\n",
       "      <th>Machine Learning__diff_1_shift_4</th>\n",
       "      <th>neural network__diff_1_shift_9</th>\n",
       "      <th>MXNet__diff_1_shift_9</th>\n",
       "      <th>blockchain_news_diff_1_shift_4</th>\n",
       "      <th>GPU_news_diff_1_shift_17</th>\n",
       "      <th>gaming_news_diff_1_shift_2</th>\n",
       "      <th>SandP_diff_1</th>\n",
       "      <th>NasdaqTech_diff_1</th>\n",
       "      <th>ATVI_gaming_diff_1</th>\n",
       "      <th>TTWO_gaming_diff_1</th>\n",
       "      <th>UBSFY_gaming_diff_1</th>\n",
       "      <th>fps_transformed_ffill_diff_1_shift_2</th>\n",
       "      <th>fps_transformed_interpolated_diff_1_shift_2</th>\n",
       "      <th>fps_interpolated_transformed_diff_1_shift_2</th>\n",
       "      <th>PLUS_DM_diff_1</th>\n",
       "      <th>MINUS_DM_diff_1_shift_8</th>\n",
       "      <th>AD_diff_1</th>\n",
       "      <th>OBV_diff_1</th>\n",
       "      <th>MIDPOINT_diff_1</th>\n",
       "      <th>MIDPRICE_diff_1</th>\n",
       "      <th>SAR_diff_1_shift_13</th>\n",
       "      <th>TEMA_diff_1</th>\n",
       "      <th>AVGPRICE_diff_1</th>\n",
       "      <th>MEDPRICE_diff_1</th>\n",
       "      <th>TYPPRICE_diff_1</th>\n",
       "      <th>WCLPRICE_diff_1</th>\n",
       "      <th>LINEARREG_diff_1</th>\n",
       "      <th>TSF_diff_1</th>\n",
       "      <th>ADD_diff_1</th>\n",
       "      <th>MAX_diff_1</th>\n",
       "      <th>MAXINDEX_diff_1</th>\n",
       "      <th>MIN_diff_1</th>\n",
       "      <th>MININDEX_diff_1_shift_19</th>\n",
       "      <th>MULT_diff_1</th>\n",
       "      <th>ATAN_diff_1</th>\n",
       "      <th>CEIL_diff_1</th>\n",
       "      <th>FLOOR_diff_1</th>\n",
       "      <th>LN_diff_1</th>\n",
       "      <th>LOG10_diff_1</th>\n",
       "      <th>SQRT_diff_1</th>\n",
       "      <th>ATVI_gaming_rr</th>\n",
       "      <th>TTWO_gaming_rr</th>\n",
       "      <th>AMD_rr</th>\n",
       "      <th>SandP_rr</th>\n",
       "      <th>NasdaqTech_rr</th>\n",
       "    </tr>\n",
       "  </thead>\n",
       "  <tbody>\n",
       "    <tr>\n",
       "      <th>2012-07-02</th>\n",
       "      <td>-0.026773</td>\n",
       "      <td>0.0</td>\n",
       "      <td>0.100000</td>\n",
       "      <td>-0.100000</td>\n",
       "      <td>0.0</td>\n",
       "      <td>-0.3</td>\n",
       "      <td>0.0</td>\n",
       "      <td>0.0</td>\n",
       "      <td>0.066667</td>\n",
       "      <td>0.066667</td>\n",
       "      <td>15.859985</td>\n",
       "      <td>25.600036</td>\n",
       "      <td>0.325</td>\n",
       "      <td>0.140</td>\n",
       "      <td>0.0</td>\n",
       "      <td>0.0</td>\n",
       "      <td>3.075789e-07</td>\n",
       "      <td>3.361222e-07</td>\n",
       "      <td>0.389983</td>\n",
       "      <td>-0.092406</td>\n",
       "      <td>1.242960e+07</td>\n",
       "      <td>15412700.0</td>\n",
       "      <td>0.185</td>\n",
       "      <td>0.075</td>\n",
       "      <td>0.022000</td>\n",
       "      <td>0.198235</td>\n",
       "      <td>0.5675</td>\n",
       "      <td>0.580</td>\n",
       "      <td>0.580000</td>\n",
       "      <td>0.5800</td>\n",
       "      <td>0.222286</td>\n",
       "      <td>0.239341</td>\n",
       "      <td>1.16</td>\n",
       "      <td>0.37</td>\n",
       "      <td>7.0</td>\n",
       "      <td>0.0</td>\n",
       "      <td>1.0</td>\n",
       "      <td>15.5678</td>\n",
       "      <td>0.003153</td>\n",
       "      <td>0.0</td>\n",
       "      <td>0.0</td>\n",
       "      <td>0.042874</td>\n",
       "      <td>0.018620</td>\n",
       "      <td>0.078845</td>\n",
       "      <td>0.028212</td>\n",
       "      <td>0.015062</td>\n",
       "      <td>0.042357</td>\n",
       "      <td>0.011922</td>\n",
       "      <td>0.019487</td>\n",
       "    </tr>\n",
       "    <tr>\n",
       "      <th>2012-07-03</th>\n",
       "      <td>0.026022</td>\n",
       "      <td>0.0</td>\n",
       "      <td>0.033333</td>\n",
       "      <td>-0.033333</td>\n",
       "      <td>0.0</td>\n",
       "      <td>-0.1</td>\n",
       "      <td>0.0</td>\n",
       "      <td>0.0</td>\n",
       "      <td>0.066667</td>\n",
       "      <td>0.066667</td>\n",
       "      <td>17.779968</td>\n",
       "      <td>15.065002</td>\n",
       "      <td>0.125</td>\n",
       "      <td>0.005</td>\n",
       "      <td>0.0</td>\n",
       "      <td>0.0</td>\n",
       "      <td>3.075789e-07</td>\n",
       "      <td>3.415669e-07</td>\n",
       "      <td>-0.167873</td>\n",
       "      <td>-0.085806</td>\n",
       "      <td>-8.829132e+06</td>\n",
       "      <td>-14542100.0</td>\n",
       "      <td>0.000</td>\n",
       "      <td>0.025</td>\n",
       "      <td>0.021560</td>\n",
       "      <td>0.105371</td>\n",
       "      <td>-0.0450</td>\n",
       "      <td>-0.075</td>\n",
       "      <td>-0.173333</td>\n",
       "      <td>-0.2225</td>\n",
       "      <td>0.118286</td>\n",
       "      <td>0.126154</td>\n",
       "      <td>-0.15</td>\n",
       "      <td>0.00</td>\n",
       "      <td>0.0</td>\n",
       "      <td>0.0</td>\n",
       "      <td>0.0</td>\n",
       "      <td>-2.1030</td>\n",
       "      <td>-0.001980</td>\n",
       "      <td>0.0</td>\n",
       "      <td>0.0</td>\n",
       "      <td>-0.027138</td>\n",
       "      <td>-0.011786</td>\n",
       "      <td>-0.050102</td>\n",
       "      <td>0.010553</td>\n",
       "      <td>0.000530</td>\n",
       "      <td>0.015901</td>\n",
       "      <td>0.013208</td>\n",
       "      <td>0.011249</td>\n",
       "    </tr>\n",
       "    <tr>\n",
       "      <th>2012-07-05</th>\n",
       "      <td>-0.010145</td>\n",
       "      <td>0.0</td>\n",
       "      <td>0.033333</td>\n",
       "      <td>-0.033333</td>\n",
       "      <td>0.0</td>\n",
       "      <td>-0.1</td>\n",
       "      <td>0.0</td>\n",
       "      <td>0.0</td>\n",
       "      <td>0.066667</td>\n",
       "      <td>0.066667</td>\n",
       "      <td>5.965027</td>\n",
       "      <td>3.634949</td>\n",
       "      <td>0.255</td>\n",
       "      <td>0.165</td>\n",
       "      <td>0.0</td>\n",
       "      <td>0.0</td>\n",
       "      <td>3.075789e-07</td>\n",
       "      <td>3.471299e-07</td>\n",
       "      <td>-0.155882</td>\n",
       "      <td>0.400323</td>\n",
       "      <td>4.638700e+06</td>\n",
       "      <td>5482100.0</td>\n",
       "      <td>0.000</td>\n",
       "      <td>0.000</td>\n",
       "      <td>0.021129</td>\n",
       "      <td>0.154290</td>\n",
       "      <td>-0.0150</td>\n",
       "      <td>0.015</td>\n",
       "      <td>0.126667</td>\n",
       "      <td>0.1825</td>\n",
       "      <td>0.134286</td>\n",
       "      <td>0.137143</td>\n",
       "      <td>0.03</td>\n",
       "      <td>0.00</td>\n",
       "      <td>0.0</td>\n",
       "      <td>0.0</td>\n",
       "      <td>0.0</td>\n",
       "      <td>0.4492</td>\n",
       "      <td>0.001876</td>\n",
       "      <td>0.0</td>\n",
       "      <td>0.0</td>\n",
       "      <td>0.025689</td>\n",
       "      <td>0.011157</td>\n",
       "      <td>0.047411</td>\n",
       "      <td>0.021303</td>\n",
       "      <td>0.017479</td>\n",
       "      <td>0.026957</td>\n",
       "      <td>0.004373</td>\n",
       "      <td>0.002684</td>\n",
       "    </tr>\n",
       "  </tbody>\n",
       "</table>\n",
       "</div>"
      ],
      "text/plain": [
       "            y_return_ratio  TensorFlow__diff_1_shift_4  deep learning__diff_1_shift_4  Artificial Intelligence__diff_1_shift_19  Machine Learning__diff_1_shift_4  neural network__diff_1_shift_9  MXNet__diff_1_shift_9  blockchain_news_diff_1_shift_4  GPU_news_diff_1_shift_17  gaming_news_diff_1_shift_2  SandP_diff_1  NasdaqTech_diff_1  ATVI_gaming_diff_1  TTWO_gaming_diff_1  UBSFY_gaming_diff_1  fps_transformed_ffill_diff_1_shift_2  fps_transformed_interpolated_diff_1_shift_2  fps_interpolated_transformed_diff_1_shift_2  PLUS_DM_diff_1  MINUS_DM_diff_1_shift_8     AD_diff_1  OBV_diff_1  MIDPOINT_diff_1  MIDPRICE_diff_1  SAR_diff_1_shift_13  TEMA_diff_1  AVGPRICE_diff_1  MEDPRICE_diff_1  TYPPRICE_diff_1  WCLPRICE_diff_1  LINEARREG_diff_1  TSF_diff_1  ADD_diff_1  MAX_diff_1  MAXINDEX_diff_1  MIN_diff_1  MININDEX_diff_1_shift_19  MULT_diff_1  ATAN_diff_1  CEIL_diff_1  FLOOR_diff_1  LN_diff_1  LOG10_diff_1  SQRT_diff_1  ATVI_gaming_rr  TTWO_gaming_rr    AMD_rr  SandP_rr  NasdaqTech_rr\n",
       "2012-07-02       -0.026773                         0.0                       0.100000                                 -0.100000                               0.0                            -0.3                    0.0                             0.0                  0.066667                    0.066667     15.859985          25.600036               0.325               0.140                  0.0                                   0.0                                 3.075789e-07                                 3.361222e-07        0.389983                -0.092406  1.242960e+07  15412700.0            0.185            0.075             0.022000     0.198235           0.5675            0.580         0.580000           0.5800          0.222286    0.239341        1.16        0.37              7.0         0.0                       1.0      15.5678     0.003153          0.0           0.0   0.042874      0.018620     0.078845        0.028212        0.015062  0.042357  0.011922       0.019487\n",
       "2012-07-03        0.026022                         0.0                       0.033333                                 -0.033333                               0.0                            -0.1                    0.0                             0.0                  0.066667                    0.066667     17.779968          15.065002               0.125               0.005                  0.0                                   0.0                                 3.075789e-07                                 3.415669e-07       -0.167873                -0.085806 -8.829132e+06 -14542100.0            0.000            0.025             0.021560     0.105371          -0.0450           -0.075        -0.173333          -0.2225          0.118286    0.126154       -0.15        0.00              0.0         0.0                       0.0      -2.1030    -0.001980          0.0           0.0  -0.027138     -0.011786    -0.050102        0.010553        0.000530  0.015901  0.013208       0.011249\n",
       "2012-07-05       -0.010145                         0.0                       0.033333                                 -0.033333                               0.0                            -0.1                    0.0                             0.0                  0.066667                    0.066667      5.965027           3.634949               0.255               0.165                  0.0                                   0.0                                 3.075789e-07                                 3.471299e-07       -0.155882                 0.400323  4.638700e+06   5482100.0            0.000            0.000             0.021129     0.154290          -0.0150            0.015         0.126667           0.1825          0.134286    0.137143        0.03        0.00              0.0         0.0                       0.0       0.4492     0.001876          0.0           0.0   0.025689      0.011157     0.047411        0.021303        0.017479  0.026957  0.004373       0.002684"
      ]
     },
     "metadata": {},
     "output_type": "display_data"
    }
   ],
   "source": [
    "train = pd.read_csv('datasets/podzielone/ekonometryczne/stacjonarne/train_ekon.csv', index_col=0)\n",
    "val1 = pd.read_csv('datasets/podzielone/ekonometryczne/stacjonarne/valid1_ekon.csv', index_col=0)\n",
    "val2 = pd.read_csv('datasets/podzielone/ekonometryczne/stacjonarne/valid2_ekon.csv', index_col=0)\n",
    "val3 = pd.read_csv('datasets/podzielone/ekonometryczne/stacjonarne/valid3_ekon.csv', index_col=0)\n",
    "test = pd.read_csv('datasets/podzielone/ekonometryczne/stacjonarne/test_ekon.csv', index_col=0)\n",
    "\n",
    "train.index = pd.to_datetime(train.index)\n",
    "val1.index = pd.to_datetime(val1.index)\n",
    "val2.index = pd.to_datetime(val2.index)\n",
    "val3.index = pd.to_datetime(val3.index)\n",
    "test.index = pd.to_datetime(test.index)\n",
    "\n",
    "whole = pd.concat([train, val1, val2, val3, test])\n",
    "\n",
    "train1 = train.asfreq('B', method='bfill').fillna(method='bfill')\n",
    "train2 = pd.concat([train, val1]).asfreq('B', method='bfill').fillna(method='bfill')\n",
    "train3 = pd.concat([train, val1, val2]).asfreq('B', method='bfill').fillna(method='bfill')\n",
    "\n",
    "val1 = val1.asfreq('B', method='bfill').fillna(method='bfill')\n",
    "val2 = val2.asfreq('B', method='bfill').fillna(method='bfill')\n",
    "val3 = val3.asfreq('B', method='bfill').fillna(method='bfill')\n",
    "test = test.asfreq('B', method='bfill').fillna(method='bfill')\n",
    "\n",
    "display(train.head(3))\n",
    "display(val1.head(3))\n",
    "display(val2.head(3))\n",
    "display(val3.head(3))\n",
    "display(test.head(3))\n",
    "display(whole.head(3))"
   ]
  },
  {
   "cell_type": "markdown",
   "metadata": {},
   "source": [
    "# Wybór X"
   ]
  },
  {
   "cell_type": "code",
   "execution_count": 5,
   "metadata": {},
   "outputs": [],
   "source": [
    "first_iter_columns = [\n",
    "    'MINUS_DM_diff_1_shift_8',\n",
    "    'SAR_diff_1_shift_13',\n",
    "    'AVGPRICE_diff_1',\n",
    "    'MEDPRICE_diff_1',\n",
    "    'ADD_diff_1',\n",
    "    'MAXINDEX_diff_1',\n",
    "    'MULT_diff_1',\n",
    "    'LN_diff_1',\n",
    "    'LOG10_diff_1',\n",
    "    'SQRT_diff_1',\n",
    "    'TensorFlow__diff_1_shift_4',\n",
    "    'MXNet__diff_1_shift_9',\n",
    "    'blockchain_news_diff_1_shift_4',\n",
    "    'GPU_news_diff_1_shift_17',\n",
    "    'gaming_news_diff_1_shift_2',\n",
    "    'ATVI_gaming_diff_1',\n",
    "    'TTWO_gaming_diff_1',\n",
    "    'fps_transformed_interpolated_diff_1_shift_2',\n",
    "    'fps_interpolated_transformed_diff_1_shift_2',\n",
    "    'AMD_rr',\n",
    "    'day_of_week',\n",
    "    'day_of_year',\n",
    "    'week',\n",
    "]"
   ]
  },
  {
   "cell_type": "markdown",
   "metadata": {},
   "source": [
    "## Trening 1"
   ]
  },
  {
   "cell_type": "code",
   "execution_count": 6,
   "metadata": {
    "scrolled": true
   },
   "outputs": [],
   "source": [
    "train1[\"day_of_week\"] = train1.index.dayofweek\n",
    "train1[\"day_of_year\"] = train1.index.dayofweek\n",
    "train1[\"week\"] = train1.index.week\n",
    "train1[\"quarter\"] = train1.index.quarter\n",
    "\n",
    "val1[\"day_of_week\"] = val1.index.dayofweek\n",
    "val1[\"day_of_year\"] = val1.index.dayofweek\n",
    "val1[\"week\"] = val1.index.week\n",
    "val1[\"quarter\"] = val1.index.quarter\n",
    "\n",
    "\n",
    "\n",
    "y_train = train1['y_return_ratio']\n",
    "x_train = train1.drop('y_return_ratio', axis=1)\n",
    "y_test = val1['y_return_ratio']\n",
    "x_test = val1.drop('y_return_ratio', axis=1)"
   ]
  },
  {
   "cell_type": "code",
   "execution_count": null,
   "metadata": {
    "scrolled": true
   },
   "outputs": [],
   "source": [
    "scores = []\n",
    "variables = []\n",
    "for alpha in [0.0005*x for x in range(1, 2*10**3)]:\n",
    "    print(alpha)\n",
    "    try:\n",
    "        clf = Lasso(alpha=alpha, max_iter=10**5)\n",
    "        featureSelection = SelectFromModel(clf)\n",
    "        featureSelection.fit(x_train, y_train)\n",
    "        train1_variables = x_train.columns[featureSelection.get_support()].tolist()\n",
    "        if len(train1_variables) >= 2 and train1_variables not in variables:\n",
    "            scores.append((rmse(clf.fit(x_train, y_train).predict(x_test), y_test), alpha, train1_variables))\n",
    "            variables.append(train1_variables)\n",
    "    except: pass\n",
    "\n",
    "# train1_variables = sorted(scores, key=lambda x: x[0])[0][2]\n",
    "sorted(scores, key=lambda x: x[0])[:5]"
   ]
  },
  {
   "cell_type": "code",
   "execution_count": 8,
   "metadata": {
    "scrolled": true
   },
   "outputs": [
    {
     "name": "stderr",
     "output_type": "stream",
     "text": [
      "/home/michal/anaconda3/lib/python3.7/site-packages/statsmodels/tsa/statespace/representation.py:375: FutureWarning: Using a non-tuple sequence for multidimensional indexing is deprecated; use `arr[tuple(seq)]` instead of `arr[seq]`. In the future this will be interpreted as an array index, `arr[np.array(seq)]`, which will result either in an error or a different result.\n",
      "  return matrix[[slice(None)]*(matrix.ndim-1) + [0]]\n",
      "/home/michal/anaconda3/lib/python3.7/site-packages/statsmodels/base/model.py:508: ConvergenceWarning: Maximum Likelihood optimization failed to converge. Check mle_retvals\n",
      "  \"Check mle_retvals\", ConvergenceWarning)\n",
      "/home/michal/anaconda3/lib/python3.7/site-packages/statsmodels/base/model.py:508: ConvergenceWarning: Maximum Likelihood optimization failed to converge. Check mle_retvals\n",
      "  \"Check mle_retvals\", ConvergenceWarning)\n",
      "/home/michal/anaconda3/lib/python3.7/site-packages/statsmodels/base/model.py:508: ConvergenceWarning: Maximum Likelihood optimization failed to converge. Check mle_retvals\n",
      "  \"Check mle_retvals\", ConvergenceWarning)\n",
      "/home/michal/anaconda3/lib/python3.7/site-packages/statsmodels/base/model.py:508: ConvergenceWarning: Maximum Likelihood optimization failed to converge. Check mle_retvals\n",
      "  \"Check mle_retvals\", ConvergenceWarning)\n"
     ]
    },
    {
     "data": {
      "text/html": [
       "<div>\n",
       "<style scoped>\n",
       "    .dataframe tbody tr th:only-of-type {\n",
       "        vertical-align: middle;\n",
       "    }\n",
       "\n",
       "    .dataframe tbody tr th {\n",
       "        vertical-align: top;\n",
       "    }\n",
       "\n",
       "    .dataframe thead th {\n",
       "        text-align: right;\n",
       "    }\n",
       "</style>\n",
       "<table border=\"1\" class=\"dataframe\">\n",
       "  <thead>\n",
       "    <tr style=\"text-align: right;\">\n",
       "      <th></th>\n",
       "      <th>error_str</th>\n",
       "    </tr>\n",
       "  </thead>\n",
       "  <tbody>\n",
       "    <tr>\n",
       "      <th>(2, 0, 1)</th>\n",
       "      <td>Non-stationary starting autoregressive paramet...</td>\n",
       "    </tr>\n",
       "    <tr>\n",
       "      <th>(2, 0, 2)</th>\n",
       "      <td>Non-stationary starting autoregressive paramet...</td>\n",
       "    </tr>\n",
       "  </tbody>\n",
       "</table>\n",
       "</div>"
      ],
      "text/plain": [
       "                                                   error_str\n",
       "(2, 0, 1)  Non-stationary starting autoregressive paramet...\n",
       "(2, 0, 2)  Non-stationary starting autoregressive paramet..."
      ]
     },
     "metadata": {},
     "output_type": "display_data"
    },
    {
     "name": "stderr",
     "output_type": "stream",
     "text": [
      "/home/michal/anaconda3/lib/python3.7/site-packages/statsmodels/base/model.py:508: ConvergenceWarning: Maximum Likelihood optimization failed to converge. Check mle_retvals\n",
      "  \"Check mle_retvals\", ConvergenceWarning)\n",
      "/home/michal/anaconda3/lib/python3.7/site-packages/statsmodels/base/model.py:508: ConvergenceWarning: Maximum Likelihood optimization failed to converge. Check mle_retvals\n",
      "  \"Check mle_retvals\", ConvergenceWarning)\n",
      "/home/michal/anaconda3/lib/python3.7/site-packages/statsmodels/base/model.py:508: ConvergenceWarning: Maximum Likelihood optimization failed to converge. Check mle_retvals\n",
      "  \"Check mle_retvals\", ConvergenceWarning)\n"
     ]
    },
    {
     "data": {
      "text/html": [
       "<div>\n",
       "<style scoped>\n",
       "    .dataframe tbody tr th:only-of-type {\n",
       "        vertical-align: middle;\n",
       "    }\n",
       "\n",
       "    .dataframe tbody tr th {\n",
       "        vertical-align: top;\n",
       "    }\n",
       "\n",
       "    .dataframe thead th {\n",
       "        text-align: right;\n",
       "    }\n",
       "</style>\n",
       "<table border=\"1\" class=\"dataframe\">\n",
       "  <thead>\n",
       "    <tr style=\"text-align: right;\">\n",
       "      <th></th>\n",
       "    </tr>\n",
       "  </thead>\n",
       "  <tbody>\n",
       "  </tbody>\n",
       "</table>\n",
       "</div>"
      ],
      "text/plain": [
       "Empty DataFrame\n",
       "Columns: []\n",
       "Index: []"
      ]
     },
     "metadata": {},
     "output_type": "display_data"
    },
    {
     "name": "stderr",
     "output_type": "stream",
     "text": [
      "/home/michal/anaconda3/lib/python3.7/site-packages/statsmodels/base/model.py:508: ConvergenceWarning: Maximum Likelihood optimization failed to converge. Check mle_retvals\n",
      "  \"Check mle_retvals\", ConvergenceWarning)\n",
      "/home/michal/anaconda3/lib/python3.7/site-packages/statsmodels/base/model.py:508: ConvergenceWarning: Maximum Likelihood optimization failed to converge. Check mle_retvals\n",
      "  \"Check mle_retvals\", ConvergenceWarning)\n",
      "/home/michal/anaconda3/lib/python3.7/site-packages/statsmodels/base/model.py:508: ConvergenceWarning: Maximum Likelihood optimization failed to converge. Check mle_retvals\n",
      "  \"Check mle_retvals\", ConvergenceWarning)\n"
     ]
    },
    {
     "data": {
      "text/html": [
       "<div>\n",
       "<style scoped>\n",
       "    .dataframe tbody tr th:only-of-type {\n",
       "        vertical-align: middle;\n",
       "    }\n",
       "\n",
       "    .dataframe tbody tr th {\n",
       "        vertical-align: top;\n",
       "    }\n",
       "\n",
       "    .dataframe thead th {\n",
       "        text-align: right;\n",
       "    }\n",
       "</style>\n",
       "<table border=\"1\" class=\"dataframe\">\n",
       "  <thead>\n",
       "    <tr style=\"text-align: right;\">\n",
       "      <th></th>\n",
       "      <th>error_str</th>\n",
       "    </tr>\n",
       "  </thead>\n",
       "  <tbody>\n",
       "    <tr>\n",
       "      <th>(1, 0, 1)</th>\n",
       "      <td>Non-stationary starting autoregressive paramet...</td>\n",
       "    </tr>\n",
       "    <tr>\n",
       "      <th>(2, 0, 1)</th>\n",
       "      <td>Non-stationary starting autoregressive paramet...</td>\n",
       "    </tr>\n",
       "    <tr>\n",
       "      <th>(2, 0, 2)</th>\n",
       "      <td>Non-stationary starting autoregressive paramet...</td>\n",
       "    </tr>\n",
       "    <tr>\n",
       "      <th>(3, 0, 2)</th>\n",
       "      <td>non-invertible starting MA parameters found wi...</td>\n",
       "    </tr>\n",
       "  </tbody>\n",
       "</table>\n",
       "</div>"
      ],
      "text/plain": [
       "                                                   error_str\n",
       "(1, 0, 1)  Non-stationary starting autoregressive paramet...\n",
       "(2, 0, 1)  Non-stationary starting autoregressive paramet...\n",
       "(2, 0, 2)  Non-stationary starting autoregressive paramet...\n",
       "(3, 0, 2)  non-invertible starting MA parameters found wi..."
      ]
     },
     "metadata": {},
     "output_type": "display_data"
    },
    {
     "name": "stderr",
     "output_type": "stream",
     "text": [
      "/home/michal/anaconda3/lib/python3.7/site-packages/statsmodels/base/model.py:508: ConvergenceWarning: Maximum Likelihood optimization failed to converge. Check mle_retvals\n",
      "  \"Check mle_retvals\", ConvergenceWarning)\n"
     ]
    },
    {
     "data": {
      "text/html": [
       "<div>\n",
       "<style scoped>\n",
       "    .dataframe tbody tr th:only-of-type {\n",
       "        vertical-align: middle;\n",
       "    }\n",
       "\n",
       "    .dataframe tbody tr th {\n",
       "        vertical-align: top;\n",
       "    }\n",
       "\n",
       "    .dataframe thead th {\n",
       "        text-align: right;\n",
       "    }\n",
       "</style>\n",
       "<table border=\"1\" class=\"dataframe\">\n",
       "  <thead>\n",
       "    <tr style=\"text-align: right;\">\n",
       "      <th></th>\n",
       "    </tr>\n",
       "  </thead>\n",
       "  <tbody>\n",
       "  </tbody>\n",
       "</table>\n",
       "</div>"
      ],
      "text/plain": [
       "Empty DataFrame\n",
       "Columns: []\n",
       "Index: []"
      ]
     },
     "metadata": {},
     "output_type": "display_data"
    },
    {
     "name": "stderr",
     "output_type": "stream",
     "text": [
      "/home/michal/anaconda3/lib/python3.7/site-packages/statsmodels/base/model.py:508: ConvergenceWarning: Maximum Likelihood optimization failed to converge. Check mle_retvals\n",
      "  \"Check mle_retvals\", ConvergenceWarning)\n",
      "/home/michal/anaconda3/lib/python3.7/site-packages/statsmodels/base/model.py:508: ConvergenceWarning: Maximum Likelihood optimization failed to converge. Check mle_retvals\n",
      "  \"Check mle_retvals\", ConvergenceWarning)\n",
      "/home/michal/anaconda3/lib/python3.7/site-packages/statsmodels/base/model.py:508: ConvergenceWarning: Maximum Likelihood optimization failed to converge. Check mle_retvals\n",
      "  \"Check mle_retvals\", ConvergenceWarning)\n"
     ]
    },
    {
     "data": {
      "text/html": [
       "<div>\n",
       "<style scoped>\n",
       "    .dataframe tbody tr th:only-of-type {\n",
       "        vertical-align: middle;\n",
       "    }\n",
       "\n",
       "    .dataframe tbody tr th {\n",
       "        vertical-align: top;\n",
       "    }\n",
       "\n",
       "    .dataframe thead th {\n",
       "        text-align: right;\n",
       "    }\n",
       "</style>\n",
       "<table border=\"1\" class=\"dataframe\">\n",
       "  <thead>\n",
       "    <tr style=\"text-align: right;\">\n",
       "      <th></th>\n",
       "      <th>error_str</th>\n",
       "    </tr>\n",
       "  </thead>\n",
       "  <tbody>\n",
       "    <tr>\n",
       "      <th>(1, 0, 1)</th>\n",
       "      <td>Non-stationary starting autoregressive paramet...</td>\n",
       "    </tr>\n",
       "    <tr>\n",
       "      <th>(2, 0, 1)</th>\n",
       "      <td>Non-stationary starting autoregressive paramet...</td>\n",
       "    </tr>\n",
       "    <tr>\n",
       "      <th>(2, 0, 2)</th>\n",
       "      <td>Non-stationary starting autoregressive paramet...</td>\n",
       "    </tr>\n",
       "  </tbody>\n",
       "</table>\n",
       "</div>"
      ],
      "text/plain": [
       "                                                   error_str\n",
       "(1, 0, 1)  Non-stationary starting autoregressive paramet...\n",
       "(2, 0, 1)  Non-stationary starting autoregressive paramet...\n",
       "(2, 0, 2)  Non-stationary starting autoregressive paramet..."
      ]
     },
     "metadata": {},
     "output_type": "display_data"
    },
    {
     "name": "stderr",
     "output_type": "stream",
     "text": [
      "/home/michal/anaconda3/lib/python3.7/site-packages/statsmodels/base/model.py:508: ConvergenceWarning: Maximum Likelihood optimization failed to converge. Check mle_retvals\n",
      "  \"Check mle_retvals\", ConvergenceWarning)\n"
     ]
    },
    {
     "data": {
      "text/html": [
       "<div>\n",
       "<style scoped>\n",
       "    .dataframe tbody tr th:only-of-type {\n",
       "        vertical-align: middle;\n",
       "    }\n",
       "\n",
       "    .dataframe tbody tr th {\n",
       "        vertical-align: top;\n",
       "    }\n",
       "\n",
       "    .dataframe thead th {\n",
       "        text-align: right;\n",
       "    }\n",
       "</style>\n",
       "<table border=\"1\" class=\"dataframe\">\n",
       "  <thead>\n",
       "    <tr style=\"text-align: right;\">\n",
       "      <th></th>\n",
       "    </tr>\n",
       "  </thead>\n",
       "  <tbody>\n",
       "  </tbody>\n",
       "</table>\n",
       "</div>"
      ],
      "text/plain": [
       "Empty DataFrame\n",
       "Columns: []\n",
       "Index: []"
      ]
     },
     "metadata": {},
     "output_type": "display_data"
    },
    {
     "name": "stderr",
     "output_type": "stream",
     "text": [
      "/home/michal/anaconda3/lib/python3.7/site-packages/statsmodels/base/model.py:508: ConvergenceWarning: Maximum Likelihood optimization failed to converge. Check mle_retvals\n",
      "  \"Check mle_retvals\", ConvergenceWarning)\n"
     ]
    },
    {
     "data": {
      "text/html": [
       "<div>\n",
       "<style scoped>\n",
       "    .dataframe tbody tr th:only-of-type {\n",
       "        vertical-align: middle;\n",
       "    }\n",
       "\n",
       "    .dataframe tbody tr th {\n",
       "        vertical-align: top;\n",
       "    }\n",
       "\n",
       "    .dataframe thead th {\n",
       "        text-align: right;\n",
       "    }\n",
       "</style>\n",
       "<table border=\"1\" class=\"dataframe\">\n",
       "  <thead>\n",
       "    <tr style=\"text-align: right;\">\n",
       "      <th></th>\n",
       "      <th>error_str</th>\n",
       "    </tr>\n",
       "  </thead>\n",
       "  <tbody>\n",
       "    <tr>\n",
       "      <th>(1, 0, 1)</th>\n",
       "      <td>Non-stationary starting autoregressive paramet...</td>\n",
       "    </tr>\n",
       "    <tr>\n",
       "      <th>(2, 0, 1)</th>\n",
       "      <td>Non-stationary starting autoregressive paramet...</td>\n",
       "    </tr>\n",
       "    <tr>\n",
       "      <th>(2, 0, 2)</th>\n",
       "      <td>Non-stationary starting autoregressive paramet...</td>\n",
       "    </tr>\n",
       "  </tbody>\n",
       "</table>\n",
       "</div>"
      ],
      "text/plain": [
       "                                                   error_str\n",
       "(1, 0, 1)  Non-stationary starting autoregressive paramet...\n",
       "(2, 0, 1)  Non-stationary starting autoregressive paramet...\n",
       "(2, 0, 2)  Non-stationary starting autoregressive paramet..."
      ]
     },
     "metadata": {},
     "output_type": "display_data"
    },
    {
     "name": "stderr",
     "output_type": "stream",
     "text": [
      "/home/michal/anaconda3/lib/python3.7/site-packages/statsmodels/base/model.py:508: ConvergenceWarning: Maximum Likelihood optimization failed to converge. Check mle_retvals\n",
      "  \"Check mle_retvals\", ConvergenceWarning)\n",
      "/home/michal/anaconda3/lib/python3.7/site-packages/statsmodels/base/model.py:508: ConvergenceWarning: Maximum Likelihood optimization failed to converge. Check mle_retvals\n",
      "  \"Check mle_retvals\", ConvergenceWarning)\n",
      "/home/michal/anaconda3/lib/python3.7/site-packages/statsmodels/base/model.py:508: ConvergenceWarning: Maximum Likelihood optimization failed to converge. Check mle_retvals\n",
      "  \"Check mle_retvals\", ConvergenceWarning)\n"
     ]
    },
    {
     "data": {
      "text/html": [
       "<div>\n",
       "<style scoped>\n",
       "    .dataframe tbody tr th:only-of-type {\n",
       "        vertical-align: middle;\n",
       "    }\n",
       "\n",
       "    .dataframe tbody tr th {\n",
       "        vertical-align: top;\n",
       "    }\n",
       "\n",
       "    .dataframe thead th {\n",
       "        text-align: right;\n",
       "    }\n",
       "</style>\n",
       "<table border=\"1\" class=\"dataframe\">\n",
       "  <thead>\n",
       "    <tr style=\"text-align: right;\">\n",
       "      <th></th>\n",
       "    </tr>\n",
       "  </thead>\n",
       "  <tbody>\n",
       "  </tbody>\n",
       "</table>\n",
       "</div>"
      ],
      "text/plain": [
       "Empty DataFrame\n",
       "Columns: []\n",
       "Index: []"
      ]
     },
     "metadata": {},
     "output_type": "display_data"
    },
    {
     "name": "stderr",
     "output_type": "stream",
     "text": [
      "/home/michal/anaconda3/lib/python3.7/site-packages/statsmodels/base/model.py:508: ConvergenceWarning: Maximum Likelihood optimization failed to converge. Check mle_retvals\n",
      "  \"Check mle_retvals\", ConvergenceWarning)\n",
      "/home/michal/anaconda3/lib/python3.7/site-packages/statsmodels/base/model.py:508: ConvergenceWarning: Maximum Likelihood optimization failed to converge. Check mle_retvals\n",
      "  \"Check mle_retvals\", ConvergenceWarning)\n",
      "/home/michal/anaconda3/lib/python3.7/site-packages/statsmodels/base/model.py:508: ConvergenceWarning: Maximum Likelihood optimization failed to converge. Check mle_retvals\n",
      "  \"Check mle_retvals\", ConvergenceWarning)\n"
     ]
    },
    {
     "data": {
      "text/html": [
       "<div>\n",
       "<style scoped>\n",
       "    .dataframe tbody tr th:only-of-type {\n",
       "        vertical-align: middle;\n",
       "    }\n",
       "\n",
       "    .dataframe tbody tr th {\n",
       "        vertical-align: top;\n",
       "    }\n",
       "\n",
       "    .dataframe thead th {\n",
       "        text-align: right;\n",
       "    }\n",
       "</style>\n",
       "<table border=\"1\" class=\"dataframe\">\n",
       "  <thead>\n",
       "    <tr style=\"text-align: right;\">\n",
       "      <th></th>\n",
       "      <th>error_str</th>\n",
       "    </tr>\n",
       "  </thead>\n",
       "  <tbody>\n",
       "    <tr>\n",
       "      <th>(2, 0, 1)</th>\n",
       "      <td>Non-stationary starting autoregressive paramet...</td>\n",
       "    </tr>\n",
       "    <tr>\n",
       "      <th>(2, 0, 2)</th>\n",
       "      <td>Non-stationary starting autoregressive paramet...</td>\n",
       "    </tr>\n",
       "  </tbody>\n",
       "</table>\n",
       "</div>"
      ],
      "text/plain": [
       "                                                   error_str\n",
       "(2, 0, 1)  Non-stationary starting autoregressive paramet...\n",
       "(2, 0, 2)  Non-stationary starting autoregressive paramet..."
      ]
     },
     "metadata": {},
     "output_type": "display_data"
    },
    {
     "name": "stderr",
     "output_type": "stream",
     "text": [
      "/home/michal/anaconda3/lib/python3.7/site-packages/statsmodels/base/model.py:508: ConvergenceWarning: Maximum Likelihood optimization failed to converge. Check mle_retvals\n",
      "  \"Check mle_retvals\", ConvergenceWarning)\n",
      "/home/michal/anaconda3/lib/python3.7/site-packages/statsmodels/base/model.py:508: ConvergenceWarning: Maximum Likelihood optimization failed to converge. Check mle_retvals\n",
      "  \"Check mle_retvals\", ConvergenceWarning)\n"
     ]
    },
    {
     "data": {
      "text/html": [
       "<div>\n",
       "<style scoped>\n",
       "    .dataframe tbody tr th:only-of-type {\n",
       "        vertical-align: middle;\n",
       "    }\n",
       "\n",
       "    .dataframe tbody tr th {\n",
       "        vertical-align: top;\n",
       "    }\n",
       "\n",
       "    .dataframe thead th {\n",
       "        text-align: right;\n",
       "    }\n",
       "</style>\n",
       "<table border=\"1\" class=\"dataframe\">\n",
       "  <thead>\n",
       "    <tr style=\"text-align: right;\">\n",
       "      <th></th>\n",
       "    </tr>\n",
       "  </thead>\n",
       "  <tbody>\n",
       "  </tbody>\n",
       "</table>\n",
       "</div>"
      ],
      "text/plain": [
       "Empty DataFrame\n",
       "Columns: []\n",
       "Index: []"
      ]
     },
     "metadata": {},
     "output_type": "display_data"
    }
   ],
   "source": [
    "pmax = 3\n",
    "qmax = 3\n",
    "d = 0\n",
    "\n",
    "for i, (score, alpha, varss) in enumerate(sorted(scores, key=lambda x: x[0])[:5]):\n",
    "    x_train = train1[varss]\n",
    "    x_test = val1[varss]\n",
    "    best10, results = find_best_hparameters(y_train, x_train, pmax=pmax, qmax=qmax, d=d)\n",
    "#     print(best10)\n",
    "#     print(results)\n",
    "#     print('###############################################')\n",
    "    best, results = select_best_orders_from_best10(y_test, x_test, best10)\n",
    "    best_results[f'train1_{i}'] = (results, varss)\n",
    "#     print(best)\n",
    "#     print(results)"
   ]
  },
  {
   "cell_type": "markdown",
   "metadata": {},
   "source": [
    "## Trening 2"
   ]
  },
  {
   "cell_type": "code",
   "execution_count": 9,
   "metadata": {
    "scrolled": true
   },
   "outputs": [],
   "source": [
    "train2[\"day_of_week\"] = train2.index.dayofweek\n",
    "train2[\"day_of_year\"] = train2.index.dayofweek\n",
    "train2[\"week\"] = train2.index.week\n",
    "train2[\"quarter\"] = train2.index.quarter\n",
    "\n",
    "val2[\"day_of_week\"] = val2.index.dayofweek\n",
    "val2[\"day_of_year\"] = val2.index.dayofweek\n",
    "val2[\"week\"] = val2.index.week\n",
    "val2[\"quarter\"] = val2.index.quarter\n",
    "\n",
    "\n",
    "\n",
    "y_train = train2['y_return_ratio']\n",
    "x_train = train2.drop('y_return_ratio', axis=1)\n",
    "\n",
    "y_test = val2['y_return_ratio']\n",
    "x_test = val2.drop('y_return_ratio', axis=1)"
   ]
  },
  {
   "cell_type": "code",
   "execution_count": 10,
   "metadata": {},
   "outputs": [
    {
     "data": {
      "text/plain": [
       "[(0.027313305711719946,\n",
       "  0.001,\n",
       "  ['SandP_diff_1',\n",
       "   'NasdaqTech_diff_1',\n",
       "   'MAXINDEX_diff_1',\n",
       "   'MIN_diff_1',\n",
       "   'MININDEX_diff_1_shift_19']),\n",
       " (0.027527176094223817,\n",
       "  0.0015,\n",
       "  ['SandP_diff_1', 'NasdaqTech_diff_1', 'MININDEX_diff_1_shift_19']),\n",
       " (0.027553422165097867, 0.002, ['SandP_diff_1', 'NasdaqTech_diff_1']),\n",
       " (0.027603469621178295,\n",
       "  0.0005,\n",
       "  ['gaming_news_diff_1_shift_2',\n",
       "   'SandP_diff_1',\n",
       "   'NasdaqTech_diff_1',\n",
       "   'TTWO_gaming_diff_1',\n",
       "   'SAR_diff_1_shift_13',\n",
       "   'MAXINDEX_diff_1',\n",
       "   'MIN_diff_1',\n",
       "   'MININDEX_diff_1_shift_19'])]"
      ]
     },
     "execution_count": 10,
     "metadata": {},
     "output_type": "execute_result"
    }
   ],
   "source": [
    "scores = []\n",
    "variables = []\n",
    "for alpha in [0.0005*x for x in range(1, 2*10**3)]:\n",
    "    try:\n",
    "        clf = Lasso(alpha=alpha, max_iter=10**5)\n",
    "        featureSelection = SelectFromModel(clf)\n",
    "        featureSelection.fit(x_train, y_train)\n",
    "        train2_variables = x_train.columns[featureSelection.get_support()].tolist()\n",
    "        if len(train2_variables) >= 2 and train2_variables not in variables:\n",
    "            scores.append((rmse(clf.fit(x_train, y_train).predict(x_test), y_test), alpha, train2_variables))\n",
    "            variables.append(train2_variables)\n",
    "    except: pass\n",
    "\n",
    "# train2_variables = sorted(scores, key=lambda x: x[0])[0][2]\n",
    "sorted(scores, key=lambda x: x[0])[:5]"
   ]
  },
  {
   "cell_type": "code",
   "execution_count": 11,
   "metadata": {
    "scrolled": true
   },
   "outputs": [
    {
     "name": "stderr",
     "output_type": "stream",
     "text": [
      "/home/michal/anaconda3/lib/python3.7/site-packages/statsmodels/tsa/statespace/representation.py:375: FutureWarning: Using a non-tuple sequence for multidimensional indexing is deprecated; use `arr[tuple(seq)]` instead of `arr[seq]`. In the future this will be interpreted as an array index, `arr[np.array(seq)]`, which will result either in an error or a different result.\n",
      "  return matrix[[slice(None)]*(matrix.ndim-1) + [0]]\n",
      "/home/michal/anaconda3/lib/python3.7/site-packages/statsmodels/base/model.py:508: ConvergenceWarning: Maximum Likelihood optimization failed to converge. Check mle_retvals\n",
      "  \"Check mle_retvals\", ConvergenceWarning)\n"
     ]
    },
    {
     "data": {
      "text/html": [
       "<div>\n",
       "<style scoped>\n",
       "    .dataframe tbody tr th:only-of-type {\n",
       "        vertical-align: middle;\n",
       "    }\n",
       "\n",
       "    .dataframe tbody tr th {\n",
       "        vertical-align: top;\n",
       "    }\n",
       "\n",
       "    .dataframe thead th {\n",
       "        text-align: right;\n",
       "    }\n",
       "</style>\n",
       "<table border=\"1\" class=\"dataframe\">\n",
       "  <thead>\n",
       "    <tr style=\"text-align: right;\">\n",
       "      <th></th>\n",
       "      <th>error_str</th>\n",
       "    </tr>\n",
       "  </thead>\n",
       "  <tbody>\n",
       "    <tr>\n",
       "      <th>(1, 0, 1)</th>\n",
       "      <td>Non-stationary starting autoregressive paramet...</td>\n",
       "    </tr>\n",
       "    <tr>\n",
       "      <th>(2, 0, 1)</th>\n",
       "      <td>Non-stationary starting autoregressive paramet...</td>\n",
       "    </tr>\n",
       "  </tbody>\n",
       "</table>\n",
       "</div>"
      ],
      "text/plain": [
       "                                                   error_str\n",
       "(1, 0, 1)  Non-stationary starting autoregressive paramet...\n",
       "(2, 0, 1)  Non-stationary starting autoregressive paramet..."
      ]
     },
     "metadata": {},
     "output_type": "display_data"
    },
    {
     "name": "stdout",
     "output_type": "stream",
     "text": [
      "###############################################\n"
     ]
    },
    {
     "name": "stderr",
     "output_type": "stream",
     "text": [
      "/home/michal/anaconda3/lib/python3.7/site-packages/statsmodels/base/model.py:508: ConvergenceWarning: Maximum Likelihood optimization failed to converge. Check mle_retvals\n",
      "  \"Check mle_retvals\", ConvergenceWarning)\n",
      "/home/michal/anaconda3/lib/python3.7/site-packages/statsmodels/base/model.py:508: ConvergenceWarning: Maximum Likelihood optimization failed to converge. Check mle_retvals\n",
      "  \"Check mle_retvals\", ConvergenceWarning)\n",
      "/home/michal/anaconda3/lib/python3.7/site-packages/statsmodels/base/model.py:508: ConvergenceWarning: Maximum Likelihood optimization failed to converge. Check mle_retvals\n",
      "  \"Check mle_retvals\", ConvergenceWarning)\n",
      "/home/michal/anaconda3/lib/python3.7/site-packages/statsmodels/base/model.py:508: ConvergenceWarning: Maximum Likelihood optimization failed to converge. Check mle_retvals\n",
      "  \"Check mle_retvals\", ConvergenceWarning)\n"
     ]
    },
    {
     "data": {
      "text/html": [
       "<div>\n",
       "<style scoped>\n",
       "    .dataframe tbody tr th:only-of-type {\n",
       "        vertical-align: middle;\n",
       "    }\n",
       "\n",
       "    .dataframe tbody tr th {\n",
       "        vertical-align: top;\n",
       "    }\n",
       "\n",
       "    .dataframe thead th {\n",
       "        text-align: right;\n",
       "    }\n",
       "</style>\n",
       "<table border=\"1\" class=\"dataframe\">\n",
       "  <thead>\n",
       "    <tr style=\"text-align: right;\">\n",
       "      <th></th>\n",
       "    </tr>\n",
       "  </thead>\n",
       "  <tbody>\n",
       "  </tbody>\n",
       "</table>\n",
       "</div>"
      ],
      "text/plain": [
       "Empty DataFrame\n",
       "Columns: []\n",
       "Index: []"
      ]
     },
     "metadata": {},
     "output_type": "display_data"
    },
    {
     "name": "stderr",
     "output_type": "stream",
     "text": [
      "/home/michal/anaconda3/lib/python3.7/site-packages/statsmodels/base/model.py:508: ConvergenceWarning: Maximum Likelihood optimization failed to converge. Check mle_retvals\n",
      "  \"Check mle_retvals\", ConvergenceWarning)\n",
      "/home/michal/anaconda3/lib/python3.7/site-packages/statsmodels/base/model.py:508: ConvergenceWarning: Maximum Likelihood optimization failed to converge. Check mle_retvals\n",
      "  \"Check mle_retvals\", ConvergenceWarning)\n",
      "/home/michal/anaconda3/lib/python3.7/site-packages/statsmodels/base/model.py:508: ConvergenceWarning: Maximum Likelihood optimization failed to converge. Check mle_retvals\n",
      "  \"Check mle_retvals\", ConvergenceWarning)\n",
      "/home/michal/anaconda3/lib/python3.7/site-packages/statsmodels/base/model.py:508: ConvergenceWarning: Maximum Likelihood optimization failed to converge. Check mle_retvals\n",
      "  \"Check mle_retvals\", ConvergenceWarning)\n"
     ]
    },
    {
     "data": {
      "text/html": [
       "<div>\n",
       "<style scoped>\n",
       "    .dataframe tbody tr th:only-of-type {\n",
       "        vertical-align: middle;\n",
       "    }\n",
       "\n",
       "    .dataframe tbody tr th {\n",
       "        vertical-align: top;\n",
       "    }\n",
       "\n",
       "    .dataframe thead th {\n",
       "        text-align: right;\n",
       "    }\n",
       "</style>\n",
       "<table border=\"1\" class=\"dataframe\">\n",
       "  <thead>\n",
       "    <tr style=\"text-align: right;\">\n",
       "      <th></th>\n",
       "      <th>error_str</th>\n",
       "    </tr>\n",
       "  </thead>\n",
       "  <tbody>\n",
       "    <tr>\n",
       "      <th>(1, 0, 1)</th>\n",
       "      <td>Non-stationary starting autoregressive paramet...</td>\n",
       "    </tr>\n",
       "    <tr>\n",
       "      <th>(2, 0, 1)</th>\n",
       "      <td>Non-stationary starting autoregressive paramet...</td>\n",
       "    </tr>\n",
       "  </tbody>\n",
       "</table>\n",
       "</div>"
      ],
      "text/plain": [
       "                                                   error_str\n",
       "(1, 0, 1)  Non-stationary starting autoregressive paramet...\n",
       "(2, 0, 1)  Non-stationary starting autoregressive paramet..."
      ]
     },
     "metadata": {},
     "output_type": "display_data"
    },
    {
     "name": "stdout",
     "output_type": "stream",
     "text": [
      "###############################################\n"
     ]
    },
    {
     "name": "stderr",
     "output_type": "stream",
     "text": [
      "/home/michal/anaconda3/lib/python3.7/site-packages/statsmodels/base/model.py:508: ConvergenceWarning: Maximum Likelihood optimization failed to converge. Check mle_retvals\n",
      "  \"Check mle_retvals\", ConvergenceWarning)\n",
      "/home/michal/anaconda3/lib/python3.7/site-packages/statsmodels/base/model.py:508: ConvergenceWarning: Maximum Likelihood optimization failed to converge. Check mle_retvals\n",
      "  \"Check mle_retvals\", ConvergenceWarning)\n",
      "/home/michal/anaconda3/lib/python3.7/site-packages/statsmodels/base/model.py:508: ConvergenceWarning: Maximum Likelihood optimization failed to converge. Check mle_retvals\n",
      "  \"Check mle_retvals\", ConvergenceWarning)\n",
      "/home/michal/anaconda3/lib/python3.7/site-packages/statsmodels/base/model.py:508: ConvergenceWarning: Maximum Likelihood optimization failed to converge. Check mle_retvals\n",
      "  \"Check mle_retvals\", ConvergenceWarning)\n"
     ]
    },
    {
     "data": {
      "text/html": [
       "<div>\n",
       "<style scoped>\n",
       "    .dataframe tbody tr th:only-of-type {\n",
       "        vertical-align: middle;\n",
       "    }\n",
       "\n",
       "    .dataframe tbody tr th {\n",
       "        vertical-align: top;\n",
       "    }\n",
       "\n",
       "    .dataframe thead th {\n",
       "        text-align: right;\n",
       "    }\n",
       "</style>\n",
       "<table border=\"1\" class=\"dataframe\">\n",
       "  <thead>\n",
       "    <tr style=\"text-align: right;\">\n",
       "      <th></th>\n",
       "    </tr>\n",
       "  </thead>\n",
       "  <tbody>\n",
       "  </tbody>\n",
       "</table>\n",
       "</div>"
      ],
      "text/plain": [
       "Empty DataFrame\n",
       "Columns: []\n",
       "Index: []"
      ]
     },
     "metadata": {},
     "output_type": "display_data"
    },
    {
     "name": "stderr",
     "output_type": "stream",
     "text": [
      "/home/michal/anaconda3/lib/python3.7/site-packages/statsmodels/base/model.py:508: ConvergenceWarning: Maximum Likelihood optimization failed to converge. Check mle_retvals\n",
      "  \"Check mle_retvals\", ConvergenceWarning)\n",
      "/home/michal/anaconda3/lib/python3.7/site-packages/statsmodels/base/model.py:508: ConvergenceWarning: Maximum Likelihood optimization failed to converge. Check mle_retvals\n",
      "  \"Check mle_retvals\", ConvergenceWarning)\n"
     ]
    },
    {
     "data": {
      "text/html": [
       "<div>\n",
       "<style scoped>\n",
       "    .dataframe tbody tr th:only-of-type {\n",
       "        vertical-align: middle;\n",
       "    }\n",
       "\n",
       "    .dataframe tbody tr th {\n",
       "        vertical-align: top;\n",
       "    }\n",
       "\n",
       "    .dataframe thead th {\n",
       "        text-align: right;\n",
       "    }\n",
       "</style>\n",
       "<table border=\"1\" class=\"dataframe\">\n",
       "  <thead>\n",
       "    <tr style=\"text-align: right;\">\n",
       "      <th></th>\n",
       "      <th>error_str</th>\n",
       "    </tr>\n",
       "  </thead>\n",
       "  <tbody>\n",
       "    <tr>\n",
       "      <th>(1, 0, 1)</th>\n",
       "      <td>Non-stationary starting autoregressive paramet...</td>\n",
       "    </tr>\n",
       "    <tr>\n",
       "      <th>(2, 0, 1)</th>\n",
       "      <td>Non-stationary starting autoregressive paramet...</td>\n",
       "    </tr>\n",
       "  </tbody>\n",
       "</table>\n",
       "</div>"
      ],
      "text/plain": [
       "                                                   error_str\n",
       "(1, 0, 1)  Non-stationary starting autoregressive paramet...\n",
       "(2, 0, 1)  Non-stationary starting autoregressive paramet..."
      ]
     },
     "metadata": {},
     "output_type": "display_data"
    },
    {
     "name": "stdout",
     "output_type": "stream",
     "text": [
      "###############################################\n"
     ]
    },
    {
     "name": "stderr",
     "output_type": "stream",
     "text": [
      "/home/michal/anaconda3/lib/python3.7/site-packages/statsmodels/base/model.py:508: ConvergenceWarning: Maximum Likelihood optimization failed to converge. Check mle_retvals\n",
      "  \"Check mle_retvals\", ConvergenceWarning)\n",
      "/home/michal/anaconda3/lib/python3.7/site-packages/statsmodels/base/model.py:508: ConvergenceWarning: Maximum Likelihood optimization failed to converge. Check mle_retvals\n",
      "  \"Check mle_retvals\", ConvergenceWarning)\n",
      "/home/michal/anaconda3/lib/python3.7/site-packages/statsmodels/base/model.py:508: ConvergenceWarning: Maximum Likelihood optimization failed to converge. Check mle_retvals\n",
      "  \"Check mle_retvals\", ConvergenceWarning)\n",
      "/home/michal/anaconda3/lib/python3.7/site-packages/statsmodels/base/model.py:508: ConvergenceWarning: Maximum Likelihood optimization failed to converge. Check mle_retvals\n",
      "  \"Check mle_retvals\", ConvergenceWarning)\n",
      "/home/michal/anaconda3/lib/python3.7/site-packages/statsmodels/base/model.py:508: ConvergenceWarning: Maximum Likelihood optimization failed to converge. Check mle_retvals\n",
      "  \"Check mle_retvals\", ConvergenceWarning)\n"
     ]
    },
    {
     "data": {
      "text/html": [
       "<div>\n",
       "<style scoped>\n",
       "    .dataframe tbody tr th:only-of-type {\n",
       "        vertical-align: middle;\n",
       "    }\n",
       "\n",
       "    .dataframe tbody tr th {\n",
       "        vertical-align: top;\n",
       "    }\n",
       "\n",
       "    .dataframe thead th {\n",
       "        text-align: right;\n",
       "    }\n",
       "</style>\n",
       "<table border=\"1\" class=\"dataframe\">\n",
       "  <thead>\n",
       "    <tr style=\"text-align: right;\">\n",
       "      <th></th>\n",
       "      <th>error_str</th>\n",
       "    </tr>\n",
       "  </thead>\n",
       "  <tbody>\n",
       "    <tr>\n",
       "      <th>(3, 0, 2)</th>\n",
       "      <td>non-invertible starting MA parameters found wi...</td>\n",
       "    </tr>\n",
       "  </tbody>\n",
       "</table>\n",
       "</div>"
      ],
      "text/plain": [
       "                                                   error_str\n",
       "(3, 0, 2)  non-invertible starting MA parameters found wi..."
      ]
     },
     "metadata": {},
     "output_type": "display_data"
    },
    {
     "name": "stderr",
     "output_type": "stream",
     "text": [
      "/home/michal/anaconda3/lib/python3.7/site-packages/statsmodels/base/model.py:508: ConvergenceWarning: Maximum Likelihood optimization failed to converge. Check mle_retvals\n",
      "  \"Check mle_retvals\", ConvergenceWarning)\n",
      "/home/michal/anaconda3/lib/python3.7/site-packages/statsmodels/base/model.py:508: ConvergenceWarning: Maximum Likelihood optimization failed to converge. Check mle_retvals\n",
      "  \"Check mle_retvals\", ConvergenceWarning)\n"
     ]
    },
    {
     "data": {
      "text/html": [
       "<div>\n",
       "<style scoped>\n",
       "    .dataframe tbody tr th:only-of-type {\n",
       "        vertical-align: middle;\n",
       "    }\n",
       "\n",
       "    .dataframe tbody tr th {\n",
       "        vertical-align: top;\n",
       "    }\n",
       "\n",
       "    .dataframe thead th {\n",
       "        text-align: right;\n",
       "    }\n",
       "</style>\n",
       "<table border=\"1\" class=\"dataframe\">\n",
       "  <thead>\n",
       "    <tr style=\"text-align: right;\">\n",
       "      <th></th>\n",
       "      <th>error_str</th>\n",
       "    </tr>\n",
       "  </thead>\n",
       "  <tbody>\n",
       "    <tr>\n",
       "      <th>(1, 0, 1)</th>\n",
       "      <td>Non-stationary starting autoregressive paramet...</td>\n",
       "    </tr>\n",
       "    <tr>\n",
       "      <th>(2, 0, 1)</th>\n",
       "      <td>Non-stationary starting autoregressive paramet...</td>\n",
       "    </tr>\n",
       "  </tbody>\n",
       "</table>\n",
       "</div>"
      ],
      "text/plain": [
       "                                                   error_str\n",
       "(1, 0, 1)  Non-stationary starting autoregressive paramet...\n",
       "(2, 0, 1)  Non-stationary starting autoregressive paramet..."
      ]
     },
     "metadata": {},
     "output_type": "display_data"
    },
    {
     "name": "stdout",
     "output_type": "stream",
     "text": [
      "###############################################\n"
     ]
    },
    {
     "name": "stderr",
     "output_type": "stream",
     "text": [
      "/home/michal/anaconda3/lib/python3.7/site-packages/statsmodels/base/model.py:508: ConvergenceWarning: Maximum Likelihood optimization failed to converge. Check mle_retvals\n",
      "  \"Check mle_retvals\", ConvergenceWarning)\n",
      "/home/michal/anaconda3/lib/python3.7/site-packages/statsmodels/base/model.py:508: ConvergenceWarning: Maximum Likelihood optimization failed to converge. Check mle_retvals\n",
      "  \"Check mle_retvals\", ConvergenceWarning)\n",
      "/home/michal/anaconda3/lib/python3.7/site-packages/statsmodels/base/model.py:508: ConvergenceWarning: Maximum Likelihood optimization failed to converge. Check mle_retvals\n",
      "  \"Check mle_retvals\", ConvergenceWarning)\n",
      "/home/michal/anaconda3/lib/python3.7/site-packages/statsmodels/base/model.py:508: ConvergenceWarning: Maximum Likelihood optimization failed to converge. Check mle_retvals\n",
      "  \"Check mle_retvals\", ConvergenceWarning)\n",
      "/home/michal/anaconda3/lib/python3.7/site-packages/statsmodels/base/model.py:508: ConvergenceWarning: Maximum Likelihood optimization failed to converge. Check mle_retvals\n",
      "  \"Check mle_retvals\", ConvergenceWarning)\n",
      "/home/michal/anaconda3/lib/python3.7/site-packages/statsmodels/base/model.py:508: ConvergenceWarning: Maximum Likelihood optimization failed to converge. Check mle_retvals\n",
      "  \"Check mle_retvals\", ConvergenceWarning)\n"
     ]
    },
    {
     "data": {
      "text/html": [
       "<div>\n",
       "<style scoped>\n",
       "    .dataframe tbody tr th:only-of-type {\n",
       "        vertical-align: middle;\n",
       "    }\n",
       "\n",
       "    .dataframe tbody tr th {\n",
       "        vertical-align: top;\n",
       "    }\n",
       "\n",
       "    .dataframe thead th {\n",
       "        text-align: right;\n",
       "    }\n",
       "</style>\n",
       "<table border=\"1\" class=\"dataframe\">\n",
       "  <thead>\n",
       "    <tr style=\"text-align: right;\">\n",
       "      <th></th>\n",
       "    </tr>\n",
       "  </thead>\n",
       "  <tbody>\n",
       "  </tbody>\n",
       "</table>\n",
       "</div>"
      ],
      "text/plain": [
       "Empty DataFrame\n",
       "Columns: []\n",
       "Index: []"
      ]
     },
     "metadata": {},
     "output_type": "display_data"
    }
   ],
   "source": [
    "pmax = 3\n",
    "qmax = 3\n",
    "d = 0\n",
    "\n",
    "for i, (score, alpha, varss) in enumerate(sorted(scores, key=lambda x: x[0])[:5]):\n",
    "    x_train = train2[varss]\n",
    "    x_test = val2[varss]\n",
    "    best10, results = find_best_hparameters(y_train, x_train, pmax=pmax, qmax=qmax, d=d)\n",
    "#     print(best10)\n",
    "#     print(results)\n",
    "    print('###############################################')\n",
    "    best, results = select_best_orders_from_best10(y_test, x_test, best10)\n",
    "    best_results[f'train2_{i}'] = (results, varss)\n",
    "#     print(best)\n",
    "#     print(results)"
   ]
  },
  {
   "cell_type": "markdown",
   "metadata": {},
   "source": [
    "## Trening 3"
   ]
  },
  {
   "cell_type": "code",
   "execution_count": 12,
   "metadata": {
    "scrolled": true
   },
   "outputs": [],
   "source": [
    "train3[\"day_of_week\"] = train3.index.dayofweek\n",
    "train3[\"day_of_year\"] = train3.index.dayofweek\n",
    "train3[\"week\"] = train3.index.week\n",
    "train3[\"quarter\"] = train3.index.quarter\n",
    "\n",
    "val3[\"day_of_week\"] = val3.index.dayofweek\n",
    "val3[\"day_of_year\"] = val3.index.dayofweek\n",
    "val3[\"week\"] = val3.index.week\n",
    "val3[\"quarter\"] = val3.index.quarter\n",
    "\n",
    "\n",
    "\n",
    "y_train = train3['y_return_ratio']\n",
    "x_train = train3.drop('y_return_ratio', axis=1)\n",
    "\n",
    "y_test = val3['y_return_ratio']\n",
    "x_test = val3.drop('y_return_ratio', axis=1)"
   ]
  },
  {
   "cell_type": "code",
   "execution_count": 13,
   "metadata": {},
   "outputs": [
    {
     "data": {
      "text/plain": [
       "[(0.019379405908641067,\n",
       "  0.002,\n",
       "  ['SandP_diff_1', 'NasdaqTech_diff_1', 'MININDEX_diff_1_shift_19']),\n",
       " (0.01944918861496624, 0.003, ['SandP_diff_1', 'NasdaqTech_diff_1']),\n",
       " (0.01953001907369324,\n",
       "  0.001,\n",
       "  ['SandP_diff_1',\n",
       "   'NasdaqTech_diff_1',\n",
       "   'MAXINDEX_diff_1',\n",
       "   'MIN_diff_1',\n",
       "   'MININDEX_diff_1_shift_19']),\n",
       " (0.019758112692388467,\n",
       "  0.0005,\n",
       "  ['SandP_diff_1',\n",
       "   'NasdaqTech_diff_1',\n",
       "   'TTWO_gaming_diff_1',\n",
       "   'SAR_diff_1_shift_13',\n",
       "   'MAXINDEX_diff_1',\n",
       "   'MIN_diff_1',\n",
       "   'MININDEX_diff_1_shift_19',\n",
       "   'week'])]"
      ]
     },
     "execution_count": 13,
     "metadata": {},
     "output_type": "execute_result"
    }
   ],
   "source": [
    "scores = []\n",
    "variables = []\n",
    "for alpha in [0.0005*x for x in range(1, 2*10**3)]:\n",
    "    try:\n",
    "        clf = Lasso(alpha=alpha, max_iter=10**5)\n",
    "        featureSelection = SelectFromModel(clf)\n",
    "        featureSelection.fit(x_train, y_train)\n",
    "        train3_variables = x_train.columns[featureSelection.get_support()].tolist()\n",
    "        if len(train3_variables) >= 2 and train3_variables not in variables:\n",
    "            scores.append((rmse(clf.fit(x_train, y_train).predict(x_test), y_test), alpha, train3_variables))\n",
    "            variables.append(train3_variables)\n",
    "    except: pass\n",
    "\n",
    "sorted(scores, key=lambda x: x[0])[:5]"
   ]
  },
  {
   "cell_type": "code",
   "execution_count": 14,
   "metadata": {
    "scrolled": true
   },
   "outputs": [
    {
     "name": "stderr",
     "output_type": "stream",
     "text": [
      "/home/michal/anaconda3/lib/python3.7/site-packages/statsmodels/tsa/statespace/representation.py:375: FutureWarning: Using a non-tuple sequence for multidimensional indexing is deprecated; use `arr[tuple(seq)]` instead of `arr[seq]`. In the future this will be interpreted as an array index, `arr[np.array(seq)]`, which will result either in an error or a different result.\n",
      "  return matrix[[slice(None)]*(matrix.ndim-1) + [0]]\n",
      "/home/michal/anaconda3/lib/python3.7/site-packages/statsmodels/base/model.py:508: ConvergenceWarning: Maximum Likelihood optimization failed to converge. Check mle_retvals\n",
      "  \"Check mle_retvals\", ConvergenceWarning)\n",
      "/home/michal/anaconda3/lib/python3.7/site-packages/statsmodels/base/model.py:508: ConvergenceWarning: Maximum Likelihood optimization failed to converge. Check mle_retvals\n",
      "  \"Check mle_retvals\", ConvergenceWarning)\n"
     ]
    },
    {
     "data": {
      "text/html": [
       "<div>\n",
       "<style scoped>\n",
       "    .dataframe tbody tr th:only-of-type {\n",
       "        vertical-align: middle;\n",
       "    }\n",
       "\n",
       "    .dataframe tbody tr th {\n",
       "        vertical-align: top;\n",
       "    }\n",
       "\n",
       "    .dataframe thead th {\n",
       "        text-align: right;\n",
       "    }\n",
       "</style>\n",
       "<table border=\"1\" class=\"dataframe\">\n",
       "  <thead>\n",
       "    <tr style=\"text-align: right;\">\n",
       "      <th></th>\n",
       "      <th>error_str</th>\n",
       "    </tr>\n",
       "  </thead>\n",
       "  <tbody>\n",
       "    <tr>\n",
       "      <th>(1, 0, 1)</th>\n",
       "      <td>Non-stationary starting autoregressive paramet...</td>\n",
       "    </tr>\n",
       "    <tr>\n",
       "      <th>(2, 0, 1)</th>\n",
       "      <td>Non-stationary starting autoregressive paramet...</td>\n",
       "    </tr>\n",
       "  </tbody>\n",
       "</table>\n",
       "</div>"
      ],
      "text/plain": [
       "                                                   error_str\n",
       "(1, 0, 1)  Non-stationary starting autoregressive paramet...\n",
       "(2, 0, 1)  Non-stationary starting autoregressive paramet..."
      ]
     },
     "metadata": {},
     "output_type": "display_data"
    },
    {
     "name": "stderr",
     "output_type": "stream",
     "text": [
      "/home/michal/anaconda3/lib/python3.7/site-packages/statsmodels/base/model.py:508: ConvergenceWarning: Maximum Likelihood optimization failed to converge. Check mle_retvals\n",
      "  \"Check mle_retvals\", ConvergenceWarning)\n",
      "/home/michal/anaconda3/lib/python3.7/site-packages/statsmodels/base/model.py:508: ConvergenceWarning: Maximum Likelihood optimization failed to converge. Check mle_retvals\n",
      "  \"Check mle_retvals\", ConvergenceWarning)\n"
     ]
    },
    {
     "data": {
      "text/html": [
       "<div>\n",
       "<style scoped>\n",
       "    .dataframe tbody tr th:only-of-type {\n",
       "        vertical-align: middle;\n",
       "    }\n",
       "\n",
       "    .dataframe tbody tr th {\n",
       "        vertical-align: top;\n",
       "    }\n",
       "\n",
       "    .dataframe thead th {\n",
       "        text-align: right;\n",
       "    }\n",
       "</style>\n",
       "<table border=\"1\" class=\"dataframe\">\n",
       "  <thead>\n",
       "    <tr style=\"text-align: right;\">\n",
       "      <th></th>\n",
       "    </tr>\n",
       "  </thead>\n",
       "  <tbody>\n",
       "  </tbody>\n",
       "</table>\n",
       "</div>"
      ],
      "text/plain": [
       "Empty DataFrame\n",
       "Columns: []\n",
       "Index: []"
      ]
     },
     "metadata": {},
     "output_type": "display_data"
    },
    {
     "name": "stderr",
     "output_type": "stream",
     "text": [
      "/home/michal/anaconda3/lib/python3.7/site-packages/statsmodels/base/model.py:508: ConvergenceWarning: Maximum Likelihood optimization failed to converge. Check mle_retvals\n",
      "  \"Check mle_retvals\", ConvergenceWarning)\n",
      "/home/michal/anaconda3/lib/python3.7/site-packages/statsmodels/base/model.py:508: ConvergenceWarning: Maximum Likelihood optimization failed to converge. Check mle_retvals\n",
      "  \"Check mle_retvals\", ConvergenceWarning)\n"
     ]
    },
    {
     "data": {
      "text/html": [
       "<div>\n",
       "<style scoped>\n",
       "    .dataframe tbody tr th:only-of-type {\n",
       "        vertical-align: middle;\n",
       "    }\n",
       "\n",
       "    .dataframe tbody tr th {\n",
       "        vertical-align: top;\n",
       "    }\n",
       "\n",
       "    .dataframe thead th {\n",
       "        text-align: right;\n",
       "    }\n",
       "</style>\n",
       "<table border=\"1\" class=\"dataframe\">\n",
       "  <thead>\n",
       "    <tr style=\"text-align: right;\">\n",
       "      <th></th>\n",
       "      <th>error_str</th>\n",
       "    </tr>\n",
       "  </thead>\n",
       "  <tbody>\n",
       "    <tr>\n",
       "      <th>(1, 0, 1)</th>\n",
       "      <td>Non-stationary starting autoregressive paramet...</td>\n",
       "    </tr>\n",
       "    <tr>\n",
       "      <th>(2, 0, 1)</th>\n",
       "      <td>Non-stationary starting autoregressive paramet...</td>\n",
       "    </tr>\n",
       "  </tbody>\n",
       "</table>\n",
       "</div>"
      ],
      "text/plain": [
       "                                                   error_str\n",
       "(1, 0, 1)  Non-stationary starting autoregressive paramet...\n",
       "(2, 0, 1)  Non-stationary starting autoregressive paramet..."
      ]
     },
     "metadata": {},
     "output_type": "display_data"
    },
    {
     "name": "stderr",
     "output_type": "stream",
     "text": [
      "/home/michal/anaconda3/lib/python3.7/site-packages/statsmodels/base/model.py:508: ConvergenceWarning: Maximum Likelihood optimization failed to converge. Check mle_retvals\n",
      "  \"Check mle_retvals\", ConvergenceWarning)\n",
      "/home/michal/anaconda3/lib/python3.7/site-packages/statsmodels/base/model.py:508: ConvergenceWarning: Maximum Likelihood optimization failed to converge. Check mle_retvals\n",
      "  \"Check mle_retvals\", ConvergenceWarning)\n",
      "/home/michal/anaconda3/lib/python3.7/site-packages/statsmodels/base/model.py:508: ConvergenceWarning: Maximum Likelihood optimization failed to converge. Check mle_retvals\n",
      "  \"Check mle_retvals\", ConvergenceWarning)\n"
     ]
    },
    {
     "data": {
      "text/html": [
       "<div>\n",
       "<style scoped>\n",
       "    .dataframe tbody tr th:only-of-type {\n",
       "        vertical-align: middle;\n",
       "    }\n",
       "\n",
       "    .dataframe tbody tr th {\n",
       "        vertical-align: top;\n",
       "    }\n",
       "\n",
       "    .dataframe thead th {\n",
       "        text-align: right;\n",
       "    }\n",
       "</style>\n",
       "<table border=\"1\" class=\"dataframe\">\n",
       "  <thead>\n",
       "    <tr style=\"text-align: right;\">\n",
       "      <th></th>\n",
       "    </tr>\n",
       "  </thead>\n",
       "  <tbody>\n",
       "  </tbody>\n",
       "</table>\n",
       "</div>"
      ],
      "text/plain": [
       "Empty DataFrame\n",
       "Columns: []\n",
       "Index: []"
      ]
     },
     "metadata": {},
     "output_type": "display_data"
    },
    {
     "name": "stderr",
     "output_type": "stream",
     "text": [
      "/home/michal/anaconda3/lib/python3.7/site-packages/statsmodels/base/model.py:508: ConvergenceWarning: Maximum Likelihood optimization failed to converge. Check mle_retvals\n",
      "  \"Check mle_retvals\", ConvergenceWarning)\n",
      "/home/michal/anaconda3/lib/python3.7/site-packages/statsmodels/base/model.py:508: ConvergenceWarning: Maximum Likelihood optimization failed to converge. Check mle_retvals\n",
      "  \"Check mle_retvals\", ConvergenceWarning)\n",
      "/home/michal/anaconda3/lib/python3.7/site-packages/statsmodels/base/model.py:508: ConvergenceWarning: Maximum Likelihood optimization failed to converge. Check mle_retvals\n",
      "  \"Check mle_retvals\", ConvergenceWarning)\n"
     ]
    },
    {
     "data": {
      "text/html": [
       "<div>\n",
       "<style scoped>\n",
       "    .dataframe tbody tr th:only-of-type {\n",
       "        vertical-align: middle;\n",
       "    }\n",
       "\n",
       "    .dataframe tbody tr th {\n",
       "        vertical-align: top;\n",
       "    }\n",
       "\n",
       "    .dataframe thead th {\n",
       "        text-align: right;\n",
       "    }\n",
       "</style>\n",
       "<table border=\"1\" class=\"dataframe\">\n",
       "  <thead>\n",
       "    <tr style=\"text-align: right;\">\n",
       "      <th></th>\n",
       "      <th>error_str</th>\n",
       "    </tr>\n",
       "  </thead>\n",
       "  <tbody>\n",
       "    <tr>\n",
       "      <th>(1, 0, 1)</th>\n",
       "      <td>Non-stationary starting autoregressive paramet...</td>\n",
       "    </tr>\n",
       "    <tr>\n",
       "      <th>(2, 0, 1)</th>\n",
       "      <td>Non-stationary starting autoregressive paramet...</td>\n",
       "    </tr>\n",
       "  </tbody>\n",
       "</table>\n",
       "</div>"
      ],
      "text/plain": [
       "                                                   error_str\n",
       "(1, 0, 1)  Non-stationary starting autoregressive paramet...\n",
       "(2, 0, 1)  Non-stationary starting autoregressive paramet..."
      ]
     },
     "metadata": {},
     "output_type": "display_data"
    },
    {
     "name": "stderr",
     "output_type": "stream",
     "text": [
      "/home/michal/anaconda3/lib/python3.7/site-packages/statsmodels/base/model.py:508: ConvergenceWarning: Maximum Likelihood optimization failed to converge. Check mle_retvals\n",
      "  \"Check mle_retvals\", ConvergenceWarning)\n",
      "/home/michal/anaconda3/lib/python3.7/site-packages/statsmodels/base/model.py:508: ConvergenceWarning: Maximum Likelihood optimization failed to converge. Check mle_retvals\n",
      "  \"Check mle_retvals\", ConvergenceWarning)\n"
     ]
    },
    {
     "data": {
      "text/html": [
       "<div>\n",
       "<style scoped>\n",
       "    .dataframe tbody tr th:only-of-type {\n",
       "        vertical-align: middle;\n",
       "    }\n",
       "\n",
       "    .dataframe tbody tr th {\n",
       "        vertical-align: top;\n",
       "    }\n",
       "\n",
       "    .dataframe thead th {\n",
       "        text-align: right;\n",
       "    }\n",
       "</style>\n",
       "<table border=\"1\" class=\"dataframe\">\n",
       "  <thead>\n",
       "    <tr style=\"text-align: right;\">\n",
       "      <th></th>\n",
       "      <th>error_str</th>\n",
       "    </tr>\n",
       "  </thead>\n",
       "  <tbody>\n",
       "    <tr>\n",
       "      <th>(2, 0, 3)</th>\n",
       "      <td>Non-stationary starting autoregressive paramet...</td>\n",
       "    </tr>\n",
       "    <tr>\n",
       "      <th>(3, 0, 3)</th>\n",
       "      <td>Non-stationary starting autoregressive paramet...</td>\n",
       "    </tr>\n",
       "  </tbody>\n",
       "</table>\n",
       "</div>"
      ],
      "text/plain": [
       "                                                   error_str\n",
       "(2, 0, 3)  Non-stationary starting autoregressive paramet...\n",
       "(3, 0, 3)  Non-stationary starting autoregressive paramet..."
      ]
     },
     "metadata": {},
     "output_type": "display_data"
    },
    {
     "name": "stderr",
     "output_type": "stream",
     "text": [
      "/home/michal/anaconda3/lib/python3.7/site-packages/statsmodels/base/model.py:508: ConvergenceWarning: Maximum Likelihood optimization failed to converge. Check mle_retvals\n",
      "  \"Check mle_retvals\", ConvergenceWarning)\n",
      "/home/michal/anaconda3/lib/python3.7/site-packages/statsmodels/base/model.py:508: ConvergenceWarning: Maximum Likelihood optimization failed to converge. Check mle_retvals\n",
      "  \"Check mle_retvals\", ConvergenceWarning)\n"
     ]
    },
    {
     "data": {
      "text/html": [
       "<div>\n",
       "<style scoped>\n",
       "    .dataframe tbody tr th:only-of-type {\n",
       "        vertical-align: middle;\n",
       "    }\n",
       "\n",
       "    .dataframe tbody tr th {\n",
       "        vertical-align: top;\n",
       "    }\n",
       "\n",
       "    .dataframe thead th {\n",
       "        text-align: right;\n",
       "    }\n",
       "</style>\n",
       "<table border=\"1\" class=\"dataframe\">\n",
       "  <thead>\n",
       "    <tr style=\"text-align: right;\">\n",
       "      <th></th>\n",
       "      <th>error_str</th>\n",
       "    </tr>\n",
       "  </thead>\n",
       "  <tbody>\n",
       "    <tr>\n",
       "      <th>(1, 0, 1)</th>\n",
       "      <td>Non-stationary starting autoregressive paramet...</td>\n",
       "    </tr>\n",
       "    <tr>\n",
       "      <th>(2, 0, 1)</th>\n",
       "      <td>Non-stationary starting autoregressive paramet...</td>\n",
       "    </tr>\n",
       "  </tbody>\n",
       "</table>\n",
       "</div>"
      ],
      "text/plain": [
       "                                                   error_str\n",
       "(1, 0, 1)  Non-stationary starting autoregressive paramet...\n",
       "(2, 0, 1)  Non-stationary starting autoregressive paramet..."
      ]
     },
     "metadata": {},
     "output_type": "display_data"
    },
    {
     "name": "stderr",
     "output_type": "stream",
     "text": [
      "/home/michal/anaconda3/lib/python3.7/site-packages/statsmodels/base/model.py:508: ConvergenceWarning: Maximum Likelihood optimization failed to converge. Check mle_retvals\n",
      "  \"Check mle_retvals\", ConvergenceWarning)\n",
      "/home/michal/anaconda3/lib/python3.7/site-packages/statsmodels/base/model.py:508: ConvergenceWarning: Maximum Likelihood optimization failed to converge. Check mle_retvals\n",
      "  \"Check mle_retvals\", ConvergenceWarning)\n",
      "/home/michal/anaconda3/lib/python3.7/site-packages/statsmodels/base/model.py:508: ConvergenceWarning: Maximum Likelihood optimization failed to converge. Check mle_retvals\n",
      "  \"Check mle_retvals\", ConvergenceWarning)\n"
     ]
    },
    {
     "data": {
      "text/html": [
       "<div>\n",
       "<style scoped>\n",
       "    .dataframe tbody tr th:only-of-type {\n",
       "        vertical-align: middle;\n",
       "    }\n",
       "\n",
       "    .dataframe tbody tr th {\n",
       "        vertical-align: top;\n",
       "    }\n",
       "\n",
       "    .dataframe thead th {\n",
       "        text-align: right;\n",
       "    }\n",
       "</style>\n",
       "<table border=\"1\" class=\"dataframe\">\n",
       "  <thead>\n",
       "    <tr style=\"text-align: right;\">\n",
       "      <th></th>\n",
       "      <th>error_str</th>\n",
       "    </tr>\n",
       "  </thead>\n",
       "  <tbody>\n",
       "    <tr>\n",
       "      <th>(2, 0, 3)</th>\n",
       "      <td>Non-stationary starting autoregressive paramet...</td>\n",
       "    </tr>\n",
       "    <tr>\n",
       "      <th>(3, 0, 3)</th>\n",
       "      <td>Non-stationary starting autoregressive paramet...</td>\n",
       "    </tr>\n",
       "  </tbody>\n",
       "</table>\n",
       "</div>"
      ],
      "text/plain": [
       "                                                   error_str\n",
       "(2, 0, 3)  Non-stationary starting autoregressive paramet...\n",
       "(3, 0, 3)  Non-stationary starting autoregressive paramet..."
      ]
     },
     "metadata": {},
     "output_type": "display_data"
    }
   ],
   "source": [
    "pmax = 3\n",
    "qmax = 3\n",
    "d = 0\n",
    "\n",
    "for i, (score, alpha, varss) in enumerate(sorted(scores, key=lambda x: x[0])[:5]):\n",
    "    x_train = train3[varss]\n",
    "    x_test = val3[varss]\n",
    "    best10, results = find_best_hparameters(y_train, x_train, pmax=pmax, qmax=qmax, d=d)\n",
    "#     print(best10)\n",
    "#     print(results)\n",
    "#     print('###############################################')\n",
    "    best, results = select_best_orders_from_best10(y_test, x_test, best10)\n",
    "    best_results[f'train3_{i}'] = (results, varss)\n",
    "#     print(best)\n",
    "#     print(results)"
   ]
  },
  {
   "cell_type": "markdown",
   "metadata": {},
   "source": [
    "## Wyniki selekcji"
   ]
  },
  {
   "cell_type": "code",
   "execution_count": 15,
   "metadata": {},
   "outputs": [
    {
     "data": {
      "text/plain": [
       "{'train1_0': ([((0, 0, 3), 0.02401112541757923),\n",
       "   ((1, 0, 3), 0.02404357473055267),\n",
       "   ((3, 0, 3), 0.024151449832513053),\n",
       "   ((2, 0, 3), 0.024243020013257788),\n",
       "   ((3, 0, 0), 0.024315807962255655),\n",
       "   ((3, 0, 1), 0.024332301471458085),\n",
       "   ((0, 0, 2), 0.02490341138064474),\n",
       "   ((1, 0, 2), 0.024939266290223715),\n",
       "   ((2, 0, 0), 0.024952721176827976),\n",
       "   ((0, 0, 1), 0.024977680231545767)],\n",
       "  ['SandP_diff_1',\n",
       "   'NasdaqTech_diff_1',\n",
       "   'SAR_diff_1_shift_13',\n",
       "   'MAXINDEX_diff_1',\n",
       "   'MIN_diff_1',\n",
       "   'MININDEX_diff_1_shift_19',\n",
       "   'week']),\n",
       " 'train1_1': ([((1, 0, 3), 0.025439841084648522),\n",
       "   ((2, 0, 3), 0.025486090909451354),\n",
       "   ((0, 0, 3), 0.025511436797666046),\n",
       "   ((3, 0, 0), 0.025745843669099572),\n",
       "   ((3, 0, 1), 0.025749244586020213),\n",
       "   ((3, 0, 3), 0.026630232030587345),\n",
       "   ((0, 0, 2), 0.026678503913730462),\n",
       "   ((1, 0, 2), 0.0267174016327629),\n",
       "   ((2, 0, 0), 0.026748990593251722),\n",
       "   ((1, 0, 0), 0.026757446303310697)],\n",
       "  ['SandP_diff_1', 'NasdaqTech_diff_1', 'week']),\n",
       " 'train1_2': ([((1, 0, 3), 0.026010442310838256),\n",
       "   ((2, 0, 3), 0.026025766677262696),\n",
       "   ((3, 0, 3), 0.026037135474228885),\n",
       "   ((0, 0, 3), 0.026087767799539023),\n",
       "   ((3, 0, 0), 0.026278468264739417),\n",
       "   ((3, 0, 1), 0.02630535790019788),\n",
       "   ((0, 0, 2), 0.02727341313450109),\n",
       "   ((1, 0, 2), 0.027316078888041436),\n",
       "   ((1, 0, 0), 0.027317473995393204),\n",
       "   ((2, 0, 0), 0.027341656571140092)],\n",
       "  ['SandP_diff_1', 'NasdaqTech_diff_1']),\n",
       " 'train1_3': ([((0, 0, 3), 0.024637803069753772),\n",
       "   ((1, 0, 3), 0.02470669891721074),\n",
       "   ((2, 0, 3), 0.024797113576653262),\n",
       "   ((3, 0, 0), 0.024881158940151155),\n",
       "   ((3, 0, 1), 0.02489139832249767),\n",
       "   ((3, 0, 3), 0.02501310759357379),\n",
       "   ((2, 0, 0), 0.025657489826674495),\n",
       "   ((1, 0, 0), 0.0256718502822856),\n",
       "   ((0, 0, 2), 0.026011559484033928),\n",
       "   ((1, 0, 2), 0.026017708480587817)],\n",
       "  ['SandP_diff_1', 'NasdaqTech_diff_1', 'MININDEX_diff_1_shift_19', 'week']),\n",
       " 'train1_4': ([((0, 0, 3), 0.02401710568587733),\n",
       "   ((1, 0, 3), 0.024018598615296035),\n",
       "   ((3, 0, 3), 0.024092408996545734),\n",
       "   ((2, 0, 3), 0.02416139282486534),\n",
       "   ((3, 0, 0), 0.024313432383493972),\n",
       "   ((3, 0, 1), 0.024329087834144367),\n",
       "   ((0, 0, 2), 0.0249064160736728),\n",
       "   ((1, 0, 2), 0.024947526868166977),\n",
       "   ((2, 0, 0), 0.0249480498060756),\n",
       "   ((0, 0, 1), 0.024976429131739294)],\n",
       "  ['SandP_diff_1',\n",
       "   'NasdaqTech_diff_1',\n",
       "   'MAXINDEX_diff_1',\n",
       "   'MIN_diff_1',\n",
       "   'MININDEX_diff_1_shift_19',\n",
       "   'week']),\n",
       " 'train2_0': ([((3, 0, 0), 0.02515335343805605),\n",
       "   ((3, 0, 1), 0.025178150653025606),\n",
       "   ((3, 0, 3), 0.02517839935859322),\n",
       "   ((2, 0, 3), 0.025280415408827864),\n",
       "   ((1, 0, 2), 0.025319529642417335),\n",
       "   ((0, 0, 2), 0.025320723482180896),\n",
       "   ((0, 0, 3), 0.025321341821727898),\n",
       "   ((1, 0, 3), 0.025324947701917913),\n",
       "   ((2, 0, 0), 0.02533950956777628),\n",
       "   ((3, 0, 2), 0.025370201186238974)],\n",
       "  ['SandP_diff_1',\n",
       "   'NasdaqTech_diff_1',\n",
       "   'MAXINDEX_diff_1',\n",
       "   'MIN_diff_1',\n",
       "   'MININDEX_diff_1_shift_19']),\n",
       " 'train2_1': ([((3, 0, 3), 0.025356579180844153),\n",
       "   ((3, 0, 1), 0.025386268732061408),\n",
       "   ((3, 0, 0), 0.02541702881612777),\n",
       "   ((2, 0, 3), 0.025443194591247196),\n",
       "   ((0, 0, 3), 0.025450164547365314),\n",
       "   ((3, 0, 2), 0.025524861895837418),\n",
       "   ((1, 0, 3), 0.025568211721075974),\n",
       "   ((1, 0, 2), 0.025694976859986732),\n",
       "   ((0, 0, 2), 0.02569577243423827),\n",
       "   ((2, 0, 2), 0.02572992026383507)],\n",
       "  ['SandP_diff_1', 'NasdaqTech_diff_1', 'MININDEX_diff_1_shift_19']),\n",
       " 'train2_2': ([((1, 0, 3), 0.025890958037350312),\n",
       "   ((3, 0, 3), 0.026172560129766962),\n",
       "   ((2, 0, 3), 0.026244628690993428),\n",
       "   ((0, 0, 3), 0.02626809168636115),\n",
       "   ((3, 0, 1), 0.02642393663136492),\n",
       "   ((3, 0, 0), 0.026465530757462875),\n",
       "   ((1, 0, 2), 0.02676837924956948),\n",
       "   ((2, 0, 0), 0.026794968656178746),\n",
       "   ((0, 0, 2), 0.026805915280167673)],\n",
       "  ['SandP_diff_1', 'NasdaqTech_diff_1']),\n",
       " 'train2_3': ([((3, 0, 1), 0.02374787997183751),\n",
       "   ((3, 0, 0), 0.02374998738065939),\n",
       "   ((0, 0, 3), 0.023784046206568876),\n",
       "   ((3, 0, 3), 0.023789899574383103),\n",
       "   ((2, 0, 2), 0.023851616189087557),\n",
       "   ((1, 0, 3), 0.023881291483169753),\n",
       "   ((2, 0, 3), 0.023888184858474687),\n",
       "   ((2, 0, 0), 0.02388829010600292),\n",
       "   ((3, 0, 2), 0.02389526359957675),\n",
       "   ((0, 0, 1), 0.023978156062860353)],\n",
       "  ['gaming_news_diff_1_shift_2',\n",
       "   'SandP_diff_1',\n",
       "   'NasdaqTech_diff_1',\n",
       "   'TTWO_gaming_diff_1',\n",
       "   'SAR_diff_1_shift_13',\n",
       "   'MAXINDEX_diff_1',\n",
       "   'MIN_diff_1',\n",
       "   'MININDEX_diff_1_shift_19']),\n",
       " 'train3_0': ([((3, 0, 0), 0.015039242911310107),\n",
       "   ((3, 0, 1), 0.01505330291615965),\n",
       "   ((3, 0, 3), 0.01517718143821706),\n",
       "   ((2, 0, 3), 0.015224629438592065),\n",
       "   ((2, 0, 2), 0.015286281204285285),\n",
       "   ((3, 0, 2), 0.015312744323950965),\n",
       "   ((1, 0, 3), 0.015377217931436425),\n",
       "   ((1, 0, 2), 0.015390562891369464),\n",
       "   ((0, 0, 3), 0.015408005850959071),\n",
       "   ((0, 0, 2), 0.015556652409588662)],\n",
       "  ['SandP_diff_1', 'NasdaqTech_diff_1', 'MININDEX_diff_1_shift_19']),\n",
       " 'train3_1': ([((2, 0, 2), 0.015072431365069996),\n",
       "   ((3, 0, 0), 0.015107307275651613),\n",
       "   ((3, 0, 1), 0.015115696024677695),\n",
       "   ((3, 0, 3), 0.015230640789936184),\n",
       "   ((2, 0, 3), 0.015326573507389552),\n",
       "   ((3, 0, 2), 0.015362160810735895),\n",
       "   ((1, 0, 3), 0.015432886588857452),\n",
       "   ((1, 0, 2), 0.015482572791968826),\n",
       "   ((0, 0, 3), 0.015533635834510562),\n",
       "   ((0, 0, 2), 0.01562331570564368)],\n",
       "  ['SandP_diff_1', 'NasdaqTech_diff_1']),\n",
       " 'train3_2': ([((3, 0, 0), 0.014945903795444722),\n",
       "   ((3, 0, 1), 0.014952625263182242),\n",
       "   ((3, 0, 2), 0.015154154522616408),\n",
       "   ((2, 0, 2), 0.015170054972271012),\n",
       "   ((1, 0, 3), 0.015196030304702927),\n",
       "   ((0, 0, 3), 0.015225343466295218),\n",
       "   ((1, 0, 2), 0.015243427495824366),\n",
       "   ((0, 0, 2), 0.015337059267938444)],\n",
       "  ['SandP_diff_1',\n",
       "   'NasdaqTech_diff_1',\n",
       "   'MAXINDEX_diff_1',\n",
       "   'MIN_diff_1',\n",
       "   'MININDEX_diff_1_shift_19']),\n",
       " 'train3_3': ([((1, 0, 3), 0.014410339525572932),\n",
       "   ((3, 0, 0), 0.014627675696242626),\n",
       "   ((3, 0, 1), 0.014639086917490001),\n",
       "   ((0, 0, 3), 0.0146967658292075),\n",
       "   ((2, 0, 2), 0.014750080163038018),\n",
       "   ((3, 0, 2), 0.01475018830771117),\n",
       "   ((1, 0, 2), 0.014777767092954712),\n",
       "   ((1, 0, 0), 0.01621770681645749)],\n",
       "  ['SandP_diff_1',\n",
       "   'NasdaqTech_diff_1',\n",
       "   'TTWO_gaming_diff_1',\n",
       "   'SAR_diff_1_shift_13',\n",
       "   'MAXINDEX_diff_1',\n",
       "   'MIN_diff_1',\n",
       "   'MININDEX_diff_1_shift_19',\n",
       "   'week'])}"
      ]
     },
     "execution_count": 15,
     "metadata": {},
     "output_type": "execute_result"
    }
   ],
   "source": [
    "best_results"
   ]
  },
  {
   "cell_type": "code",
   "execution_count": 19,
   "metadata": {
    "scrolled": true
   },
   "outputs": [
    {
     "name": "stderr",
     "output_type": "stream",
     "text": [
      "/home/michal/anaconda3/lib/python3.7/site-packages/statsmodels/base/model.py:508: ConvergenceWarning: Maximum Likelihood optimization failed to converge. Check mle_retvals\n",
      "  \"Check mle_retvals\", ConvergenceWarning)\n"
     ]
    },
    {
     "name": "stdout",
     "output_type": "stream",
     "text": [
      "[0.02401112541757923, 0.024376897433864675, 0.015240201673937805]\n"
     ]
    },
    {
     "name": "stderr",
     "output_type": "stream",
     "text": [
      "/home/michal/anaconda3/lib/python3.7/site-packages/statsmodels/base/model.py:508: ConvergenceWarning: Maximum Likelihood optimization failed to converge. Check mle_retvals\n",
      "  \"Check mle_retvals\", ConvergenceWarning)\n",
      "/home/michal/anaconda3/lib/python3.7/site-packages/statsmodels/base/model.py:508: ConvergenceWarning: Maximum Likelihood optimization failed to converge. Check mle_retvals\n",
      "  \"Check mle_retvals\", ConvergenceWarning)\n"
     ]
    },
    {
     "name": "stdout",
     "output_type": "stream",
     "text": [
      "[0.02404357473055267, 0.02443077697692221, 0.01440193372653037]\n",
      "[0.024151449832513053, 0.024433023069605934]\n",
      "[0.024243020013257788, 0.024437678842004026, 0.014301450497532876]\n"
     ]
    },
    {
     "name": "stderr",
     "output_type": "stream",
     "text": [
      "/home/michal/anaconda3/lib/python3.7/site-packages/statsmodels/base/model.py:508: ConvergenceWarning: Maximum Likelihood optimization failed to converge. Check mle_retvals\n",
      "  \"Check mle_retvals\", ConvergenceWarning)\n",
      "/home/michal/anaconda3/lib/python3.7/site-packages/statsmodels/base/model.py:508: ConvergenceWarning: Maximum Likelihood optimization failed to converge. Check mle_retvals\n",
      "  \"Check mle_retvals\", ConvergenceWarning)\n"
     ]
    },
    {
     "name": "stdout",
     "output_type": "stream",
     "text": [
      "[0.024315807962255655, 0.02440793900035724, 0.014566180711018447]\n"
     ]
    },
    {
     "name": "stderr",
     "output_type": "stream",
     "text": [
      "/home/michal/anaconda3/lib/python3.7/site-packages/statsmodels/base/model.py:508: ConvergenceWarning: Maximum Likelihood optimization failed to converge. Check mle_retvals\n",
      "  \"Check mle_retvals\", ConvergenceWarning)\n"
     ]
    },
    {
     "name": "stdout",
     "output_type": "stream",
     "text": [
      "[0.024332301471458085, 0.024380121489165116, 0.014940618011465895]\n"
     ]
    },
    {
     "name": "stderr",
     "output_type": "stream",
     "text": [
      "/home/michal/anaconda3/lib/python3.7/site-packages/statsmodels/base/model.py:508: ConvergenceWarning: Maximum Likelihood optimization failed to converge. Check mle_retvals\n",
      "  \"Check mle_retvals\", ConvergenceWarning)\n",
      "/home/michal/anaconda3/lib/python3.7/site-packages/statsmodels/base/model.py:508: ConvergenceWarning: Maximum Likelihood optimization failed to converge. Check mle_retvals\n",
      "  \"Check mle_retvals\", ConvergenceWarning)\n"
     ]
    },
    {
     "name": "stdout",
     "output_type": "stream",
     "text": [
      "[0.02490341138064474, 0.02443773974443037, 0.015356468281731338]\n"
     ]
    },
    {
     "name": "stderr",
     "output_type": "stream",
     "text": [
      "/home/michal/anaconda3/lib/python3.7/site-packages/statsmodels/base/model.py:508: ConvergenceWarning: Maximum Likelihood optimization failed to converge. Check mle_retvals\n",
      "  \"Check mle_retvals\", ConvergenceWarning)\n",
      "/home/michal/anaconda3/lib/python3.7/site-packages/statsmodels/base/model.py:508: ConvergenceWarning: Maximum Likelihood optimization failed to converge. Check mle_retvals\n",
      "  \"Check mle_retvals\", ConvergenceWarning)\n"
     ]
    },
    {
     "name": "stdout",
     "output_type": "stream",
     "text": [
      "[0.024939266290223715, 0.024415766775215248, 0.014589591900253322]\n",
      "[0.024952721176827976, 0.024360395433963906, 0.015091505280403194]\n"
     ]
    },
    {
     "name": "stderr",
     "output_type": "stream",
     "text": [
      "/home/michal/anaconda3/lib/python3.7/site-packages/statsmodels/base/model.py:508: ConvergenceWarning: Maximum Likelihood optimization failed to converge. Check mle_retvals\n",
      "  \"Check mle_retvals\", ConvergenceWarning)\n",
      "/home/michal/anaconda3/lib/python3.7/site-packages/statsmodels/base/model.py:508: ConvergenceWarning: Maximum Likelihood optimization failed to converge. Check mle_retvals\n",
      "  \"Check mle_retvals\", ConvergenceWarning)\n"
     ]
    },
    {
     "name": "stdout",
     "output_type": "stream",
     "text": [
      "[0.024977680231545767, 0.024661985499939518, 0.015770459313556737]\n",
      "[0.025439841084648522, 0.026401135984548026, 0.01470164168529813]\n",
      "[0.025486090909451354, 0.026290805487764805, 0.014734172474904321]\n"
     ]
    },
    {
     "name": "stderr",
     "output_type": "stream",
     "text": [
      "/home/michal/anaconda3/lib/python3.7/site-packages/statsmodels/base/model.py:508: ConvergenceWarning: Maximum Likelihood optimization failed to converge. Check mle_retvals\n",
      "  \"Check mle_retvals\", ConvergenceWarning)\n"
     ]
    },
    {
     "name": "stdout",
     "output_type": "stream",
     "text": [
      "[0.025511436797666046, 0.026227094421117172, 0.014719734329989832]\n",
      "[0.025745843669099572, 0.026486700295227237, 0.014689586230441242]\n",
      "[0.025749244586020213, 0.02638111696268125, 0.015130227598080002]\n"
     ]
    },
    {
     "name": "stderr",
     "output_type": "stream",
     "text": [
      "/home/michal/anaconda3/lib/python3.7/site-packages/statsmodels/base/model.py:508: ConvergenceWarning: Maximum Likelihood optimization failed to converge. Check mle_retvals\n",
      "  \"Check mle_retvals\", ConvergenceWarning)\n"
     ]
    },
    {
     "name": "stdout",
     "output_type": "stream",
     "text": [
      "[0.026630232030587345, 0.026224421371240682, 0.014526357542170631]\n"
     ]
    },
    {
     "name": "stderr",
     "output_type": "stream",
     "text": [
      "/home/michal/anaconda3/lib/python3.7/site-packages/statsmodels/base/model.py:508: ConvergenceWarning: Maximum Likelihood optimization failed to converge. Check mle_retvals\n",
      "  \"Check mle_retvals\", ConvergenceWarning)\n"
     ]
    },
    {
     "name": "stdout",
     "output_type": "stream",
     "text": [
      "[0.026678503913730462, 0.026829106685415823, 0.0150161910188787]\n",
      "[0.0267174016327629, 0.026780858867586087, 0.01481085306538648]\n",
      "[0.026748990593251722, 0.02682628878072599, 0.014963326392897035]\n",
      "[0.026757446303310697, 0.026771413267130298, 0.016965301040991528]\n"
     ]
    },
    {
     "name": "stderr",
     "output_type": "stream",
     "text": [
      "/home/michal/anaconda3/lib/python3.7/site-packages/statsmodels/base/model.py:508: ConvergenceWarning: Maximum Likelihood optimization failed to converge. Check mle_retvals\n",
      "  \"Check mle_retvals\", ConvergenceWarning)\n"
     ]
    },
    {
     "name": "stdout",
     "output_type": "stream",
     "text": [
      "[0.026010442310838256, 0.025890958037350312, 0.015432886588857452]\n",
      "[0.026025766677262696, 0.026244628690993428, 0.015326573507389552]\n"
     ]
    },
    {
     "name": "stderr",
     "output_type": "stream",
     "text": [
      "/home/michal/anaconda3/lib/python3.7/site-packages/statsmodels/base/model.py:508: ConvergenceWarning: Maximum Likelihood optimization failed to converge. Check mle_retvals\n",
      "  \"Check mle_retvals\", ConvergenceWarning)\n"
     ]
    },
    {
     "name": "stdout",
     "output_type": "stream",
     "text": [
      "[0.026037135474228885, 0.026172560129766962, 0.015230640789936184]\n",
      "[0.026087767799539023, 0.02626809168636115, 0.015533635834510562]\n"
     ]
    },
    {
     "name": "stderr",
     "output_type": "stream",
     "text": [
      "/home/michal/anaconda3/lib/python3.7/site-packages/statsmodels/base/model.py:508: ConvergenceWarning: Maximum Likelihood optimization failed to converge. Check mle_retvals\n",
      "  \"Check mle_retvals\", ConvergenceWarning)\n",
      "/home/michal/anaconda3/lib/python3.7/site-packages/statsmodels/base/model.py:508: ConvergenceWarning: Maximum Likelihood optimization failed to converge. Check mle_retvals\n",
      "  \"Check mle_retvals\", ConvergenceWarning)\n"
     ]
    },
    {
     "name": "stdout",
     "output_type": "stream",
     "text": [
      "[0.026278468264739417, 0.026465530757462875, 0.015107307275651613]\n"
     ]
    },
    {
     "name": "stderr",
     "output_type": "stream",
     "text": [
      "/home/michal/anaconda3/lib/python3.7/site-packages/statsmodels/base/model.py:508: ConvergenceWarning: Maximum Likelihood optimization failed to converge. Check mle_retvals\n",
      "  \"Check mle_retvals\", ConvergenceWarning)\n"
     ]
    },
    {
     "name": "stdout",
     "output_type": "stream",
     "text": [
      "[0.02630535790019788, 0.02642393663136492, 0.015115696024677695]\n"
     ]
    },
    {
     "name": "stderr",
     "output_type": "stream",
     "text": [
      "/home/michal/anaconda3/lib/python3.7/site-packages/statsmodels/base/model.py:508: ConvergenceWarning: Maximum Likelihood optimization failed to converge. Check mle_retvals\n",
      "  \"Check mle_retvals\", ConvergenceWarning)\n"
     ]
    },
    {
     "name": "stdout",
     "output_type": "stream",
     "text": [
      "[0.02727341313450109, 0.026805915280167673, 0.01562331570564368]\n"
     ]
    },
    {
     "name": "stderr",
     "output_type": "stream",
     "text": [
      "/home/michal/anaconda3/lib/python3.7/site-packages/statsmodels/base/model.py:508: ConvergenceWarning: Maximum Likelihood optimization failed to converge. Check mle_retvals\n",
      "  \"Check mle_retvals\", ConvergenceWarning)\n",
      "/home/michal/anaconda3/lib/python3.7/site-packages/statsmodels/base/model.py:508: ConvergenceWarning: Maximum Likelihood optimization failed to converge. Check mle_retvals\n",
      "  \"Check mle_retvals\", ConvergenceWarning)\n"
     ]
    },
    {
     "name": "stdout",
     "output_type": "stream",
     "text": [
      "[0.027316078888041436, 0.02676837924956948, 0.015482572791968826]\n",
      "[0.027317473995393204, 0.026807066735924912, 0.016933499479248097]\n"
     ]
    },
    {
     "name": "stderr",
     "output_type": "stream",
     "text": [
      "/home/michal/anaconda3/lib/python3.7/site-packages/statsmodels/base/model.py:508: ConvergenceWarning: Maximum Likelihood optimization failed to converge. Check mle_retvals\n",
      "  \"Check mle_retvals\", ConvergenceWarning)\n",
      "/home/michal/anaconda3/lib/python3.7/site-packages/statsmodels/base/model.py:508: ConvergenceWarning: Maximum Likelihood optimization failed to converge. Check mle_retvals\n",
      "  \"Check mle_retvals\", ConvergenceWarning)\n"
     ]
    },
    {
     "name": "stdout",
     "output_type": "stream",
     "text": [
      "[0.027341656571140092, 0.026794968656178746, 0.015277700307784359]\n"
     ]
    },
    {
     "name": "stderr",
     "output_type": "stream",
     "text": [
      "/home/michal/anaconda3/lib/python3.7/site-packages/statsmodels/base/model.py:508: ConvergenceWarning: Maximum Likelihood optimization failed to converge. Check mle_retvals\n",
      "  \"Check mle_retvals\", ConvergenceWarning)\n"
     ]
    },
    {
     "name": "stdout",
     "output_type": "stream",
     "text": [
      "[0.024637803069753772, 0.025277519666977343, 0.014562380160558028]\n",
      "[0.02470669891721074, 0.025535656555880158, 0.014574212002870518]\n",
      "[0.024797113576653262, 0.025420721874253534, 0.014476989352228724]\n"
     ]
    },
    {
     "name": "stderr",
     "output_type": "stream",
     "text": [
      "/home/michal/anaconda3/lib/python3.7/site-packages/statsmodels/base/model.py:508: ConvergenceWarning: Maximum Likelihood optimization failed to converge. Check mle_retvals\n",
      "  \"Check mle_retvals\", ConvergenceWarning)\n"
     ]
    },
    {
     "name": "stdout",
     "output_type": "stream",
     "text": [
      "[0.024881158940151155, 0.025408948840997262, 0.014581917538357735]\n"
     ]
    },
    {
     "name": "stderr",
     "output_type": "stream",
     "text": [
      "/home/michal/anaconda3/lib/python3.7/site-packages/statsmodels/base/model.py:508: ConvergenceWarning: Maximum Likelihood optimization failed to converge. Check mle_retvals\n",
      "  \"Check mle_retvals\", ConvergenceWarning)\n",
      "/home/michal/anaconda3/lib/python3.7/site-packages/statsmodels/base/model.py:508: ConvergenceWarning: Maximum Likelihood optimization failed to converge. Check mle_retvals\n",
      "  \"Check mle_retvals\", ConvergenceWarning)\n"
     ]
    },
    {
     "name": "stdout",
     "output_type": "stream",
     "text": [
      "[0.02489139832249767, 0.02541350914217286, 0.014603020073563592]\n",
      "[0.02501310759357379, 0.025323925525566043, 0.014429406975451285]\n"
     ]
    },
    {
     "name": "stderr",
     "output_type": "stream",
     "text": [
      "/home/michal/anaconda3/lib/python3.7/site-packages/statsmodels/base/model.py:508: ConvergenceWarning: Maximum Likelihood optimization failed to converge. Check mle_retvals\n",
      "  \"Check mle_retvals\", ConvergenceWarning)\n"
     ]
    },
    {
     "name": "stdout",
     "output_type": "stream",
     "text": [
      "[0.025657489826674495, 0.025712720497650415, 0.014936194764910543]\n"
     ]
    },
    {
     "name": "stderr",
     "output_type": "stream",
     "text": [
      "/home/michal/anaconda3/lib/python3.7/site-packages/statsmodels/base/model.py:508: ConvergenceWarning: Maximum Likelihood optimization failed to converge. Check mle_retvals\n",
      "  \"Check mle_retvals\", ConvergenceWarning)\n"
     ]
    },
    {
     "name": "stdout",
     "output_type": "stream",
     "text": [
      "[0.0256718502822856, 0.025714232685905957, 0.01583707084798519]\n"
     ]
    },
    {
     "name": "stderr",
     "output_type": "stream",
     "text": [
      "/home/michal/anaconda3/lib/python3.7/site-packages/statsmodels/base/model.py:508: ConvergenceWarning: Maximum Likelihood optimization failed to converge. Check mle_retvals\n",
      "  \"Check mle_retvals\", ConvergenceWarning)\n",
      "/home/michal/anaconda3/lib/python3.7/site-packages/statsmodels/base/model.py:508: ConvergenceWarning: Maximum Likelihood optimization failed to converge. Check mle_retvals\n",
      "  \"Check mle_retvals\", ConvergenceWarning)\n"
     ]
    },
    {
     "name": "stdout",
     "output_type": "stream",
     "text": [
      "[0.026011559484033928, 0.025700162261082064, 0.015604013263435296]\n"
     ]
    },
    {
     "name": "stderr",
     "output_type": "stream",
     "text": [
      "/home/michal/anaconda3/lib/python3.7/site-packages/statsmodels/base/model.py:508: ConvergenceWarning: Maximum Likelihood optimization failed to converge. Check mle_retvals\n",
      "  \"Check mle_retvals\", ConvergenceWarning)\n",
      "/home/michal/anaconda3/lib/python3.7/site-packages/statsmodels/base/model.py:508: ConvergenceWarning: Maximum Likelihood optimization failed to converge. Check mle_retvals\n",
      "  \"Check mle_retvals\", ConvergenceWarning)\n"
     ]
    },
    {
     "name": "stdout",
     "output_type": "stream",
     "text": [
      "[0.026017708480587817, 0.02569909321140025, 0.014717286213597663]\n"
     ]
    },
    {
     "name": "stderr",
     "output_type": "stream",
     "text": [
      "/home/michal/anaconda3/lib/python3.7/site-packages/statsmodels/base/model.py:508: ConvergenceWarning: Maximum Likelihood optimization failed to converge. Check mle_retvals\n",
      "  \"Check mle_retvals\", ConvergenceWarning)\n"
     ]
    },
    {
     "name": "stdout",
     "output_type": "stream",
     "text": [
      "[0.02401710568587733, 0.02523041181729183, 0.015268178836900828]\n"
     ]
    },
    {
     "name": "stderr",
     "output_type": "stream",
     "text": [
      "/home/michal/anaconda3/lib/python3.7/site-packages/statsmodels/base/model.py:508: ConvergenceWarning: Maximum Likelihood optimization failed to converge. Check mle_retvals\n",
      "  \"Check mle_retvals\", ConvergenceWarning)\n",
      "/home/michal/anaconda3/lib/python3.7/site-packages/statsmodels/base/model.py:508: ConvergenceWarning: Maximum Likelihood optimization failed to converge. Check mle_retvals\n",
      "  \"Check mle_retvals\", ConvergenceWarning)\n"
     ]
    },
    {
     "name": "stdout",
     "output_type": "stream",
     "text": [
      "[0.024018598615296035, 0.025286746135957775, 0.01444620846469383]\n",
      "[0.024092408996545734, 0.025098284339731703, 0.01420348201727153]\n",
      "[0.02416139282486534, 0.02522073799528276, 0.01428875313113128]\n"
     ]
    },
    {
     "name": "stderr",
     "output_type": "stream",
     "text": [
      "/home/michal/anaconda3/lib/python3.7/site-packages/statsmodels/base/model.py:508: ConvergenceWarning: Maximum Likelihood optimization failed to converge. Check mle_retvals\n",
      "  \"Check mle_retvals\", ConvergenceWarning)\n"
     ]
    },
    {
     "name": "stdout",
     "output_type": "stream",
     "text": [
      "[0.024313432383493972, 0.025163753707762793, 0.014420101650428022]\n"
     ]
    },
    {
     "name": "stderr",
     "output_type": "stream",
     "text": [
      "/home/michal/anaconda3/lib/python3.7/site-packages/statsmodels/base/model.py:508: ConvergenceWarning: Maximum Likelihood optimization failed to converge. Check mle_retvals\n",
      "  \"Check mle_retvals\", ConvergenceWarning)\n"
     ]
    },
    {
     "name": "stdout",
     "output_type": "stream",
     "text": [
      "[0.024329087834144367, 0.025180869188218526, 0.014434624568202381]\n"
     ]
    },
    {
     "name": "stderr",
     "output_type": "stream",
     "text": [
      "/home/michal/anaconda3/lib/python3.7/site-packages/statsmodels/base/model.py:508: ConvergenceWarning: Maximum Likelihood optimization failed to converge. Check mle_retvals\n",
      "  \"Check mle_retvals\", ConvergenceWarning)\n",
      "/home/michal/anaconda3/lib/python3.7/site-packages/statsmodels/base/model.py:508: ConvergenceWarning: Maximum Likelihood optimization failed to converge. Check mle_retvals\n",
      "  \"Check mle_retvals\", ConvergenceWarning)\n"
     ]
    },
    {
     "name": "stdout",
     "output_type": "stream",
     "text": [
      "[0.0249064160736728, 0.025320440813849977, 0.014745919686930078]\n"
     ]
    },
    {
     "name": "stderr",
     "output_type": "stream",
     "text": [
      "/home/michal/anaconda3/lib/python3.7/site-packages/statsmodels/base/model.py:508: ConvergenceWarning: Maximum Likelihood optimization failed to converge. Check mle_retvals\n",
      "  \"Check mle_retvals\", ConvergenceWarning)\n"
     ]
    },
    {
     "name": "stdout",
     "output_type": "stream",
     "text": [
      "[0.024947526868166977, 0.025320522596516844, 0.014599456902314583]\n"
     ]
    },
    {
     "name": "stderr",
     "output_type": "stream",
     "text": [
      "/home/michal/anaconda3/lib/python3.7/site-packages/statsmodels/base/model.py:508: ConvergenceWarning: Maximum Likelihood optimization failed to converge. Check mle_retvals\n",
      "  \"Check mle_retvals\", ConvergenceWarning)\n"
     ]
    },
    {
     "name": "stdout",
     "output_type": "stream",
     "text": [
      "[0.0249480498060756, 0.02534340975781973, 0.015127451635650978]\n"
     ]
    },
    {
     "name": "stderr",
     "output_type": "stream",
     "text": [
      "/home/michal/anaconda3/lib/python3.7/site-packages/statsmodels/base/model.py:508: ConvergenceWarning: Maximum Likelihood optimization failed to converge. Check mle_retvals\n",
      "  \"Check mle_retvals\", ConvergenceWarning)\n"
     ]
    },
    {
     "name": "stdout",
     "output_type": "stream",
     "text": [
      "[0.024976429131739294, 0.025352581118810547, 0.016660528702178996]\n"
     ]
    },
    {
     "name": "stderr",
     "output_type": "stream",
     "text": [
      "/home/michal/anaconda3/lib/python3.7/site-packages/statsmodels/base/model.py:508: ConvergenceWarning: Maximum Likelihood optimization failed to converge. Check mle_retvals\n",
      "  \"Check mle_retvals\", ConvergenceWarning)\n",
      "/home/michal/anaconda3/lib/python3.7/site-packages/statsmodels/base/model.py:508: ConvergenceWarning: Maximum Likelihood optimization failed to converge. Check mle_retvals\n",
      "  \"Check mle_retvals\", ConvergenceWarning)\n"
     ]
    },
    {
     "name": "stdout",
     "output_type": "stream",
     "text": [
      "[0.024584273314168383, 0.02515335343805605, 0.014945903795444722]\n"
     ]
    },
    {
     "name": "stderr",
     "output_type": "stream",
     "text": [
      "/home/michal/anaconda3/lib/python3.7/site-packages/statsmodels/base/model.py:508: ConvergenceWarning: Maximum Likelihood optimization failed to converge. Check mle_retvals\n",
      "  \"Check mle_retvals\", ConvergenceWarning)\n"
     ]
    },
    {
     "name": "stdout",
     "output_type": "stream",
     "text": [
      "[0.024601817953705894, 0.025178150653025606, 0.014952625263182242]\n"
     ]
    },
    {
     "name": "stderr",
     "output_type": "stream",
     "text": [
      "/home/michal/anaconda3/lib/python3.7/site-packages/statsmodels/base/model.py:508: ConvergenceWarning: Maximum Likelihood optimization failed to converge. Check mle_retvals\n",
      "  \"Check mle_retvals\", ConvergenceWarning)\n"
     ]
    },
    {
     "name": "stdout",
     "output_type": "stream",
     "text": [
      "[0.024360594598605404, 0.02517839935859322]\n"
     ]
    },
    {
     "name": "stderr",
     "output_type": "stream",
     "text": [
      "/home/michal/anaconda3/lib/python3.7/site-packages/statsmodels/base/model.py:508: ConvergenceWarning: Maximum Likelihood optimization failed to converge. Check mle_retvals\n",
      "  \"Check mle_retvals\", ConvergenceWarning)\n"
     ]
    },
    {
     "name": "stdout",
     "output_type": "stream",
     "text": [
      "[0.02444321948509298, 0.025280415408827864]\n"
     ]
    },
    {
     "name": "stderr",
     "output_type": "stream",
     "text": [
      "/home/michal/anaconda3/lib/python3.7/site-packages/statsmodels/base/model.py:508: ConvergenceWarning: Maximum Likelihood optimization failed to converge. Check mle_retvals\n",
      "  \"Check mle_retvals\", ConvergenceWarning)\n"
     ]
    },
    {
     "name": "stdout",
     "output_type": "stream",
     "text": [
      "[0.02531149803200177, 0.025319529642417335, 0.015243427495824366]\n"
     ]
    },
    {
     "name": "stderr",
     "output_type": "stream",
     "text": [
      "/home/michal/anaconda3/lib/python3.7/site-packages/statsmodels/base/model.py:508: ConvergenceWarning: Maximum Likelihood optimization failed to converge. Check mle_retvals\n",
      "  \"Check mle_retvals\", ConvergenceWarning)\n"
     ]
    },
    {
     "name": "stdout",
     "output_type": "stream",
     "text": [
      "[0.025260182706839388, 0.025320723482180896, 0.015337059267938444]\n"
     ]
    },
    {
     "name": "stderr",
     "output_type": "stream",
     "text": [
      "/home/michal/anaconda3/lib/python3.7/site-packages/statsmodels/base/model.py:508: ConvergenceWarning: Maximum Likelihood optimization failed to converge. Check mle_retvals\n",
      "  \"Check mle_retvals\", ConvergenceWarning)\n"
     ]
    },
    {
     "name": "stdout",
     "output_type": "stream",
     "text": [
      "[0.02429690892455345, 0.025321341821727898, 0.015225343466295218]\n",
      "[0.02429559413740462, 0.025324947701917913, 0.015196030304702927]\n",
      "[0.0253275230078794, 0.02533950956777628, 0.015130058226277608]\n"
     ]
    },
    {
     "name": "stderr",
     "output_type": "stream",
     "text": [
      "/home/michal/anaconda3/lib/python3.7/site-packages/statsmodels/base/model.py:508: ConvergenceWarning: Maximum Likelihood optimization failed to converge. Check mle_retvals\n",
      "  \"Check mle_retvals\", ConvergenceWarning)\n",
      "/home/michal/anaconda3/lib/python3.7/site-packages/statsmodels/base/model.py:508: ConvergenceWarning: Maximum Likelihood optimization failed to converge. Check mle_retvals\n",
      "  \"Check mle_retvals\", ConvergenceWarning)\n"
     ]
    },
    {
     "name": "stdout",
     "output_type": "stream",
     "text": [
      "[0.024637670106502297, 0.025370201186238974, 0.015154154522616408]\n",
      "[0.025048816732861686, 0.025356579180844153, 0.01517718143821706]\n"
     ]
    },
    {
     "name": "stderr",
     "output_type": "stream",
     "text": [
      "/home/michal/anaconda3/lib/python3.7/site-packages/statsmodels/base/model.py:508: ConvergenceWarning: Maximum Likelihood optimization failed to converge. Check mle_retvals\n",
      "  \"Check mle_retvals\", ConvergenceWarning)\n",
      "/home/michal/anaconda3/lib/python3.7/site-packages/statsmodels/base/model.py:508: ConvergenceWarning: Maximum Likelihood optimization failed to converge. Check mle_retvals\n",
      "  \"Check mle_retvals\", ConvergenceWarning)\n"
     ]
    },
    {
     "name": "stdout",
     "output_type": "stream",
     "text": [
      "[0.02507021698980768, 0.025386268732061408, 0.01505330291615965]\n"
     ]
    },
    {
     "name": "stderr",
     "output_type": "stream",
     "text": [
      "/home/michal/anaconda3/lib/python3.7/site-packages/statsmodels/base/model.py:508: ConvergenceWarning: Maximum Likelihood optimization failed to converge. Check mle_retvals\n",
      "  \"Check mle_retvals\", ConvergenceWarning)\n",
      "/home/michal/anaconda3/lib/python3.7/site-packages/statsmodels/base/model.py:508: ConvergenceWarning: Maximum Likelihood optimization failed to converge. Check mle_retvals\n",
      "  \"Check mle_retvals\", ConvergenceWarning)\n"
     ]
    },
    {
     "name": "stdout",
     "output_type": "stream",
     "text": [
      "[0.025061404151455295, 0.02541702881612777, 0.015039242911310107]\n"
     ]
    },
    {
     "name": "stderr",
     "output_type": "stream",
     "text": [
      "/home/michal/anaconda3/lib/python3.7/site-packages/statsmodels/base/model.py:508: ConvergenceWarning: Maximum Likelihood optimization failed to converge. Check mle_retvals\n",
      "  \"Check mle_retvals\", ConvergenceWarning)\n"
     ]
    },
    {
     "name": "stdout",
     "output_type": "stream",
     "text": [
      "[0.024947991986962726, 0.025443194591247196, 0.015224629438592065]\n",
      "[0.024820821008031357, 0.025450164547365314, 0.015408005850959071]\n",
      "[0.024861620325681868, 0.025524861895837418, 0.015312744323950965]\n"
     ]
    },
    {
     "name": "stderr",
     "output_type": "stream",
     "text": [
      "/home/michal/anaconda3/lib/python3.7/site-packages/statsmodels/base/model.py:508: ConvergenceWarning: Maximum Likelihood optimization failed to converge. Check mle_retvals\n",
      "  \"Check mle_retvals\", ConvergenceWarning)\n",
      "/home/michal/anaconda3/lib/python3.7/site-packages/statsmodels/base/model.py:508: ConvergenceWarning: Maximum Likelihood optimization failed to converge. Check mle_retvals\n",
      "  \"Check mle_retvals\", ConvergenceWarning)\n"
     ]
    },
    {
     "name": "stdout",
     "output_type": "stream",
     "text": [
      "[0.024885310654204393, 0.025568211721075974, 0.015377217931436425]\n",
      "[0.025856976534441592, 0.025694976859986732, 0.015390562891369464]\n"
     ]
    },
    {
     "name": "stderr",
     "output_type": "stream",
     "text": [
      "/home/michal/anaconda3/lib/python3.7/site-packages/statsmodels/base/model.py:508: ConvergenceWarning: Maximum Likelihood optimization failed to converge. Check mle_retvals\n",
      "  \"Check mle_retvals\", ConvergenceWarning)\n"
     ]
    },
    {
     "name": "stdout",
     "output_type": "stream",
     "text": [
      "[0.025843679655893143, 0.02569577243423827, 0.015556652409588662]\n",
      "[0.02549683272093581, 0.02572992026383507, 0.015286281204285285]\n"
     ]
    },
    {
     "name": "stderr",
     "output_type": "stream",
     "text": [
      "/home/michal/anaconda3/lib/python3.7/site-packages/statsmodels/base/model.py:508: ConvergenceWarning: Maximum Likelihood optimization failed to converge. Check mle_retvals\n",
      "  \"Check mle_retvals\", ConvergenceWarning)\n"
     ]
    },
    {
     "name": "stdout",
     "output_type": "stream",
     "text": [
      "[0.026010442310838256, 0.025890958037350312, 0.015432886588857452]\n"
     ]
    },
    {
     "name": "stderr",
     "output_type": "stream",
     "text": [
      "/home/michal/anaconda3/lib/python3.7/site-packages/statsmodels/base/model.py:508: ConvergenceWarning: Maximum Likelihood optimization failed to converge. Check mle_retvals\n",
      "  \"Check mle_retvals\", ConvergenceWarning)\n"
     ]
    },
    {
     "name": "stdout",
     "output_type": "stream",
     "text": [
      "[0.026037135474228885, 0.026172560129766962, 0.015230640789936184]\n",
      "[0.026025766677262696, 0.026244628690993428, 0.015326573507389552]\n",
      "[0.026087767799539023, 0.02626809168636115, 0.015533635834510562]\n"
     ]
    },
    {
     "name": "stderr",
     "output_type": "stream",
     "text": [
      "/home/michal/anaconda3/lib/python3.7/site-packages/statsmodels/base/model.py:508: ConvergenceWarning: Maximum Likelihood optimization failed to converge. Check mle_retvals\n",
      "  \"Check mle_retvals\", ConvergenceWarning)\n"
     ]
    },
    {
     "name": "stdout",
     "output_type": "stream",
     "text": [
      "[0.02630535790019788, 0.02642393663136492, 0.015115696024677695]\n"
     ]
    },
    {
     "name": "stderr",
     "output_type": "stream",
     "text": [
      "/home/michal/anaconda3/lib/python3.7/site-packages/statsmodels/base/model.py:508: ConvergenceWarning: Maximum Likelihood optimization failed to converge. Check mle_retvals\n",
      "  \"Check mle_retvals\", ConvergenceWarning)\n",
      "/home/michal/anaconda3/lib/python3.7/site-packages/statsmodels/base/model.py:508: ConvergenceWarning: Maximum Likelihood optimization failed to converge. Check mle_retvals\n",
      "  \"Check mle_retvals\", ConvergenceWarning)\n"
     ]
    },
    {
     "name": "stdout",
     "output_type": "stream",
     "text": [
      "[0.026278468264739417, 0.026465530757462875, 0.015107307275651613]\n"
     ]
    },
    {
     "name": "stderr",
     "output_type": "stream",
     "text": [
      "/home/michal/anaconda3/lib/python3.7/site-packages/statsmodels/base/model.py:508: ConvergenceWarning: Maximum Likelihood optimization failed to converge. Check mle_retvals\n",
      "  \"Check mle_retvals\", ConvergenceWarning)\n",
      "/home/michal/anaconda3/lib/python3.7/site-packages/statsmodels/base/model.py:508: ConvergenceWarning: Maximum Likelihood optimization failed to converge. Check mle_retvals\n",
      "  \"Check mle_retvals\", ConvergenceWarning)\n"
     ]
    },
    {
     "name": "stdout",
     "output_type": "stream",
     "text": [
      "[0.027316078888041436, 0.02676837924956948, 0.015482572791968826]\n"
     ]
    },
    {
     "name": "stderr",
     "output_type": "stream",
     "text": [
      "/home/michal/anaconda3/lib/python3.7/site-packages/statsmodels/base/model.py:508: ConvergenceWarning: Maximum Likelihood optimization failed to converge. Check mle_retvals\n",
      "  \"Check mle_retvals\", ConvergenceWarning)\n",
      "/home/michal/anaconda3/lib/python3.7/site-packages/statsmodels/base/model.py:508: ConvergenceWarning: Maximum Likelihood optimization failed to converge. Check mle_retvals\n",
      "  \"Check mle_retvals\", ConvergenceWarning)\n"
     ]
    },
    {
     "name": "stdout",
     "output_type": "stream",
     "text": [
      "[0.027341656571140092, 0.026794968656178746, 0.015277700307784359]\n"
     ]
    },
    {
     "name": "stderr",
     "output_type": "stream",
     "text": [
      "/home/michal/anaconda3/lib/python3.7/site-packages/statsmodels/base/model.py:508: ConvergenceWarning: Maximum Likelihood optimization failed to converge. Check mle_retvals\n",
      "  \"Check mle_retvals\", ConvergenceWarning)\n"
     ]
    },
    {
     "name": "stdout",
     "output_type": "stream",
     "text": [
      "[0.02727341313450109, 0.026805915280167673, 0.01562331570564368]\n"
     ]
    },
    {
     "name": "stderr",
     "output_type": "stream",
     "text": [
      "/home/michal/anaconda3/lib/python3.7/site-packages/statsmodels/base/model.py:508: ConvergenceWarning: Maximum Likelihood optimization failed to converge. Check mle_retvals\n",
      "  \"Check mle_retvals\", ConvergenceWarning)\n"
     ]
    },
    {
     "name": "stdout",
     "output_type": "stream",
     "text": [
      "[0.023681124162835653, 0.02374787997183751, 0.014228474666355581]\n"
     ]
    },
    {
     "name": "stderr",
     "output_type": "stream",
     "text": [
      "/home/michal/anaconda3/lib/python3.7/site-packages/statsmodels/base/model.py:508: ConvergenceWarning: Maximum Likelihood optimization failed to converge. Check mle_retvals\n",
      "  \"Check mle_retvals\", ConvergenceWarning)\n"
     ]
    },
    {
     "name": "stdout",
     "output_type": "stream",
     "text": [
      "[0.023694025796750826, 0.02374998738065939, 0.014218537248132703]\n"
     ]
    },
    {
     "name": "stderr",
     "output_type": "stream",
     "text": [
      "/home/michal/anaconda3/lib/python3.7/site-packages/statsmodels/base/model.py:508: ConvergenceWarning: Maximum Likelihood optimization failed to converge. Check mle_retvals\n",
      "  \"Check mle_retvals\", ConvergenceWarning)\n",
      "/home/michal/anaconda3/lib/python3.7/site-packages/statsmodels/base/model.py:508: ConvergenceWarning: Maximum Likelihood optimization failed to converge. Check mle_retvals\n",
      "  \"Check mle_retvals\", ConvergenceWarning)\n"
     ]
    },
    {
     "name": "stdout",
     "output_type": "stream",
     "text": [
      "[0.02341608727340422, 0.023784046206568876, 0.014377181174072688]\n"
     ]
    },
    {
     "name": "stderr",
     "output_type": "stream",
     "text": [
      "/home/michal/anaconda3/lib/python3.7/site-packages/statsmodels/base/model.py:508: ConvergenceWarning: Maximum Likelihood optimization failed to converge. Check mle_retvals\n",
      "  \"Check mle_retvals\", ConvergenceWarning)\n",
      "/home/michal/anaconda3/lib/python3.7/site-packages/statsmodels/base/model.py:508: ConvergenceWarning: Maximum Likelihood optimization failed to converge. Check mle_retvals\n",
      "  \"Check mle_retvals\", ConvergenceWarning)\n"
     ]
    },
    {
     "name": "stdout",
     "output_type": "stream",
     "text": [
      "[0.023457312285857346, 0.023789899574383103]\n"
     ]
    },
    {
     "name": "stderr",
     "output_type": "stream",
     "text": [
      "/home/michal/anaconda3/lib/python3.7/site-packages/statsmodels/base/model.py:508: ConvergenceWarning: Maximum Likelihood optimization failed to converge. Check mle_retvals\n",
      "  \"Check mle_retvals\", ConvergenceWarning)\n",
      "/home/michal/anaconda3/lib/python3.7/site-packages/statsmodels/base/model.py:508: ConvergenceWarning: Maximum Likelihood optimization failed to converge. Check mle_retvals\n",
      "  \"Check mle_retvals\", ConvergenceWarning)\n",
      "/home/michal/anaconda3/lib/python3.7/site-packages/statsmodels/base/model.py:508: ConvergenceWarning: Maximum Likelihood optimization failed to converge. Check mle_retvals\n",
      "  \"Check mle_retvals\", ConvergenceWarning)\n"
     ]
    },
    {
     "name": "stdout",
     "output_type": "stream",
     "text": [
      "[0.02391821859087506, 0.023851616189087557, 0.014327157568806599]\n",
      "[0.0235161727462612, 0.023881291483169753, 0.01429356597184696]\n",
      "[0.02356430714333496, 0.023888184858474687]\n"
     ]
    },
    {
     "name": "stderr",
     "output_type": "stream",
     "text": [
      "/home/michal/anaconda3/lib/python3.7/site-packages/statsmodels/base/model.py:508: ConvergenceWarning: Maximum Likelihood optimization failed to converge. Check mle_retvals\n",
      "  \"Check mle_retvals\", ConvergenceWarning)\n"
     ]
    },
    {
     "name": "stdout",
     "output_type": "stream",
     "text": [
      "[0.023886646311349697, 0.02388829010600292, 0.014352904572683662]\n"
     ]
    },
    {
     "name": "stderr",
     "output_type": "stream",
     "text": [
      "/home/michal/anaconda3/lib/python3.7/site-packages/statsmodels/base/model.py:508: ConvergenceWarning: Maximum Likelihood optimization failed to converge. Check mle_retvals\n",
      "  \"Check mle_retvals\", ConvergenceWarning)\n",
      "/home/michal/anaconda3/lib/python3.7/site-packages/statsmodels/base/model.py:508: ConvergenceWarning: Maximum Likelihood optimization failed to converge. Check mle_retvals\n",
      "  \"Check mle_retvals\", ConvergenceWarning)\n"
     ]
    },
    {
     "name": "stdout",
     "output_type": "stream",
     "text": [
      "[0.023931556321884106, 0.02389526359957675, 0.0142794438844635]\n"
     ]
    },
    {
     "name": "stderr",
     "output_type": "stream",
     "text": [
      "/home/michal/anaconda3/lib/python3.7/site-packages/statsmodels/base/model.py:508: ConvergenceWarning: Maximum Likelihood optimization failed to converge. Check mle_retvals\n",
      "  \"Check mle_retvals\", ConvergenceWarning)\n",
      "/home/michal/anaconda3/lib/python3.7/site-packages/statsmodels/base/model.py:508: ConvergenceWarning: Maximum Likelihood optimization failed to converge. Check mle_retvals\n",
      "  \"Check mle_retvals\", ConvergenceWarning)\n"
     ]
    },
    {
     "name": "stdout",
     "output_type": "stream",
     "text": [
      "[0.024213630746535784, 0.023978156062860353, 0.015937752056179155]\n"
     ]
    },
    {
     "name": "stderr",
     "output_type": "stream",
     "text": [
      "/home/michal/anaconda3/lib/python3.7/site-packages/statsmodels/base/model.py:508: ConvergenceWarning: Maximum Likelihood optimization failed to converge. Check mle_retvals\n",
      "  \"Check mle_retvals\", ConvergenceWarning)\n",
      "/home/michal/anaconda3/lib/python3.7/site-packages/statsmodels/base/model.py:508: ConvergenceWarning: Maximum Likelihood optimization failed to converge. Check mle_retvals\n",
      "  \"Check mle_retvals\", ConvergenceWarning)\n"
     ]
    },
    {
     "name": "stdout",
     "output_type": "stream",
     "text": [
      "[0.025061404151455295, 0.02541702881612777, 0.015039242911310107]\n"
     ]
    },
    {
     "name": "stderr",
     "output_type": "stream",
     "text": [
      "/home/michal/anaconda3/lib/python3.7/site-packages/statsmodels/base/model.py:508: ConvergenceWarning: Maximum Likelihood optimization failed to converge. Check mle_retvals\n",
      "  \"Check mle_retvals\", ConvergenceWarning)\n",
      "/home/michal/anaconda3/lib/python3.7/site-packages/statsmodels/base/model.py:508: ConvergenceWarning: Maximum Likelihood optimization failed to converge. Check mle_retvals\n",
      "  \"Check mle_retvals\", ConvergenceWarning)\n"
     ]
    },
    {
     "name": "stdout",
     "output_type": "stream",
     "text": [
      "[0.02507021698980768, 0.025386268732061408, 0.01505330291615965]\n",
      "[0.025048816732861686, 0.025356579180844153, 0.01517718143821706]\n"
     ]
    },
    {
     "name": "stderr",
     "output_type": "stream",
     "text": [
      "/home/michal/anaconda3/lib/python3.7/site-packages/statsmodels/base/model.py:508: ConvergenceWarning: Maximum Likelihood optimization failed to converge. Check mle_retvals\n",
      "  \"Check mle_retvals\", ConvergenceWarning)\n"
     ]
    },
    {
     "name": "stdout",
     "output_type": "stream",
     "text": [
      "[0.024947991986962726, 0.025443194591247196, 0.015224629438592065]\n",
      "[0.02549683272093581, 0.02572992026383507, 0.015286281204285285]\n",
      "[0.024861620325681868, 0.025524861895837418, 0.015312744323950965]\n"
     ]
    },
    {
     "name": "stderr",
     "output_type": "stream",
     "text": [
      "/home/michal/anaconda3/lib/python3.7/site-packages/statsmodels/base/model.py:508: ConvergenceWarning: Maximum Likelihood optimization failed to converge. Check mle_retvals\n",
      "  \"Check mle_retvals\", ConvergenceWarning)\n",
      "/home/michal/anaconda3/lib/python3.7/site-packages/statsmodels/base/model.py:508: ConvergenceWarning: Maximum Likelihood optimization failed to converge. Check mle_retvals\n",
      "  \"Check mle_retvals\", ConvergenceWarning)\n"
     ]
    },
    {
     "name": "stdout",
     "output_type": "stream",
     "text": [
      "[0.024885310654204393, 0.025568211721075974, 0.015377217931436425]\n",
      "[0.025856976534441592, 0.025694976859986732, 0.015390562891369464]\n",
      "[0.024820821008031357, 0.025450164547365314, 0.015408005850959071]\n"
     ]
    },
    {
     "name": "stderr",
     "output_type": "stream",
     "text": [
      "/home/michal/anaconda3/lib/python3.7/site-packages/statsmodels/base/model.py:508: ConvergenceWarning: Maximum Likelihood optimization failed to converge. Check mle_retvals\n",
      "  \"Check mle_retvals\", ConvergenceWarning)\n"
     ]
    },
    {
     "name": "stdout",
     "output_type": "stream",
     "text": [
      "[0.025843679655893143, 0.02569577243423827, 0.015556652409588662]\n"
     ]
    },
    {
     "name": "stderr",
     "output_type": "stream",
     "text": [
      "/home/michal/anaconda3/lib/python3.7/site-packages/statsmodels/base/model.py:508: ConvergenceWarning: Maximum Likelihood optimization failed to converge. Check mle_retvals\n",
      "  \"Check mle_retvals\", ConvergenceWarning)\n"
     ]
    },
    {
     "name": "stdout",
     "output_type": "stream",
     "text": [
      "[0.026477282065483825, 0.015072431365069996]\n"
     ]
    },
    {
     "name": "stderr",
     "output_type": "stream",
     "text": [
      "/home/michal/anaconda3/lib/python3.7/site-packages/statsmodels/base/model.py:508: ConvergenceWarning: Maximum Likelihood optimization failed to converge. Check mle_retvals\n",
      "  \"Check mle_retvals\", ConvergenceWarning)\n",
      "/home/michal/anaconda3/lib/python3.7/site-packages/statsmodels/base/model.py:508: ConvergenceWarning: Maximum Likelihood optimization failed to converge. Check mle_retvals\n",
      "  \"Check mle_retvals\", ConvergenceWarning)\n"
     ]
    },
    {
     "name": "stdout",
     "output_type": "stream",
     "text": [
      "[0.026278468264739417, 0.026465530757462875, 0.015107307275651613]\n"
     ]
    },
    {
     "name": "stderr",
     "output_type": "stream",
     "text": [
      "/home/michal/anaconda3/lib/python3.7/site-packages/statsmodels/base/model.py:508: ConvergenceWarning: Maximum Likelihood optimization failed to converge. Check mle_retvals\n",
      "  \"Check mle_retvals\", ConvergenceWarning)\n"
     ]
    },
    {
     "name": "stdout",
     "output_type": "stream",
     "text": [
      "[0.02630535790019788, 0.02642393663136492, 0.015115696024677695]\n"
     ]
    },
    {
     "name": "stderr",
     "output_type": "stream",
     "text": [
      "/home/michal/anaconda3/lib/python3.7/site-packages/statsmodels/base/model.py:508: ConvergenceWarning: Maximum Likelihood optimization failed to converge. Check mle_retvals\n",
      "  \"Check mle_retvals\", ConvergenceWarning)\n"
     ]
    },
    {
     "name": "stdout",
     "output_type": "stream",
     "text": [
      "[0.026037135474228885, 0.026172560129766962, 0.015230640789936184]\n",
      "[0.026025766677262696, 0.026244628690993428, 0.015326573507389552]\n"
     ]
    },
    {
     "name": "stderr",
     "output_type": "stream",
     "text": [
      "/home/michal/anaconda3/lib/python3.7/site-packages/statsmodels/base/model.py:508: ConvergenceWarning: Maximum Likelihood optimization failed to converge. Check mle_retvals\n",
      "  \"Check mle_retvals\", ConvergenceWarning)\n"
     ]
    },
    {
     "name": "stdout",
     "output_type": "stream",
     "text": [
      "[0.026062499720816423, 0.015362160810735895]\n"
     ]
    },
    {
     "name": "stderr",
     "output_type": "stream",
     "text": [
      "/home/michal/anaconda3/lib/python3.7/site-packages/statsmodels/base/model.py:508: ConvergenceWarning: Maximum Likelihood optimization failed to converge. Check mle_retvals\n",
      "  \"Check mle_retvals\", ConvergenceWarning)\n"
     ]
    },
    {
     "name": "stdout",
     "output_type": "stream",
     "text": [
      "[0.026010442310838256, 0.025890958037350312, 0.015432886588857452]\n"
     ]
    },
    {
     "name": "stderr",
     "output_type": "stream",
     "text": [
      "/home/michal/anaconda3/lib/python3.7/site-packages/statsmodels/base/model.py:508: ConvergenceWarning: Maximum Likelihood optimization failed to converge. Check mle_retvals\n",
      "  \"Check mle_retvals\", ConvergenceWarning)\n",
      "/home/michal/anaconda3/lib/python3.7/site-packages/statsmodels/base/model.py:508: ConvergenceWarning: Maximum Likelihood optimization failed to converge. Check mle_retvals\n",
      "  \"Check mle_retvals\", ConvergenceWarning)\n"
     ]
    },
    {
     "name": "stdout",
     "output_type": "stream",
     "text": [
      "[0.027316078888041436, 0.02676837924956948, 0.015482572791968826]\n",
      "[0.026087767799539023, 0.02626809168636115, 0.015533635834510562]\n"
     ]
    },
    {
     "name": "stderr",
     "output_type": "stream",
     "text": [
      "/home/michal/anaconda3/lib/python3.7/site-packages/statsmodels/base/model.py:508: ConvergenceWarning: Maximum Likelihood optimization failed to converge. Check mle_retvals\n",
      "  \"Check mle_retvals\", ConvergenceWarning)\n"
     ]
    },
    {
     "name": "stdout",
     "output_type": "stream",
     "text": [
      "[0.02727341313450109, 0.026805915280167673, 0.01562331570564368]\n"
     ]
    },
    {
     "name": "stderr",
     "output_type": "stream",
     "text": [
      "/home/michal/anaconda3/lib/python3.7/site-packages/statsmodels/base/model.py:508: ConvergenceWarning: Maximum Likelihood optimization failed to converge. Check mle_retvals\n",
      "  \"Check mle_retvals\", ConvergenceWarning)\n",
      "/home/michal/anaconda3/lib/python3.7/site-packages/statsmodels/base/model.py:508: ConvergenceWarning: Maximum Likelihood optimization failed to converge. Check mle_retvals\n",
      "  \"Check mle_retvals\", ConvergenceWarning)\n"
     ]
    },
    {
     "name": "stdout",
     "output_type": "stream",
     "text": [
      "[0.024584273314168383, 0.02515335343805605, 0.014945903795444722]\n"
     ]
    },
    {
     "name": "stderr",
     "output_type": "stream",
     "text": [
      "/home/michal/anaconda3/lib/python3.7/site-packages/statsmodels/base/model.py:508: ConvergenceWarning: Maximum Likelihood optimization failed to converge. Check mle_retvals\n",
      "  \"Check mle_retvals\", ConvergenceWarning)\n"
     ]
    },
    {
     "name": "stdout",
     "output_type": "stream",
     "text": [
      "[0.024601817953705894, 0.025178150653025606, 0.014952625263182242]\n"
     ]
    },
    {
     "name": "stderr",
     "output_type": "stream",
     "text": [
      "/home/michal/anaconda3/lib/python3.7/site-packages/statsmodels/base/model.py:508: ConvergenceWarning: Maximum Likelihood optimization failed to converge. Check mle_retvals\n",
      "  \"Check mle_retvals\", ConvergenceWarning)\n",
      "/home/michal/anaconda3/lib/python3.7/site-packages/statsmodels/base/model.py:508: ConvergenceWarning: Maximum Likelihood optimization failed to converge. Check mle_retvals\n",
      "  \"Check mle_retvals\", ConvergenceWarning)\n"
     ]
    },
    {
     "name": "stdout",
     "output_type": "stream",
     "text": [
      "[0.024637670106502297, 0.025370201186238974, 0.015154154522616408]\n"
     ]
    },
    {
     "name": "stderr",
     "output_type": "stream",
     "text": [
      "/home/michal/anaconda3/lib/python3.7/site-packages/statsmodels/base/model.py:508: ConvergenceWarning: Maximum Likelihood optimization failed to converge. Check mle_retvals\n",
      "  \"Check mle_retvals\", ConvergenceWarning)\n",
      "/home/michal/anaconda3/lib/python3.7/site-packages/statsmodels/base/model.py:508: ConvergenceWarning: Maximum Likelihood optimization failed to converge. Check mle_retvals\n",
      "  \"Check mle_retvals\", ConvergenceWarning)\n"
     ]
    },
    {
     "name": "stdout",
     "output_type": "stream",
     "text": [
      "[0.02534155014783859, 0.025342898772115294, 0.015170054972271012]\n",
      "[0.02429559413740462, 0.025324947701917913, 0.015196030304702927]\n"
     ]
    },
    {
     "name": "stderr",
     "output_type": "stream",
     "text": [
      "/home/michal/anaconda3/lib/python3.7/site-packages/statsmodels/base/model.py:508: ConvergenceWarning: Maximum Likelihood optimization failed to converge. Check mle_retvals\n",
      "  \"Check mle_retvals\", ConvergenceWarning)\n"
     ]
    },
    {
     "name": "stdout",
     "output_type": "stream",
     "text": [
      "[0.02429690892455345, 0.025321341821727898, 0.015225343466295218]\n"
     ]
    },
    {
     "name": "stderr",
     "output_type": "stream",
     "text": [
      "/home/michal/anaconda3/lib/python3.7/site-packages/statsmodels/base/model.py:508: ConvergenceWarning: Maximum Likelihood optimization failed to converge. Check mle_retvals\n",
      "  \"Check mle_retvals\", ConvergenceWarning)\n"
     ]
    },
    {
     "name": "stdout",
     "output_type": "stream",
     "text": [
      "[0.02531149803200177, 0.025319529642417335, 0.015243427495824366]\n"
     ]
    },
    {
     "name": "stderr",
     "output_type": "stream",
     "text": [
      "/home/michal/anaconda3/lib/python3.7/site-packages/statsmodels/base/model.py:508: ConvergenceWarning: Maximum Likelihood optimization failed to converge. Check mle_retvals\n",
      "  \"Check mle_retvals\", ConvergenceWarning)\n"
     ]
    },
    {
     "name": "stdout",
     "output_type": "stream",
     "text": [
      "[0.025260182706839388, 0.025320723482180896, 0.015337059267938444]\n"
     ]
    },
    {
     "name": "stderr",
     "output_type": "stream",
     "text": [
      "/home/michal/anaconda3/lib/python3.7/site-packages/statsmodels/base/model.py:508: ConvergenceWarning: Maximum Likelihood optimization failed to converge. Check mle_retvals\n",
      "  \"Check mle_retvals\", ConvergenceWarning)\n",
      "/home/michal/anaconda3/lib/python3.7/site-packages/statsmodels/base/model.py:508: ConvergenceWarning: Maximum Likelihood optimization failed to converge. Check mle_retvals\n",
      "  \"Check mle_retvals\", ConvergenceWarning)\n",
      "/home/michal/anaconda3/lib/python3.7/site-packages/statsmodels/base/model.py:508: ConvergenceWarning: Maximum Likelihood optimization failed to converge. Check mle_retvals\n",
      "  \"Check mle_retvals\", ConvergenceWarning)\n"
     ]
    },
    {
     "name": "stdout",
     "output_type": "stream",
     "text": [
      "[0.02300884395812669, 0.024442293987246535, 0.014410339525572932]\n"
     ]
    },
    {
     "name": "stderr",
     "output_type": "stream",
     "text": [
      "/home/michal/anaconda3/lib/python3.7/site-packages/statsmodels/base/model.py:508: ConvergenceWarning: Maximum Likelihood optimization failed to converge. Check mle_retvals\n",
      "  \"Check mle_retvals\", ConvergenceWarning)\n"
     ]
    },
    {
     "name": "stdout",
     "output_type": "stream",
     "text": [
      "[0.02324744540697535, 0.02442318699027043, 0.014627675696242626]\n"
     ]
    },
    {
     "name": "stderr",
     "output_type": "stream",
     "text": [
      "/home/michal/anaconda3/lib/python3.7/site-packages/statsmodels/base/model.py:508: ConvergenceWarning: Maximum Likelihood optimization failed to converge. Check mle_retvals\n",
      "  \"Check mle_retvals\", ConvergenceWarning)\n"
     ]
    },
    {
     "name": "stdout",
     "output_type": "stream",
     "text": [
      "[0.02323925028424666, 0.024392941849734395, 0.014639086917490001]\n",
      "[0.022944099584279055, 0.02438859749145686, 0.0146967658292075]\n"
     ]
    },
    {
     "name": "stderr",
     "output_type": "stream",
     "text": [
      "/home/michal/anaconda3/lib/python3.7/site-packages/statsmodels/base/model.py:508: ConvergenceWarning: Maximum Likelihood optimization failed to converge. Check mle_retvals\n",
      "  \"Check mle_retvals\", ConvergenceWarning)\n",
      "/home/michal/anaconda3/lib/python3.7/site-packages/statsmodels/base/model.py:508: ConvergenceWarning: Maximum Likelihood optimization failed to converge. Check mle_retvals\n",
      "  \"Check mle_retvals\", ConvergenceWarning)\n"
     ]
    },
    {
     "name": "stdout",
     "output_type": "stream",
     "text": [
      "[0.02344907916360314, 0.02455388422181551, 0.014750080163038018]\n"
     ]
    },
    {
     "name": "stderr",
     "output_type": "stream",
     "text": [
      "/home/michal/anaconda3/lib/python3.7/site-packages/statsmodels/base/model.py:508: ConvergenceWarning: Maximum Likelihood optimization failed to converge. Check mle_retvals\n",
      "  \"Check mle_retvals\", ConvergenceWarning)\n"
     ]
    },
    {
     "name": "stdout",
     "output_type": "stream",
     "text": [
      "[0.023262602129584628, 0.01475018830771117]\n"
     ]
    },
    {
     "name": "stderr",
     "output_type": "stream",
     "text": [
      "/home/michal/anaconda3/lib/python3.7/site-packages/statsmodels/base/model.py:508: ConvergenceWarning: Maximum Likelihood optimization failed to converge. Check mle_retvals\n",
      "  \"Check mle_retvals\", ConvergenceWarning)\n",
      "/home/michal/anaconda3/lib/python3.7/site-packages/statsmodels/base/model.py:508: ConvergenceWarning: Maximum Likelihood optimization failed to converge. Check mle_retvals\n",
      "  \"Check mle_retvals\", ConvergenceWarning)\n",
      "/home/michal/anaconda3/lib/python3.7/site-packages/statsmodels/base/model.py:508: ConvergenceWarning: Maximum Likelihood optimization failed to converge. Check mle_retvals\n",
      "  \"Check mle_retvals\", ConvergenceWarning)\n"
     ]
    },
    {
     "name": "stdout",
     "output_type": "stream",
     "text": [
      "[0.02346929184529792, 0.024438625460741527, 0.014777767092954712]\n",
      "[0.023823383845439115, 0.02465038096429194, 0.01621770681645749]\n"
     ]
    }
   ],
   "source": [
    "rmse_values_dict = {}\n",
    "chosen_one_list = []\n",
    "for k, (results, variables) in best_results.items():\n",
    "    for order, rmse_value in results:\n",
    "        rmse_values = []\n",
    "        try:\n",
    "            model = SARIMAX(val1['y_return_ratio'], val1[variables], order=order, freq='B', trend='c')\n",
    "            results = model.fit(disp=-1)\n",
    "            rmse_value = rmse(results.fittedvalues, val1['y_return_ratio'])\n",
    "            rmse_values.append(rmse_value)\n",
    "        except Exception as e: pass\n",
    "            \n",
    "        try:\n",
    "            model = SARIMAX(val2['y_return_ratio'], val2[variables], order=order, freq='B', trend='c')\n",
    "            results = model.fit(disp=-1)\n",
    "            rmse_value = rmse(results.fittedvalues, val2['y_return_ratio'])\n",
    "            rmse_values.append(rmse_value)\n",
    "        except: pass\n",
    "            \n",
    "        try:\n",
    "            model = SARIMAX(val3['y_return_ratio'], val3[variables], order=order, freq='B', trend='c')\n",
    "            results = model.fit(disp=-1)\n",
    "            rmse_value = rmse(results.fittedvalues, val3['y_return_ratio'])\n",
    "            rmse_values.append(rmse_value)\n",
    "        except: pass\n",
    "        print(rmse_values)\n",
    "        if len(rmse_values) == 3: chosen_one_list.append((order, variables, np.mean(rmse_values)))\n",
    "\n",
    "        \n",
    "chosen_one_list.sort(key=lambda x: x[2])"
   ]
  },
  {
   "cell_type": "code",
   "execution_count": 20,
   "metadata": {},
   "outputs": [
    {
     "data": {
      "text/plain": [
       "[((0, 0, 3),\n",
       "  ['gaming_news_diff_1_shift_2',\n",
       "   'SandP_diff_1',\n",
       "   'NasdaqTech_diff_1',\n",
       "   'TTWO_gaming_diff_1',\n",
       "   'SAR_diff_1_shift_13',\n",
       "   'MAXINDEX_diff_1',\n",
       "   'MIN_diff_1',\n",
       "   'MININDEX_diff_1_shift_19'],\n",
       "  0.020525771551348593),\n",
       " ((3, 0, 1),\n",
       "  ['gaming_news_diff_1_shift_2',\n",
       "   'SandP_diff_1',\n",
       "   'NasdaqTech_diff_1',\n",
       "   'TTWO_gaming_diff_1',\n",
       "   'SAR_diff_1_shift_13',\n",
       "   'MAXINDEX_diff_1',\n",
       "   'MIN_diff_1',\n",
       "   'MININDEX_diff_1_shift_19'],\n",
       "  0.020552492933676246),\n",
       " ((3, 0, 0),\n",
       "  ['gaming_news_diff_1_shift_2',\n",
       "   'SandP_diff_1',\n",
       "   'NasdaqTech_diff_1',\n",
       "   'TTWO_gaming_diff_1',\n",
       "   'SAR_diff_1_shift_13',\n",
       "   'MAXINDEX_diff_1',\n",
       "   'MIN_diff_1',\n",
       "   'MININDEX_diff_1_shift_19'],\n",
       "  0.020554183475180975),\n",
       " ((1, 0, 3),\n",
       "  ['gaming_news_diff_1_shift_2',\n",
       "   'SandP_diff_1',\n",
       "   'NasdaqTech_diff_1',\n",
       "   'TTWO_gaming_diff_1',\n",
       "   'SAR_diff_1_shift_13',\n",
       "   'MAXINDEX_diff_1',\n",
       "   'MIN_diff_1',\n",
       "   'MININDEX_diff_1_shift_19'],\n",
       "  0.020563676733759303),\n",
       " ((1, 0, 3),\n",
       "  ['SandP_diff_1',\n",
       "   'NasdaqTech_diff_1',\n",
       "   'TTWO_gaming_diff_1',\n",
       "   'SAR_diff_1_shift_13',\n",
       "   'MAXINDEX_diff_1',\n",
       "   'MIN_diff_1',\n",
       "   'MININDEX_diff_1_shift_19',\n",
       "   'week'],\n",
       "  0.020620492490315386),\n",
       " ((0, 0, 3),\n",
       "  ['SandP_diff_1',\n",
       "   'NasdaqTech_diff_1',\n",
       "   'TTWO_gaming_diff_1',\n",
       "   'SAR_diff_1_shift_13',\n",
       "   'MAXINDEX_diff_1',\n",
       "   'MIN_diff_1',\n",
       "   'MININDEX_diff_1_shift_19',\n",
       "   'week'],\n",
       "  0.020676487634981137),\n",
       " ((2, 0, 2),\n",
       "  ['gaming_news_diff_1_shift_2',\n",
       "   'SandP_diff_1',\n",
       "   'NasdaqTech_diff_1',\n",
       "   'TTWO_gaming_diff_1',\n",
       "   'SAR_diff_1_shift_13',\n",
       "   'MAXINDEX_diff_1',\n",
       "   'MIN_diff_1',\n",
       "   'MININDEX_diff_1_shift_19'],\n",
       "  0.02069899744958974),\n",
       " ((3, 0, 2),\n",
       "  ['gaming_news_diff_1_shift_2',\n",
       "   'SandP_diff_1',\n",
       "   'NasdaqTech_diff_1',\n",
       "   'TTWO_gaming_diff_1',\n",
       "   'SAR_diff_1_shift_13',\n",
       "   'MAXINDEX_diff_1',\n",
       "   'MIN_diff_1',\n",
       "   'MININDEX_diff_1_shift_19'],\n",
       "  0.02070208793530812),\n",
       " ((2, 0, 0),\n",
       "  ['gaming_news_diff_1_shift_2',\n",
       "   'SandP_diff_1',\n",
       "   'NasdaqTech_diff_1',\n",
       "   'TTWO_gaming_diff_1',\n",
       "   'SAR_diff_1_shift_13',\n",
       "   'MAXINDEX_diff_1',\n",
       "   'MIN_diff_1',\n",
       "   'MININDEX_diff_1_shift_19'],\n",
       "  0.020709280330012094),\n",
       " ((3, 0, 1),\n",
       "  ['SandP_diff_1',\n",
       "   'NasdaqTech_diff_1',\n",
       "   'TTWO_gaming_diff_1',\n",
       "   'SAR_diff_1_shift_13',\n",
       "   'MAXINDEX_diff_1',\n",
       "   'MIN_diff_1',\n",
       "   'MININDEX_diff_1_shift_19',\n",
       "   'week'],\n",
       "  0.02075709301715702),\n",
       " ((3, 0, 0),\n",
       "  ['SandP_diff_1',\n",
       "   'NasdaqTech_diff_1',\n",
       "   'TTWO_gaming_diff_1',\n",
       "   'SAR_diff_1_shift_13',\n",
       "   'MAXINDEX_diff_1',\n",
       "   'MIN_diff_1',\n",
       "   'MININDEX_diff_1_shift_19',\n",
       "   'week'],\n",
       "  0.02076610269782947),\n",
       " ((1, 0, 2),\n",
       "  ['SandP_diff_1',\n",
       "   'NasdaqTech_diff_1',\n",
       "   'TTWO_gaming_diff_1',\n",
       "   'SAR_diff_1_shift_13',\n",
       "   'MAXINDEX_diff_1',\n",
       "   'MIN_diff_1',\n",
       "   'MININDEX_diff_1_shift_19',\n",
       "   'week'],\n",
       "  0.020895228132998055),\n",
       " ((2, 0, 2),\n",
       "  ['SandP_diff_1',\n",
       "   'NasdaqTech_diff_1',\n",
       "   'TTWO_gaming_diff_1',\n",
       "   'SAR_diff_1_shift_13',\n",
       "   'MAXINDEX_diff_1',\n",
       "   'MIN_diff_1',\n",
       "   'MININDEX_diff_1_shift_19',\n",
       "   'week'],\n",
       "  0.02091768118281889),\n",
       " ((1, 0, 3),\n",
       "  ['SandP_diff_1',\n",
       "   'NasdaqTech_diff_1',\n",
       "   'SAR_diff_1_shift_13',\n",
       "   'MAXINDEX_diff_1',\n",
       "   'MIN_diff_1',\n",
       "   'MININDEX_diff_1_shift_19',\n",
       "   'week'],\n",
       "  0.020958761811335085),\n",
       " ((2, 0, 3),\n",
       "  ['SandP_diff_1',\n",
       "   'NasdaqTech_diff_1',\n",
       "   'SAR_diff_1_shift_13',\n",
       "   'MAXINDEX_diff_1',\n",
       "   'MIN_diff_1',\n",
       "   'MININDEX_diff_1_shift_19',\n",
       "   'week'],\n",
       "  0.0209940497842649),\n",
       " ((3, 0, 0),\n",
       "  ['SandP_diff_1',\n",
       "   'NasdaqTech_diff_1',\n",
       "   'SAR_diff_1_shift_13',\n",
       "   'MAXINDEX_diff_1',\n",
       "   'MIN_diff_1',\n",
       "   'MININDEX_diff_1_shift_19',\n",
       "   'week'],\n",
       "  0.021096642557877115),\n",
       " ((3, 0, 3),\n",
       "  ['SandP_diff_1',\n",
       "   'NasdaqTech_diff_1',\n",
       "   'MAXINDEX_diff_1',\n",
       "   'MIN_diff_1',\n",
       "   'MININDEX_diff_1_shift_19',\n",
       "   'week'],\n",
       "  0.021131391784516323),\n",
       " ((0, 0, 3),\n",
       "  ['SandP_diff_1',\n",
       "   'NasdaqTech_diff_1',\n",
       "   'SAR_diff_1_shift_13',\n",
       "   'MAXINDEX_diff_1',\n",
       "   'MIN_diff_1',\n",
       "   'MININDEX_diff_1_shift_19',\n",
       "   'week'],\n",
       "  0.021209408175127235),\n",
       " ((3, 0, 1),\n",
       "  ['SandP_diff_1',\n",
       "   'NasdaqTech_diff_1',\n",
       "   'SAR_diff_1_shift_13',\n",
       "   'MAXINDEX_diff_1',\n",
       "   'MIN_diff_1',\n",
       "   'MININDEX_diff_1_shift_19',\n",
       "   'week'],\n",
       "  0.021217680324029698),\n",
       " ((2, 0, 3),\n",
       "  ['SandP_diff_1',\n",
       "   'NasdaqTech_diff_1',\n",
       "   'MAXINDEX_diff_1',\n",
       "   'MIN_diff_1',\n",
       "   'MININDEX_diff_1_shift_19',\n",
       "   'week'],\n",
       "  0.02122362798375979),\n",
       " ((1, 0, 3),\n",
       "  ['SandP_diff_1',\n",
       "   'NasdaqTech_diff_1',\n",
       "   'MAXINDEX_diff_1',\n",
       "   'MIN_diff_1',\n",
       "   'MININDEX_diff_1_shift_19',\n",
       "   'week'],\n",
       "  0.02125051773864921),\n",
       " ((3, 0, 0),\n",
       "  ['SandP_diff_1',\n",
       "   'NasdaqTech_diff_1',\n",
       "   'MAXINDEX_diff_1',\n",
       "   'MIN_diff_1',\n",
       "   'MININDEX_diff_1_shift_19',\n",
       "   'week'],\n",
       "  0.021299095913894932),\n",
       " ((3, 0, 1),\n",
       "  ['SandP_diff_1',\n",
       "   'NasdaqTech_diff_1',\n",
       "   'MAXINDEX_diff_1',\n",
       "   'MIN_diff_1',\n",
       "   'MININDEX_diff_1_shift_19',\n",
       "   'week'],\n",
       "  0.021314860530188426),\n",
       " ((1, 0, 2),\n",
       "  ['SandP_diff_1',\n",
       "   'NasdaqTech_diff_1',\n",
       "   'SAR_diff_1_shift_13',\n",
       "   'MAXINDEX_diff_1',\n",
       "   'MIN_diff_1',\n",
       "   'MININDEX_diff_1_shift_19',\n",
       "   'week'],\n",
       "  0.021314874988564093),\n",
       " ((0, 0, 1),\n",
       "  ['gaming_news_diff_1_shift_2',\n",
       "   'SandP_diff_1',\n",
       "   'NasdaqTech_diff_1',\n",
       "   'TTWO_gaming_diff_1',\n",
       "   'SAR_diff_1_shift_13',\n",
       "   'MAXINDEX_diff_1',\n",
       "   'MIN_diff_1',\n",
       "   'MININDEX_diff_1_shift_19'],\n",
       "  0.021376512955191763),\n",
       " ((2, 0, 0),\n",
       "  ['SandP_diff_1',\n",
       "   'NasdaqTech_diff_1',\n",
       "   'SAR_diff_1_shift_13',\n",
       "   'MAXINDEX_diff_1',\n",
       "   'MIN_diff_1',\n",
       "   'MININDEX_diff_1_shift_19',\n",
       "   'week'],\n",
       "  0.021468207297065025),\n",
       " ((0, 0, 3),\n",
       "  ['SandP_diff_1', 'NasdaqTech_diff_1', 'MININDEX_diff_1_shift_19', 'week'],\n",
       "  0.021492567632429713),\n",
       " ((0, 0, 3),\n",
       "  ['SandP_diff_1',\n",
       "   'NasdaqTech_diff_1',\n",
       "   'MAXINDEX_diff_1',\n",
       "   'MIN_diff_1',\n",
       "   'MININDEX_diff_1_shift_19',\n",
       "   'week'],\n",
       "  0.021505232113356667),\n",
       " ((3, 0, 0),\n",
       "  ['SandP_diff_1',\n",
       "   'NasdaqTech_diff_1',\n",
       "   'MAXINDEX_diff_1',\n",
       "   'MIN_diff_1',\n",
       "   'MININDEX_diff_1_shift_19'],\n",
       "  0.02156117684922305),\n",
       " ((3, 0, 0),\n",
       "  ['SandP_diff_1',\n",
       "   'NasdaqTech_diff_1',\n",
       "   'MAXINDEX_diff_1',\n",
       "   'MIN_diff_1',\n",
       "   'MININDEX_diff_1_shift_19'],\n",
       "  0.02156117684922305),\n",
       " ((1, 0, 0),\n",
       "  ['SandP_diff_1',\n",
       "   'NasdaqTech_diff_1',\n",
       "   'TTWO_gaming_diff_1',\n",
       "   'SAR_diff_1_shift_13',\n",
       "   'MAXINDEX_diff_1',\n",
       "   'MIN_diff_1',\n",
       "   'MININDEX_diff_1_shift_19',\n",
       "   'week'],\n",
       "  0.021563823875396182),\n",
       " ((2, 0, 3),\n",
       "  ['SandP_diff_1', 'NasdaqTech_diff_1', 'MININDEX_diff_1_shift_19', 'week'],\n",
       "  0.021564941601045176),\n",
       " ((0, 0, 2),\n",
       "  ['SandP_diff_1',\n",
       "   'NasdaqTech_diff_1',\n",
       "   'SAR_diff_1_shift_13',\n",
       "   'MAXINDEX_diff_1',\n",
       "   'MIN_diff_1',\n",
       "   'MININDEX_diff_1_shift_19',\n",
       "   'week'],\n",
       "  0.021565873135602154),\n",
       " ((3, 0, 1),\n",
       "  ['SandP_diff_1',\n",
       "   'NasdaqTech_diff_1',\n",
       "   'MAXINDEX_diff_1',\n",
       "   'MIN_diff_1',\n",
       "   'MININDEX_diff_1_shift_19'],\n",
       "  0.02157753128997125),\n",
       " ((3, 0, 1),\n",
       "  ['SandP_diff_1',\n",
       "   'NasdaqTech_diff_1',\n",
       "   'MAXINDEX_diff_1',\n",
       "   'MIN_diff_1',\n",
       "   'MININDEX_diff_1_shift_19'],\n",
       "  0.02157753128997125),\n",
       " ((3, 0, 3),\n",
       "  ['SandP_diff_1', 'NasdaqTech_diff_1', 'MININDEX_diff_1_shift_19', 'week'],\n",
       "  0.021588813364863707),\n",
       " ((1, 0, 3),\n",
       "  ['SandP_diff_1', 'NasdaqTech_diff_1', 'MININDEX_diff_1_shift_19', 'week'],\n",
       "  0.021605522491987137),\n",
       " ((1, 0, 3),\n",
       "  ['SandP_diff_1',\n",
       "   'NasdaqTech_diff_1',\n",
       "   'MAXINDEX_diff_1',\n",
       "   'MIN_diff_1',\n",
       "   'MININDEX_diff_1_shift_19'],\n",
       "  0.021605524048008487),\n",
       " ((1, 0, 3),\n",
       "  ['SandP_diff_1',\n",
       "   'NasdaqTech_diff_1',\n",
       "   'MAXINDEX_diff_1',\n",
       "   'MIN_diff_1',\n",
       "   'MININDEX_diff_1_shift_19'],\n",
       "  0.021605524048008487),\n",
       " ((0, 0, 3),\n",
       "  ['SandP_diff_1',\n",
       "   'NasdaqTech_diff_1',\n",
       "   'MAXINDEX_diff_1',\n",
       "   'MIN_diff_1',\n",
       "   'MININDEX_diff_1_shift_19'],\n",
       "  0.021614531404192186),\n",
       " ((0, 0, 3),\n",
       "  ['SandP_diff_1',\n",
       "   'NasdaqTech_diff_1',\n",
       "   'MAXINDEX_diff_1',\n",
       "   'MIN_diff_1',\n",
       "   'MININDEX_diff_1_shift_19'],\n",
       "  0.021614531404192186),\n",
       " ((1, 0, 2),\n",
       "  ['SandP_diff_1',\n",
       "   'NasdaqTech_diff_1',\n",
       "   'MAXINDEX_diff_1',\n",
       "   'MIN_diff_1',\n",
       "   'MININDEX_diff_1_shift_19',\n",
       "   'week'],\n",
       "  0.021622502122332802),\n",
       " ((3, 0, 0),\n",
       "  ['SandP_diff_1', 'NasdaqTech_diff_1', 'MININDEX_diff_1_shift_19', 'week'],\n",
       "  0.021624008439835387),\n",
       " ((3, 0, 1),\n",
       "  ['SandP_diff_1', 'NasdaqTech_diff_1', 'MININDEX_diff_1_shift_19', 'week'],\n",
       "  0.021635975846078043),\n",
       " ((0, 0, 2),\n",
       "  ['SandP_diff_1',\n",
       "   'NasdaqTech_diff_1',\n",
       "   'MAXINDEX_diff_1',\n",
       "   'MIN_diff_1',\n",
       "   'MININDEX_diff_1_shift_19',\n",
       "   'week'],\n",
       "  0.021657592191484287),\n",
       " ((3, 0, 2),\n",
       "  ['SandP_diff_1',\n",
       "   'NasdaqTech_diff_1',\n",
       "   'MAXINDEX_diff_1',\n",
       "   'MIN_diff_1',\n",
       "   'MININDEX_diff_1_shift_19'],\n",
       "  0.021720675271785894),\n",
       " ((3, 0, 2),\n",
       "  ['SandP_diff_1',\n",
       "   'NasdaqTech_diff_1',\n",
       "   'MAXINDEX_diff_1',\n",
       "   'MIN_diff_1',\n",
       "   'MININDEX_diff_1_shift_19'],\n",
       "  0.021720675271785894),\n",
       " ((0, 0, 1),\n",
       "  ['SandP_diff_1',\n",
       "   'NasdaqTech_diff_1',\n",
       "   'SAR_diff_1_shift_13',\n",
       "   'MAXINDEX_diff_1',\n",
       "   'MIN_diff_1',\n",
       "   'MININDEX_diff_1_shift_19',\n",
       "   'week'],\n",
       "  0.021803375015014007),\n",
       " ((2, 0, 0),\n",
       "  ['SandP_diff_1',\n",
       "   'NasdaqTech_diff_1',\n",
       "   'MAXINDEX_diff_1',\n",
       "   'MIN_diff_1',\n",
       "   'MININDEX_diff_1_shift_19',\n",
       "   'week'],\n",
       "  0.0218063037331821),\n",
       " ((3, 0, 1),\n",
       "  ['SandP_diff_1', 'NasdaqTech_diff_1', 'MININDEX_diff_1_shift_19'],\n",
       "  0.021836596212676248),\n",
       " ((3, 0, 1),\n",
       "  ['SandP_diff_1', 'NasdaqTech_diff_1', 'MININDEX_diff_1_shift_19'],\n",
       "  0.021836596212676248),\n",
       " ((3, 0, 0),\n",
       "  ['SandP_diff_1', 'NasdaqTech_diff_1', 'MININDEX_diff_1_shift_19'],\n",
       "  0.021839225292964393),\n",
       " ((3, 0, 0),\n",
       "  ['SandP_diff_1', 'NasdaqTech_diff_1', 'MININDEX_diff_1_shift_19'],\n",
       "  0.021839225292964393),\n",
       " ((3, 0, 3),\n",
       "  ['SandP_diff_1', 'NasdaqTech_diff_1', 'MININDEX_diff_1_shift_19'],\n",
       "  0.021860859117307632),\n",
       " ((3, 0, 3),\n",
       "  ['SandP_diff_1', 'NasdaqTech_diff_1', 'MININDEX_diff_1_shift_19'],\n",
       "  0.021860859117307632),\n",
       " ((2, 0, 3),\n",
       "  ['SandP_diff_1', 'NasdaqTech_diff_1', 'MININDEX_diff_1_shift_19'],\n",
       "  0.02187193867226733),\n",
       " ((2, 0, 3),\n",
       "  ['SandP_diff_1', 'NasdaqTech_diff_1', 'MININDEX_diff_1_shift_19'],\n",
       "  0.02187193867226733),\n",
       " ((0, 0, 3),\n",
       "  ['SandP_diff_1', 'NasdaqTech_diff_1', 'MININDEX_diff_1_shift_19'],\n",
       "  0.021892997135451914),\n",
       " ((0, 0, 3),\n",
       "  ['SandP_diff_1', 'NasdaqTech_diff_1', 'MININDEX_diff_1_shift_19'],\n",
       "  0.021892997135451914),\n",
       " ((3, 0, 2),\n",
       "  ['SandP_diff_1', 'NasdaqTech_diff_1', 'MININDEX_diff_1_shift_19'],\n",
       "  0.021899742181823417),\n",
       " ((3, 0, 2),\n",
       "  ['SandP_diff_1', 'NasdaqTech_diff_1', 'MININDEX_diff_1_shift_19'],\n",
       "  0.021899742181823417),\n",
       " ((2, 0, 0),\n",
       "  ['SandP_diff_1',\n",
       "   'NasdaqTech_diff_1',\n",
       "   'MAXINDEX_diff_1',\n",
       "   'MIN_diff_1',\n",
       "   'MININDEX_diff_1_shift_19'],\n",
       "  0.02193236360064443),\n",
       " ((1, 0, 3),\n",
       "  ['SandP_diff_1', 'NasdaqTech_diff_1', 'MININDEX_diff_1_shift_19'],\n",
       "  0.02194358010223893),\n",
       " ((1, 0, 3),\n",
       "  ['SandP_diff_1', 'NasdaqTech_diff_1', 'MININDEX_diff_1_shift_19'],\n",
       "  0.02194358010223893),\n",
       " ((2, 0, 2),\n",
       "  ['SandP_diff_1',\n",
       "   'NasdaqTech_diff_1',\n",
       "   'MAXINDEX_diff_1',\n",
       "   'MIN_diff_1',\n",
       "   'MININDEX_diff_1_shift_19'],\n",
       "  0.0219515012974083),\n",
       " ((1, 0, 2),\n",
       "  ['SandP_diff_1',\n",
       "   'NasdaqTech_diff_1',\n",
       "   'MAXINDEX_diff_1',\n",
       "   'MIN_diff_1',\n",
       "   'MININDEX_diff_1_shift_19'],\n",
       "  0.02195815172341449),\n",
       " ((1, 0, 2),\n",
       "  ['SandP_diff_1',\n",
       "   'NasdaqTech_diff_1',\n",
       "   'MAXINDEX_diff_1',\n",
       "   'MIN_diff_1',\n",
       "   'MININDEX_diff_1_shift_19'],\n",
       "  0.02195815172341449),\n",
       " ((0, 0, 2),\n",
       "  ['SandP_diff_1',\n",
       "   'NasdaqTech_diff_1',\n",
       "   'MAXINDEX_diff_1',\n",
       "   'MIN_diff_1',\n",
       "   'MININDEX_diff_1_shift_19'],\n",
       "  0.021972655152319578),\n",
       " ((0, 0, 2),\n",
       "  ['SandP_diff_1',\n",
       "   'NasdaqTech_diff_1',\n",
       "   'MAXINDEX_diff_1',\n",
       "   'MIN_diff_1',\n",
       "   'MININDEX_diff_1_shift_19'],\n",
       "  0.021972655152319578),\n",
       " ((2, 0, 0),\n",
       "  ['SandP_diff_1', 'NasdaqTech_diff_1', 'MININDEX_diff_1_shift_19', 'week'],\n",
       "  0.02210213502974515),\n",
       " ((1, 0, 2),\n",
       "  ['SandP_diff_1', 'NasdaqTech_diff_1', 'MININDEX_diff_1_shift_19', 'week'],\n",
       "  0.02214469596852858),\n",
       " ((0, 0, 3),\n",
       "  ['SandP_diff_1', 'NasdaqTech_diff_1', 'week'],\n",
       "  0.02215275518292435),\n",
       " ((2, 0, 3),\n",
       "  ['SandP_diff_1', 'NasdaqTech_diff_1', 'week'],\n",
       "  0.022170356290706825),\n",
       " ((2, 0, 2),\n",
       "  ['SandP_diff_1', 'NasdaqTech_diff_1', 'MININDEX_diff_1_shift_19'],\n",
       "  0.022171011396352056),\n",
       " ((2, 0, 2),\n",
       "  ['SandP_diff_1', 'NasdaqTech_diff_1', 'MININDEX_diff_1_shift_19'],\n",
       "  0.022171011396352056),\n",
       " ((1, 0, 3),\n",
       "  ['SandP_diff_1', 'NasdaqTech_diff_1', 'week'],\n",
       "  0.022180872918164892),\n",
       " ((3, 0, 0),\n",
       "  ['SandP_diff_1', 'NasdaqTech_diff_1', 'week'],\n",
       "  0.02230737673158935),\n",
       " ((1, 0, 2),\n",
       "  ['SandP_diff_1', 'NasdaqTech_diff_1', 'MININDEX_diff_1_shift_19'],\n",
       "  0.022314172095265927),\n",
       " ((1, 0, 2),\n",
       "  ['SandP_diff_1', 'NasdaqTech_diff_1', 'MININDEX_diff_1_shift_19'],\n",
       "  0.022314172095265927),\n",
       " ((0, 0, 1),\n",
       "  ['SandP_diff_1',\n",
       "   'NasdaqTech_diff_1',\n",
       "   'MAXINDEX_diff_1',\n",
       "   'MIN_diff_1',\n",
       "   'MININDEX_diff_1_shift_19',\n",
       "   'week'],\n",
       "  0.022329846317576275),\n",
       " ((0, 0, 2),\n",
       "  ['SandP_diff_1', 'NasdaqTech_diff_1', 'MININDEX_diff_1_shift_19'],\n",
       "  0.02236536816657336),\n",
       " ((0, 0, 2),\n",
       "  ['SandP_diff_1', 'NasdaqTech_diff_1', 'MININDEX_diff_1_shift_19'],\n",
       "  0.02236536816657336),\n",
       " ((1, 0, 0),\n",
       "  ['SandP_diff_1', 'NasdaqTech_diff_1', 'MININDEX_diff_1_shift_19', 'week'],\n",
       "  0.02240771793872558),\n",
       " ((3, 0, 1),\n",
       "  ['SandP_diff_1', 'NasdaqTech_diff_1', 'week'],\n",
       "  0.022420196382260487),\n",
       " ((0, 0, 2),\n",
       "  ['SandP_diff_1', 'NasdaqTech_diff_1', 'MININDEX_diff_1_shift_19', 'week'],\n",
       "  0.022438578336183762),\n",
       " ((1, 0, 3), ['SandP_diff_1', 'NasdaqTech_diff_1'], 0.02244476231234867),\n",
       " ((1, 0, 3), ['SandP_diff_1', 'NasdaqTech_diff_1'], 0.02244476231234867),\n",
       " ((1, 0, 3), ['SandP_diff_1', 'NasdaqTech_diff_1'], 0.02244476231234867),\n",
       " ((3, 0, 3),\n",
       "  ['SandP_diff_1', 'NasdaqTech_diff_1', 'week'],\n",
       "  0.022460336981332887),\n",
       " ((3, 0, 3), ['SandP_diff_1', 'NasdaqTech_diff_1'], 0.022480112131310678),\n",
       " ((3, 0, 3), ['SandP_diff_1', 'NasdaqTech_diff_1'], 0.022480112131310678),\n",
       " ((3, 0, 3), ['SandP_diff_1', 'NasdaqTech_diff_1'], 0.022480112131310678),\n",
       " ((2, 0, 3), ['SandP_diff_1', 'NasdaqTech_diff_1'], 0.022532322958548557),\n",
       " ((2, 0, 3), ['SandP_diff_1', 'NasdaqTech_diff_1'], 0.022532322958548557),\n",
       " ((2, 0, 3), ['SandP_diff_1', 'NasdaqTech_diff_1'], 0.022532322958548557),\n",
       " ((3, 0, 1), ['SandP_diff_1', 'NasdaqTech_diff_1'], 0.022614996852080165),\n",
       " ((3, 0, 1), ['SandP_diff_1', 'NasdaqTech_diff_1'], 0.022614996852080165),\n",
       " ((3, 0, 1), ['SandP_diff_1', 'NasdaqTech_diff_1'], 0.022614996852080165),\n",
       " ((3, 0, 0), ['SandP_diff_1', 'NasdaqTech_diff_1'], 0.022617102099284636),\n",
       " ((3, 0, 0), ['SandP_diff_1', 'NasdaqTech_diff_1'], 0.022617102099284636),\n",
       " ((3, 0, 0), ['SandP_diff_1', 'NasdaqTech_diff_1'], 0.022617102099284636),\n",
       " ((0, 0, 3), ['SandP_diff_1', 'NasdaqTech_diff_1'], 0.022629831773470246),\n",
       " ((0, 0, 3), ['SandP_diff_1', 'NasdaqTech_diff_1'], 0.022629831773470246),\n",
       " ((0, 0, 3), ['SandP_diff_1', 'NasdaqTech_diff_1'], 0.022629831773470246),\n",
       " ((1, 0, 2),\n",
       "  ['SandP_diff_1', 'NasdaqTech_diff_1', 'week'],\n",
       "  0.02276970452191182),\n",
       " ((0, 0, 2),\n",
       "  ['SandP_diff_1', 'NasdaqTech_diff_1', 'week'],\n",
       "  0.02284126720600833),\n",
       " ((2, 0, 0),\n",
       "  ['SandP_diff_1', 'NasdaqTech_diff_1', 'week'],\n",
       "  0.022846201922291583),\n",
       " ((2, 0, 0), ['SandP_diff_1', 'NasdaqTech_diff_1'], 0.023138108511701064),\n",
       " ((2, 0, 0), ['SandP_diff_1', 'NasdaqTech_diff_1'], 0.023138108511701064),\n",
       " ((1, 0, 2), ['SandP_diff_1', 'NasdaqTech_diff_1'], 0.023189010309859915),\n",
       " ((1, 0, 2), ['SandP_diff_1', 'NasdaqTech_diff_1'], 0.023189010309859915),\n",
       " ((1, 0, 2), ['SandP_diff_1', 'NasdaqTech_diff_1'], 0.023189010309859915),\n",
       " ((0, 0, 2), ['SandP_diff_1', 'NasdaqTech_diff_1'], 0.023234214706770815),\n",
       " ((0, 0, 2), ['SandP_diff_1', 'NasdaqTech_diff_1'], 0.023234214706770815),\n",
       " ((0, 0, 2), ['SandP_diff_1', 'NasdaqTech_diff_1'], 0.023234214706770815),\n",
       " ((1, 0, 0),\n",
       "  ['SandP_diff_1', 'NasdaqTech_diff_1', 'week'],\n",
       "  0.023498053537144178),\n",
       " ((1, 0, 0), ['SandP_diff_1', 'NasdaqTech_diff_1'], 0.023686013403522072)]"
      ]
     },
     "execution_count": 20,
     "metadata": {},
     "output_type": "execute_result"
    }
   ],
   "source": [
    "chosen_one_list"
   ]
  },
  {
   "cell_type": "markdown",
   "metadata": {},
   "source": [
    "# Estymacja na walidacji i teście"
   ]
  },
  {
   "cell_type": "markdown",
   "metadata": {},
   "source": [
    "## Walidacja"
   ]
  },
  {
   "cell_type": "code",
   "execution_count": 85,
   "metadata": {},
   "outputs": [],
   "source": [
    "order = (3, 0, 1)\n",
    "variables =  ['SandP_diff_1', 'NasdaqTech_diff_1']\n",
    "y_train_base = train1['y_return_ratio']\n",
    "x_train_base = train1[variables]\n",
    "y_test_base = pd.concat([val1, val2, val3]).asfreq('B', method='bfill')['y_return_ratio']\n",
    "x_test_base = pd.concat([val1, val2, val3]).asfreq('B', method='bfill')[variables]\n",
    "period = pd.concat([y_train, y_test])"
   ]
  },
  {
   "cell_type": "code",
   "execution_count": 86,
   "metadata": {
    "scrolled": true
   },
   "outputs": [
    {
     "name": "stdout",
     "output_type": "stream",
     "text": [
      "                           Statespace Model Results                           \n",
      "==============================================================================\n",
      "Dep. Variable:         y_return_ratio   No. Observations:                 1435\n",
      "Model:               SARIMAX(3, 0, 1)   Log Likelihood                3453.857\n",
      "Date:                Thu, 11 Apr 2019   AIC                          -6891.715\n",
      "Time:                        15:26:56   BIC                          -6849.563\n",
      "Sample:                    07-02-2012   HQIC                         -6875.977\n",
      "                         - 12-29-2017                                         \n",
      "Covariance Type:                  opg                                         \n",
      "=====================================================================================\n",
      "                        coef    std err          z      P>|z|      [0.025      0.975]\n",
      "-------------------------------------------------------------------------------------\n",
      "intercept             0.0021      0.001      1.499      0.134      -0.001       0.005\n",
      "SandP_diff_1         -0.0001   6.94e-05     -1.575      0.115      -0.000    2.67e-05\n",
      "NasdaqTech_diff_1  7.468e-05   4.19e-05      1.784      0.074   -7.38e-06       0.000\n",
      "ar.L1                -0.0089      0.551     -0.016      0.987      -1.089       1.071\n",
      "ar.L2                 0.0045      0.028      0.160      0.873      -0.051       0.060\n",
      "ar.L3                 0.0508      0.022      2.332      0.020       0.008       0.093\n",
      "ma.L1                -0.0095      0.551     -0.017      0.986      -1.090       1.071\n",
      "sigma2                0.0005   6.92e-06     68.663      0.000       0.000       0.000\n",
      "===================================================================================\n",
      "Ljung-Box (Q):                       43.26   Jarque-Bera (JB):             55842.02\n",
      "Prob(Q):                              0.33   Prob(JB):                         0.00\n",
      "Heteroskedasticity (H):               2.92   Skew:                             2.57\n",
      "Prob(H) (two-sided):                  0.00   Kurtosis:                        33.12\n",
      "===================================================================================\n",
      "\n",
      "Warnings:\n",
      "[1] Covariance matrix calculated using the outer product of gradients (complex-step).\n"
     ]
    }
   ],
   "source": [
    "model = SARIMAX(y_train_base, x_train_base, order=order, freq='B', trend='c')\n",
    "results = model.fit()\n",
    "print(results.summary())"
   ]
  },
  {
   "cell_type": "code",
   "execution_count": 80,
   "metadata": {
    "scrolled": true
   },
   "outputs": [
    {
     "name": "stderr",
     "output_type": "stream",
     "text": [
      "/home/michal/anaconda3/lib/python3.7/site-packages/statsmodels/tsa/base/tsa_model.py:320: FutureWarning: Creating a DatetimeIndex by passing range endpoints is deprecated.  Use `pandas.date_range` instead.\n",
      "  freq=base_index.freq)\n",
      "/home/michal/anaconda3/lib/python3.7/site-packages/statsmodels/base/model.py:508: ConvergenceWarning: Maximum Likelihood optimization failed to converge. Check mle_retvals\n",
      "  \"Check mle_retvals\", ConvergenceWarning)\n",
      "/home/michal/anaconda3/lib/python3.7/site-packages/statsmodels/base/model.py:508: ConvergenceWarning: Maximum Likelihood optimization failed to converge. Check mle_retvals\n",
      "  \"Check mle_retvals\", ConvergenceWarning)\n",
      "/home/michal/anaconda3/lib/python3.7/site-packages/statsmodels/base/model.py:508: ConvergenceWarning: Maximum Likelihood optimization failed to converge. Check mle_retvals\n",
      "  \"Check mle_retvals\", ConvergenceWarning)\n",
      "/home/michal/anaconda3/lib/python3.7/site-packages/statsmodels/base/model.py:508: ConvergenceWarning: Maximum Likelihood optimization failed to converge. Check mle_retvals\n",
      "  \"Check mle_retvals\", ConvergenceWarning)\n",
      "/home/michal/anaconda3/lib/python3.7/site-packages/statsmodels/base/model.py:508: ConvergenceWarning: Maximum Likelihood optimization failed to converge. Check mle_retvals\n",
      "  \"Check mle_retvals\", ConvergenceWarning)\n",
      "/home/michal/anaconda3/lib/python3.7/site-packages/statsmodels/base/model.py:508: ConvergenceWarning: Maximum Likelihood optimization failed to converge. Check mle_retvals\n",
      "  \"Check mle_retvals\", ConvergenceWarning)\n"
     ]
    },
    {
     "ename": "KeyboardInterrupt",
     "evalue": "",
     "output_type": "error",
     "traceback": [
      "\u001b[0;31m---------------------------------------------------------------------------\u001b[0m",
      "\u001b[0;31mKeyboardInterrupt\u001b[0m                         Traceback (most recent call last)",
      "\u001b[0;32m<ipython-input-80-545eff129c7b>\u001b[0m in \u001b[0;36m<module>\u001b[0;34m\u001b[0m\n\u001b[1;32m      5\u001b[0m     \u001b[0mmodel\u001b[0m \u001b[0;34m=\u001b[0m \u001b[0mSARIMAX\u001b[0m\u001b[0;34m(\u001b[0m\u001b[0my_train\u001b[0m\u001b[0;34m,\u001b[0m \u001b[0mx_train\u001b[0m\u001b[0;34m,\u001b[0m \u001b[0morder\u001b[0m\u001b[0;34m=\u001b[0m\u001b[0morder\u001b[0m\u001b[0;34m,\u001b[0m \u001b[0mfreq\u001b[0m\u001b[0;34m=\u001b[0m\u001b[0;34m'B'\u001b[0m\u001b[0;34m,\u001b[0m \u001b[0mtrend\u001b[0m\u001b[0;34m=\u001b[0m\u001b[0;34m'c'\u001b[0m\u001b[0;34m,\u001b[0m \u001b[0menforce_invertibility\u001b[0m\u001b[0;34m=\u001b[0m\u001b[0;32mFalse\u001b[0m\u001b[0;34m,\u001b[0m \u001b[0menforce_stationarity\u001b[0m\u001b[0;34m=\u001b[0m\u001b[0;32mFalse\u001b[0m\u001b[0;34m)\u001b[0m\u001b[0;34m\u001b[0m\u001b[0;34m\u001b[0m\u001b[0m\n\u001b[1;32m      6\u001b[0m     \u001b[0mresults\u001b[0m \u001b[0;34m=\u001b[0m \u001b[0mmodel\u001b[0m\u001b[0;34m.\u001b[0m\u001b[0mfit\u001b[0m\u001b[0;34m(\u001b[0m\u001b[0mdisp\u001b[0m\u001b[0;34m=\u001b[0m\u001b[0;32mFalse\u001b[0m\u001b[0;34m)\u001b[0m\u001b[0;34m\u001b[0m\u001b[0;34m\u001b[0m\u001b[0m\n\u001b[0;32m----> 7\u001b[0;31m     \u001b[0mforecasts\u001b[0m\u001b[0;34m.\u001b[0m\u001b[0mappend\u001b[0m\u001b[0;34m(\u001b[0m\u001b[0mresults\u001b[0m\u001b[0;34m.\u001b[0m\u001b[0mforecast\u001b[0m\u001b[0;34m(\u001b[0m\u001b[0mexog\u001b[0m\u001b[0;34m=\u001b[0m\u001b[0mx_test_base\u001b[0m\u001b[0;34m[\u001b[0m\u001b[0mi\u001b[0m\u001b[0;34m:\u001b[0m\u001b[0mi\u001b[0m\u001b[0;34m+\u001b[0m\u001b[0;36m1\u001b[0m\u001b[0;34m]\u001b[0m\u001b[0;34m)\u001b[0m\u001b[0;34m[\u001b[0m\u001b[0;36m0\u001b[0m\u001b[0;34m]\u001b[0m\u001b[0;34m)\u001b[0m\u001b[0;34m\u001b[0m\u001b[0;34m\u001b[0m\u001b[0m\n\u001b[0m\u001b[1;32m      8\u001b[0m \u001b[0mforecasts\u001b[0m \u001b[0;34m=\u001b[0m \u001b[0mpd\u001b[0m\u001b[0;34m.\u001b[0m\u001b[0mSeries\u001b[0m\u001b[0;34m(\u001b[0m\u001b[0mforecasts\u001b[0m\u001b[0;34m,\u001b[0m \u001b[0mindex\u001b[0m\u001b[0;34m=\u001b[0m\u001b[0my_test_base\u001b[0m\u001b[0;34m.\u001b[0m\u001b[0mindex\u001b[0m\u001b[0;34m)\u001b[0m\u001b[0;34m\u001b[0m\u001b[0;34m\u001b[0m\u001b[0m\n",
      "\u001b[0;32m~/anaconda3/lib/python3.7/site-packages/statsmodels/base/wrapper.py\u001b[0m in \u001b[0;36mwrapper\u001b[0;34m(self, *args, **kwargs)\u001b[0m\n\u001b[1;32m     93\u001b[0m             \u001b[0mobj\u001b[0m \u001b[0;34m=\u001b[0m \u001b[0mdata\u001b[0m\u001b[0;34m.\u001b[0m\u001b[0mwrap_output\u001b[0m\u001b[0;34m(\u001b[0m\u001b[0mfunc\u001b[0m\u001b[0;34m(\u001b[0m\u001b[0mresults\u001b[0m\u001b[0;34m,\u001b[0m \u001b[0;34m*\u001b[0m\u001b[0margs\u001b[0m\u001b[0;34m,\u001b[0m \u001b[0;34m**\u001b[0m\u001b[0mkwargs\u001b[0m\u001b[0;34m)\u001b[0m\u001b[0;34m,\u001b[0m \u001b[0mhow\u001b[0m\u001b[0;34m[\u001b[0m\u001b[0;36m0\u001b[0m\u001b[0;34m]\u001b[0m\u001b[0;34m,\u001b[0m \u001b[0mhow\u001b[0m\u001b[0;34m[\u001b[0m\u001b[0;36m1\u001b[0m\u001b[0;34m:\u001b[0m\u001b[0;34m]\u001b[0m\u001b[0;34m)\u001b[0m\u001b[0;34m\u001b[0m\u001b[0;34m\u001b[0m\u001b[0m\n\u001b[1;32m     94\u001b[0m         \u001b[0;32melif\u001b[0m \u001b[0mhow\u001b[0m\u001b[0;34m:\u001b[0m\u001b[0;34m\u001b[0m\u001b[0;34m\u001b[0m\u001b[0m\n\u001b[0;32m---> 95\u001b[0;31m             \u001b[0mobj\u001b[0m \u001b[0;34m=\u001b[0m \u001b[0mdata\u001b[0m\u001b[0;34m.\u001b[0m\u001b[0mwrap_output\u001b[0m\u001b[0;34m(\u001b[0m\u001b[0mfunc\u001b[0m\u001b[0;34m(\u001b[0m\u001b[0mresults\u001b[0m\u001b[0;34m,\u001b[0m \u001b[0;34m*\u001b[0m\u001b[0margs\u001b[0m\u001b[0;34m,\u001b[0m \u001b[0;34m**\u001b[0m\u001b[0mkwargs\u001b[0m\u001b[0;34m)\u001b[0m\u001b[0;34m,\u001b[0m \u001b[0mhow\u001b[0m\u001b[0;34m)\u001b[0m\u001b[0;34m\u001b[0m\u001b[0;34m\u001b[0m\u001b[0m\n\u001b[0m\u001b[1;32m     96\u001b[0m         \u001b[0;32mreturn\u001b[0m \u001b[0mobj\u001b[0m\u001b[0;34m\u001b[0m\u001b[0;34m\u001b[0m\u001b[0m\n\u001b[1;32m     97\u001b[0m \u001b[0;34m\u001b[0m\u001b[0m\n",
      "\u001b[0;32m~/anaconda3/lib/python3.7/site-packages/statsmodels/tsa/statespace/mlemodel.py\u001b[0m in \u001b[0;36mforecast\u001b[0;34m(self, steps, **kwargs)\u001b[0m\n\u001b[1;32m   2459\u001b[0m         \u001b[0;32melse\u001b[0m\u001b[0;34m:\u001b[0m\u001b[0;34m\u001b[0m\u001b[0;34m\u001b[0m\u001b[0m\n\u001b[1;32m   2460\u001b[0m             \u001b[0mend\u001b[0m \u001b[0;34m=\u001b[0m \u001b[0msteps\u001b[0m\u001b[0;34m\u001b[0m\u001b[0;34m\u001b[0m\u001b[0m\n\u001b[0;32m-> 2461\u001b[0;31m         \u001b[0;32mreturn\u001b[0m \u001b[0mself\u001b[0m\u001b[0;34m.\u001b[0m\u001b[0mpredict\u001b[0m\u001b[0;34m(\u001b[0m\u001b[0mstart\u001b[0m\u001b[0;34m=\u001b[0m\u001b[0mself\u001b[0m\u001b[0;34m.\u001b[0m\u001b[0mnobs\u001b[0m\u001b[0;34m,\u001b[0m \u001b[0mend\u001b[0m\u001b[0;34m=\u001b[0m\u001b[0mend\u001b[0m\u001b[0;34m,\u001b[0m \u001b[0;34m**\u001b[0m\u001b[0mkwargs\u001b[0m\u001b[0;34m)\u001b[0m\u001b[0;34m\u001b[0m\u001b[0;34m\u001b[0m\u001b[0m\n\u001b[0m\u001b[1;32m   2462\u001b[0m \u001b[0;34m\u001b[0m\u001b[0m\n\u001b[1;32m   2463\u001b[0m     def simulate(self, nsimulations, measurement_shocks=None,\n",
      "\u001b[0;32m~/anaconda3/lib/python3.7/site-packages/statsmodels/tsa/statespace/mlemodel.py\u001b[0m in \u001b[0;36mpredict\u001b[0;34m(self, start, end, dynamic, **kwargs)\u001b[0m\n\u001b[1;32m   2432\u001b[0m         \"\"\"\n\u001b[1;32m   2433\u001b[0m         \u001b[0;31m# Perform the prediction\u001b[0m\u001b[0;34m\u001b[0m\u001b[0;34m\u001b[0m\u001b[0;34m\u001b[0m\u001b[0m\n\u001b[0;32m-> 2434\u001b[0;31m         \u001b[0mprediction_results\u001b[0m \u001b[0;34m=\u001b[0m \u001b[0mself\u001b[0m\u001b[0;34m.\u001b[0m\u001b[0mget_prediction\u001b[0m\u001b[0;34m(\u001b[0m\u001b[0mstart\u001b[0m\u001b[0;34m,\u001b[0m \u001b[0mend\u001b[0m\u001b[0;34m,\u001b[0m \u001b[0mdynamic\u001b[0m\u001b[0;34m,\u001b[0m \u001b[0;34m**\u001b[0m\u001b[0mkwargs\u001b[0m\u001b[0;34m)\u001b[0m\u001b[0;34m\u001b[0m\u001b[0;34m\u001b[0m\u001b[0m\n\u001b[0m\u001b[1;32m   2435\u001b[0m         \u001b[0;32mreturn\u001b[0m \u001b[0mprediction_results\u001b[0m\u001b[0;34m.\u001b[0m\u001b[0mpredicted_mean\u001b[0m\u001b[0;34m\u001b[0m\u001b[0;34m\u001b[0m\u001b[0m\n\u001b[1;32m   2436\u001b[0m \u001b[0;34m\u001b[0m\u001b[0m\n",
      "\u001b[0;32m~/anaconda3/lib/python3.7/site-packages/statsmodels/tsa/statespace/sarimax.py\u001b[0m in \u001b[0;36mget_prediction\u001b[0;34m(self, start, end, dynamic, index, exog, **kwargs)\u001b[0m\n\u001b[1;32m   1969\u001b[0m         return super(SARIMAXResults, self).get_prediction(\n\u001b[1;32m   1970\u001b[0m             \u001b[0mstart\u001b[0m\u001b[0;34m=\u001b[0m\u001b[0mstart\u001b[0m\u001b[0;34m,\u001b[0m \u001b[0mend\u001b[0m\u001b[0;34m=\u001b[0m\u001b[0mend\u001b[0m\u001b[0;34m,\u001b[0m \u001b[0mdynamic\u001b[0m\u001b[0;34m=\u001b[0m\u001b[0mdynamic\u001b[0m\u001b[0;34m,\u001b[0m \u001b[0mindex\u001b[0m\u001b[0;34m=\u001b[0m\u001b[0mindex\u001b[0m\u001b[0;34m,\u001b[0m \u001b[0mexog\u001b[0m\u001b[0;34m=\u001b[0m\u001b[0mexog\u001b[0m\u001b[0;34m,\u001b[0m\u001b[0;34m\u001b[0m\u001b[0;34m\u001b[0m\u001b[0m\n\u001b[0;32m-> 1971\u001b[0;31m             **kwargs)\n\u001b[0m\u001b[1;32m   1972\u001b[0m \u001b[0;34m\u001b[0m\u001b[0m\n\u001b[1;32m   1973\u001b[0m     \u001b[0;32mdef\u001b[0m \u001b[0msummary\u001b[0m\u001b[0;34m(\u001b[0m\u001b[0mself\u001b[0m\u001b[0;34m,\u001b[0m \u001b[0malpha\u001b[0m\u001b[0;34m=\u001b[0m\u001b[0;36m.05\u001b[0m\u001b[0;34m,\u001b[0m \u001b[0mstart\u001b[0m\u001b[0;34m=\u001b[0m\u001b[0;32mNone\u001b[0m\u001b[0;34m)\u001b[0m\u001b[0;34m:\u001b[0m\u001b[0;34m\u001b[0m\u001b[0;34m\u001b[0m\u001b[0m\n",
      "\u001b[0;32m~/anaconda3/lib/python3.7/site-packages/statsmodels/tsa/statespace/mlemodel.py\u001b[0m in \u001b[0;36mget_prediction\u001b[0;34m(self, start, end, dynamic, index, **kwargs)\u001b[0m\n\u001b[1;32m   2364\u001b[0m         \u001b[0;31m# case of npredictions = 1\u001b[0m\u001b[0;34m\u001b[0m\u001b[0;34m\u001b[0m\u001b[0;34m\u001b[0m\u001b[0m\n\u001b[1;32m   2365\u001b[0m         prediction_results = self.filter_results.predict(\n\u001b[0;32m-> 2366\u001b[0;31m             start, end + out_of_sample + 1, dynamic, **kwargs)\n\u001b[0m\u001b[1;32m   2367\u001b[0m \u001b[0;34m\u001b[0m\u001b[0m\n\u001b[1;32m   2368\u001b[0m         \u001b[0;31m# Return a new mlemodel.PredictionResults object\u001b[0m\u001b[0;34m\u001b[0m\u001b[0;34m\u001b[0m\u001b[0;34m\u001b[0m\u001b[0m\n",
      "\u001b[0;32m~/anaconda3/lib/python3.7/site-packages/statsmodels/tsa/statespace/kalman_filter.py\u001b[0m in \u001b[0;36mpredict\u001b[0;34m(self, start, end, dynamic, **kwargs)\u001b[0m\n\u001b[1;32m   1839\u001b[0m             \u001b[0mmodel\u001b[0m\u001b[0;34m.\u001b[0m\u001b[0m_initialize_state\u001b[0m\u001b[0;34m(\u001b[0m\u001b[0;34m)\u001b[0m\u001b[0;34m\u001b[0m\u001b[0;34m\u001b[0m\u001b[0m\n\u001b[1;32m   1840\u001b[0m \u001b[0;34m\u001b[0m\u001b[0m\n\u001b[0;32m-> 1841\u001b[0;31m             \u001b[0mresults\u001b[0m \u001b[0;34m=\u001b[0m \u001b[0mself\u001b[0m\u001b[0;34m.\u001b[0m\u001b[0m_predict\u001b[0m\u001b[0;34m(\u001b[0m\u001b[0mnstatic\u001b[0m\u001b[0;34m,\u001b[0m \u001b[0mndynamic\u001b[0m\u001b[0;34m,\u001b[0m \u001b[0mnforecast\u001b[0m\u001b[0;34m,\u001b[0m \u001b[0mmodel\u001b[0m\u001b[0;34m)\u001b[0m\u001b[0;34m\u001b[0m\u001b[0;34m\u001b[0m\u001b[0m\n\u001b[0m\u001b[1;32m   1842\u001b[0m \u001b[0;34m\u001b[0m\u001b[0m\n\u001b[1;32m   1843\u001b[0m         return PredictionResults(results, start, end, nstatic, ndynamic,\n",
      "\u001b[0;32m~/anaconda3/lib/python3.7/site-packages/statsmodels/tsa/statespace/kalman_filter.py\u001b[0m in \u001b[0;36m_predict\u001b[0;34m(self, nstatic, ndynamic, nforecast, model)\u001b[0m\n\u001b[1;32m   1860\u001b[0m             \u001b[0;31m# which dynamic computation will not be performed)\u001b[0m\u001b[0;34m\u001b[0m\u001b[0;34m\u001b[0m\u001b[0;34m\u001b[0m\u001b[0m\n\u001b[1;32m   1861\u001b[0m             \u001b[0;32mif\u001b[0m \u001b[0mt\u001b[0m \u001b[0;34m<\u001b[0m \u001b[0mnstatic\u001b[0m\u001b[0;34m:\u001b[0m\u001b[0;34m\u001b[0m\u001b[0;34m\u001b[0m\u001b[0m\n\u001b[0;32m-> 1862\u001b[0;31m                 \u001b[0mnext\u001b[0m\u001b[0;34m(\u001b[0m\u001b[0mkfilter\u001b[0m\u001b[0;34m)\u001b[0m\u001b[0;34m\u001b[0m\u001b[0;34m\u001b[0m\u001b[0m\n\u001b[0m\u001b[1;32m   1863\u001b[0m             \u001b[0;31m# Perform dynamic prediction\u001b[0m\u001b[0;34m\u001b[0m\u001b[0;34m\u001b[0m\u001b[0;34m\u001b[0m\u001b[0m\n\u001b[1;32m   1864\u001b[0m             \u001b[0;32melif\u001b[0m \u001b[0mt\u001b[0m \u001b[0;34m<\u001b[0m \u001b[0mnstatic\u001b[0m \u001b[0;34m+\u001b[0m \u001b[0mndynamic\u001b[0m\u001b[0;34m:\u001b[0m\u001b[0;34m\u001b[0m\u001b[0;34m\u001b[0m\u001b[0m\n",
      "\u001b[0;31mKeyboardInterrupt\u001b[0m: "
     ]
    }
   ],
   "source": [
    "forecasts = []\n",
    "for i in range(len(y_test_base)):\n",
    "    y_train = pd.concat([y_train_base, y_test_base[:i]]).asfreq('B', method='bfill')\n",
    "    x_train = pd.concat([x_train_base, x_test_base[:i]]).asfreq('B', method='bfill')\n",
    "    model = SARIMAX(y_train, x_train, order=order, freq='B', trend='c', enforce_invertibility=False, enforce_stationarity=False)\n",
    "    results = model.fit(disp=False)\n",
    "    forecasts.append(results.forecast(exog=x_test_base[i:i+1])[0])\n",
    "forecasts = pd.Series(forecasts, index=y_test_base.index)"
   ]
  },
  {
   "cell_type": "code",
   "execution_count": 33,
   "metadata": {
    "scrolled": false
   },
   "outputs": [
    {
     "data": {
      "image/png": "[encoded data removed]",
      "text/plain": [
       "<Figure size 432x288 with 1 Axes>"
      ]
     },
     "metadata": {
      "needs_background": "light"
     },
     "output_type": "display_data"
    },
    {
     "data": {
      "image/png": "[encoded data removed]",
      "text/plain": [
       "<Figure size 432x288 with 1 Axes>"
      ]
     },
     "metadata": {
      "needs_background": "light"
     },
     "output_type": "display_data"
    },
    {
     "data": {
      "image/png": "[encoded data removed]",
      "text/plain": [
       "<Figure size 432x288 with 1 Axes>"
      ]
     },
     "metadata": {
      "needs_background": "light"
     },
     "output_type": "display_data"
    }
   ],
   "source": [
    "forecasts.plot(color='red', label='Forecast')\n",
    "y_test_base.plot(color='blue', label='Real')\n",
    "plt.title(rmse(y_test_base, forecasts))\n",
    "plt.show()\n",
    "show_est_plot(y_test_base, naiwny=True, label='Naiwny')\n",
    "show_est_plot(y_test_base, zero=True, label='Zero')"
   ]
  },
  {
   "cell_type": "markdown",
   "metadata": {},
   "source": [
    "## Test"
   ]
  },
  {
   "cell_type": "code",
   "execution_count": 30,
   "metadata": {},
   "outputs": [],
   "source": [
    "order = (3,0,2)\n",
    "variables = ['MINUS_DM_diff_1_shift_8', 'MAXINDEX_diff_1', 'week']\n",
    "test[\"week\"] = test.index.week\n",
    "y_train_base = pd.concat([train1, val1, val2, val3]).asfreq('B', method='bfill')['y_return_ratio']\n",
    "x_train_base = pd.concat([train1, val1, val2, val3]).asfreq('B', method='bfill')[variables]\n",
    "y_test_base = test['y_return_ratio']\n",
    "x_test_base = test[variables]"
   ]
  },
  {
   "cell_type": "code",
   "execution_count": 31,
   "metadata": {},
   "outputs": [
    {
     "name": "stderr",
     "output_type": "stream",
     "text": [
      "/home/michal/anaconda3/lib/python3.7/site-packages/statsmodels/base/model.py:508: ConvergenceWarning: Maximum Likelihood optimization failed to converge. Check mle_retvals\n",
      "  \"Check mle_retvals\", ConvergenceWarning)\n"
     ]
    },
    {
     "name": "stdout",
     "output_type": "stream",
     "text": [
      "                           Statespace Model Results                           \n",
      "==============================================================================\n",
      "Dep. Variable:         y_return_ratio   No. Observations:                 1565\n",
      "Model:               SARIMAX(3, 0, 2)   Log Likelihood                3742.568\n",
      "Date:                Mon, 01 Apr 2019   AIC                          -7465.137\n",
      "Time:                        16:56:51   BIC                          -7411.580\n",
      "Sample:                    07-02-2012   HQIC                         -7445.227\n",
      "                         - 06-29-2018                                         \n",
      "Covariance Type:                  opg                                         \n",
      "===========================================================================================\n",
      "                              coef    std err          z      P>|z|      [0.025      0.975]\n",
      "-------------------------------------------------------------------------------------------\n",
      "intercept                   0.0017      0.001      1.213      0.225      -0.001       0.004\n",
      "MINUS_DM_diff_1_shift_8     0.0001      0.000      0.438      0.662      -0.001       0.001\n",
      "MAXINDEX_diff_1          5.736e-05      0.000      0.299      0.765      -0.000       0.000\n",
      "week                     1.971e-05   4.16e-05      0.474      0.636   -6.18e-05       0.000\n",
      "ar.L1                       0.6355      0.067      9.476      0.000       0.504       0.767\n",
      "ar.L2                      -0.8216      0.059    -13.917      0.000      -0.937      -0.706\n",
      "ar.L3                       0.0470      0.026      1.826      0.068      -0.003       0.097\n",
      "ma.L1                      -0.6549      0.062    -10.509      0.000      -0.777      -0.533\n",
      "ma.L2                       0.8467      0.056     15.053      0.000       0.736       0.957\n",
      "sigma2                      0.0005   7.08e-06     71.034      0.000       0.000       0.001\n",
      "===================================================================================\n",
      "Ljung-Box (Q):                       51.82   Jarque-Bera (JB):             41223.49\n",
      "Prob(Q):                              0.10   Prob(JB):                         0.00\n",
      "Heteroskedasticity (H):               3.01   Skew:                             2.16\n",
      "Prob(H) (two-sided):                  0.00   Kurtosis:                        27.77\n",
      "===================================================================================\n",
      "\n",
      "Warnings:\n",
      "[1] Covariance matrix calculated using the outer product of gradients (complex-step).\n"
     ]
    }
   ],
   "source": [
    "model = SARIMAX(y_train_base, x_train_base, order=order, freq='B', trend='c')\n",
    "results = model.fit()\n",
    "print(results.summary())"
   ]
  },
  {
   "cell_type": "code",
   "execution_count": 32,
   "metadata": {
    "scrolled": true
   },
   "outputs": [
    {
     "name": "stderr",
     "output_type": "stream",
     "text": [
      "/home/michal/anaconda3/lib/python3.7/site-packages/statsmodels/tsa/base/tsa_model.py:320: FutureWarning: Creating a DatetimeIndex by passing range endpoints is deprecated.  Use `pandas.date_range` instead.\n",
      "  freq=base_index.freq)\n",
      "/home/michal/anaconda3/lib/python3.7/site-packages/statsmodels/base/model.py:508: ConvergenceWarning: Maximum Likelihood optimization failed to converge. Check mle_retvals\n",
      "  \"Check mle_retvals\", ConvergenceWarning)\n",
      "/home/michal/anaconda3/lib/python3.7/site-packages/statsmodels/base/model.py:508: ConvergenceWarning: Maximum Likelihood optimization failed to converge. Check mle_retvals\n",
      "  \"Check mle_retvals\", ConvergenceWarning)\n",
      "/home/michal/anaconda3/lib/python3.7/site-packages/statsmodels/base/model.py:508: ConvergenceWarning: Maximum Likelihood optimization failed to converge. Check mle_retvals\n",
      "  \"Check mle_retvals\", ConvergenceWarning)\n",
      "/home/michal/anaconda3/lib/python3.7/site-packages/statsmodels/base/model.py:508: ConvergenceWarning: Maximum Likelihood optimization failed to converge. Check mle_retvals\n",
      "  \"Check mle_retvals\", ConvergenceWarning)\n",
      "/home/michal/anaconda3/lib/python3.7/site-packages/statsmodels/base/model.py:508: ConvergenceWarning: Maximum Likelihood optimization failed to converge. Check mle_retvals\n",
      "  \"Check mle_retvals\", ConvergenceWarning)\n",
      "/home/michal/anaconda3/lib/python3.7/site-packages/statsmodels/base/model.py:508: ConvergenceWarning: Maximum Likelihood optimization failed to converge. Check mle_retvals\n",
      "  \"Check mle_retvals\", ConvergenceWarning)\n",
      "/home/michal/anaconda3/lib/python3.7/site-packages/statsmodels/base/model.py:508: ConvergenceWarning: Maximum Likelihood optimization failed to converge. Check mle_retvals\n",
      "  \"Check mle_retvals\", ConvergenceWarning)\n",
      "/home/michal/anaconda3/lib/python3.7/site-packages/statsmodels/base/model.py:508: ConvergenceWarning: Maximum Likelihood optimization failed to converge. Check mle_retvals\n",
      "  \"Check mle_retvals\", ConvergenceWarning)\n",
      "/home/michal/anaconda3/lib/python3.7/site-packages/statsmodels/base/model.py:508: ConvergenceWarning: Maximum Likelihood optimization failed to converge. Check mle_retvals\n",
      "  \"Check mle_retvals\", ConvergenceWarning)\n",
      "/home/michal/anaconda3/lib/python3.7/site-packages/statsmodels/base/model.py:508: ConvergenceWarning: Maximum Likelihood optimization failed to converge. Check mle_retvals\n",
      "  \"Check mle_retvals\", ConvergenceWarning)\n",
      "/home/michal/anaconda3/lib/python3.7/site-packages/statsmodels/base/model.py:508: ConvergenceWarning: Maximum Likelihood optimization failed to converge. Check mle_retvals\n",
      "  \"Check mle_retvals\", ConvergenceWarning)\n",
      "/home/michal/anaconda3/lib/python3.7/site-packages/statsmodels/base/model.py:508: ConvergenceWarning: Maximum Likelihood optimization failed to converge. Check mle_retvals\n",
      "  \"Check mle_retvals\", ConvergenceWarning)\n",
      "/home/michal/anaconda3/lib/python3.7/site-packages/statsmodels/base/model.py:508: ConvergenceWarning: Maximum Likelihood optimization failed to converge. Check mle_retvals\n",
      "  \"Check mle_retvals\", ConvergenceWarning)\n",
      "/home/michal/anaconda3/lib/python3.7/site-packages/statsmodels/base/model.py:508: ConvergenceWarning: Maximum Likelihood optimization failed to converge. Check mle_retvals\n",
      "  \"Check mle_retvals\", ConvergenceWarning)\n",
      "/home/michal/anaconda3/lib/python3.7/site-packages/statsmodels/base/model.py:508: ConvergenceWarning: Maximum Likelihood optimization failed to converge. Check mle_retvals\n",
      "  \"Check mle_retvals\", ConvergenceWarning)\n",
      "/home/michal/anaconda3/lib/python3.7/site-packages/statsmodels/base/model.py:508: ConvergenceWarning: Maximum Likelihood optimization failed to converge. Check mle_retvals\n",
      "  \"Check mle_retvals\", ConvergenceWarning)\n",
      "/home/michal/anaconda3/lib/python3.7/site-packages/statsmodels/base/model.py:508: ConvergenceWarning: Maximum Likelihood optimization failed to converge. Check mle_retvals\n",
      "  \"Check mle_retvals\", ConvergenceWarning)\n",
      "/home/michal/anaconda3/lib/python3.7/site-packages/statsmodels/base/model.py:508: ConvergenceWarning: Maximum Likelihood optimization failed to converge. Check mle_retvals\n",
      "  \"Check mle_retvals\", ConvergenceWarning)\n",
      "/home/michal/anaconda3/lib/python3.7/site-packages/statsmodels/base/model.py:508: ConvergenceWarning: Maximum Likelihood optimization failed to converge. Check mle_retvals\n",
      "  \"Check mle_retvals\", ConvergenceWarning)\n",
      "/home/michal/anaconda3/lib/python3.7/site-packages/statsmodels/base/model.py:508: ConvergenceWarning: Maximum Likelihood optimization failed to converge. Check mle_retvals\n",
      "  \"Check mle_retvals\", ConvergenceWarning)\n",
      "/home/michal/anaconda3/lib/python3.7/site-packages/statsmodels/base/model.py:508: ConvergenceWarning: Maximum Likelihood optimization failed to converge. Check mle_retvals\n",
      "  \"Check mle_retvals\", ConvergenceWarning)\n",
      "/home/michal/anaconda3/lib/python3.7/site-packages/statsmodels/base/model.py:508: ConvergenceWarning: Maximum Likelihood optimization failed to converge. Check mle_retvals\n",
      "  \"Check mle_retvals\", ConvergenceWarning)\n",
      "/home/michal/anaconda3/lib/python3.7/site-packages/statsmodels/base/model.py:508: ConvergenceWarning: Maximum Likelihood optimization failed to converge. Check mle_retvals\n",
      "  \"Check mle_retvals\", ConvergenceWarning)\n",
      "/home/michal/anaconda3/lib/python3.7/site-packages/statsmodels/base/model.py:508: ConvergenceWarning: Maximum Likelihood optimization failed to converge. Check mle_retvals\n",
      "  \"Check mle_retvals\", ConvergenceWarning)\n",
      "/home/michal/anaconda3/lib/python3.7/site-packages/statsmodels/base/model.py:508: ConvergenceWarning: Maximum Likelihood optimization failed to converge. Check mle_retvals\n",
      "  \"Check mle_retvals\", ConvergenceWarning)\n",
      "/home/michal/anaconda3/lib/python3.7/site-packages/statsmodels/base/model.py:508: ConvergenceWarning: Maximum Likelihood optimization failed to converge. Check mle_retvals\n",
      "  \"Check mle_retvals\", ConvergenceWarning)\n",
      "/home/michal/anaconda3/lib/python3.7/site-packages/statsmodels/base/model.py:508: ConvergenceWarning: Maximum Likelihood optimization failed to converge. Check mle_retvals\n",
      "  \"Check mle_retvals\", ConvergenceWarning)\n",
      "/home/michal/anaconda3/lib/python3.7/site-packages/statsmodels/base/model.py:508: ConvergenceWarning: Maximum Likelihood optimization failed to converge. Check mle_retvals\n",
      "  \"Check mle_retvals\", ConvergenceWarning)\n",
      "/home/michal/anaconda3/lib/python3.7/site-packages/statsmodels/base/model.py:508: ConvergenceWarning: Maximum Likelihood optimization failed to converge. Check mle_retvals\n",
      "  \"Check mle_retvals\", ConvergenceWarning)\n",
      "/home/michal/anaconda3/lib/python3.7/site-packages/statsmodels/base/model.py:508: ConvergenceWarning: Maximum Likelihood optimization failed to converge. Check mle_retvals\n",
      "  \"Check mle_retvals\", ConvergenceWarning)\n",
      "/home/michal/anaconda3/lib/python3.7/site-packages/statsmodels/base/model.py:508: ConvergenceWarning: Maximum Likelihood optimization failed to converge. Check mle_retvals\n",
      "  \"Check mle_retvals\", ConvergenceWarning)\n",
      "/home/michal/anaconda3/lib/python3.7/site-packages/statsmodels/base/model.py:508: ConvergenceWarning: Maximum Likelihood optimization failed to converge. Check mle_retvals\n",
      "  \"Check mle_retvals\", ConvergenceWarning)\n",
      "/home/michal/anaconda3/lib/python3.7/site-packages/statsmodels/base/model.py:508: ConvergenceWarning: Maximum Likelihood optimization failed to converge. Check mle_retvals\n",
      "  \"Check mle_retvals\", ConvergenceWarning)\n",
      "/home/michal/anaconda3/lib/python3.7/site-packages/statsmodels/base/model.py:508: ConvergenceWarning: Maximum Likelihood optimization failed to converge. Check mle_retvals\n",
      "  \"Check mle_retvals\", ConvergenceWarning)\n",
      "/home/michal/anaconda3/lib/python3.7/site-packages/statsmodels/base/model.py:508: ConvergenceWarning: Maximum Likelihood optimization failed to converge. Check mle_retvals\n",
      "  \"Check mle_retvals\", ConvergenceWarning)\n",
      "/home/michal/anaconda3/lib/python3.7/site-packages/statsmodels/base/model.py:508: ConvergenceWarning: Maximum Likelihood optimization failed to converge. Check mle_retvals\n",
      "  \"Check mle_retvals\", ConvergenceWarning)\n",
      "/home/michal/anaconda3/lib/python3.7/site-packages/statsmodels/base/model.py:508: ConvergenceWarning: Maximum Likelihood optimization failed to converge. Check mle_retvals\n",
      "  \"Check mle_retvals\", ConvergenceWarning)\n",
      "/home/michal/anaconda3/lib/python3.7/site-packages/statsmodels/base/model.py:508: ConvergenceWarning: Maximum Likelihood optimization failed to converge. Check mle_retvals\n",
      "  \"Check mle_retvals\", ConvergenceWarning)\n"
     ]
    },
    {
     "name": "stderr",
     "output_type": "stream",
     "text": [
      "/home/michal/anaconda3/lib/python3.7/site-packages/statsmodels/base/model.py:508: ConvergenceWarning: Maximum Likelihood optimization failed to converge. Check mle_retvals\n",
      "  \"Check mle_retvals\", ConvergenceWarning)\n",
      "/home/michal/anaconda3/lib/python3.7/site-packages/statsmodels/base/model.py:508: ConvergenceWarning: Maximum Likelihood optimization failed to converge. Check mle_retvals\n",
      "  \"Check mle_retvals\", ConvergenceWarning)\n",
      "/home/michal/anaconda3/lib/python3.7/site-packages/statsmodels/base/model.py:508: ConvergenceWarning: Maximum Likelihood optimization failed to converge. Check mle_retvals\n",
      "  \"Check mle_retvals\", ConvergenceWarning)\n",
      "/home/michal/anaconda3/lib/python3.7/site-packages/statsmodels/base/model.py:508: ConvergenceWarning: Maximum Likelihood optimization failed to converge. Check mle_retvals\n",
      "  \"Check mle_retvals\", ConvergenceWarning)\n",
      "/home/michal/anaconda3/lib/python3.7/site-packages/statsmodels/base/model.py:508: ConvergenceWarning: Maximum Likelihood optimization failed to converge. Check mle_retvals\n",
      "  \"Check mle_retvals\", ConvergenceWarning)\n",
      "/home/michal/anaconda3/lib/python3.7/site-packages/statsmodels/base/model.py:508: ConvergenceWarning: Maximum Likelihood optimization failed to converge. Check mle_retvals\n",
      "  \"Check mle_retvals\", ConvergenceWarning)\n",
      "/home/michal/anaconda3/lib/python3.7/site-packages/statsmodels/base/model.py:508: ConvergenceWarning: Maximum Likelihood optimization failed to converge. Check mle_retvals\n",
      "  \"Check mle_retvals\", ConvergenceWarning)\n",
      "/home/michal/anaconda3/lib/python3.7/site-packages/statsmodels/base/model.py:508: ConvergenceWarning: Maximum Likelihood optimization failed to converge. Check mle_retvals\n",
      "  \"Check mle_retvals\", ConvergenceWarning)\n",
      "/home/michal/anaconda3/lib/python3.7/site-packages/statsmodels/base/model.py:508: ConvergenceWarning: Maximum Likelihood optimization failed to converge. Check mle_retvals\n",
      "  \"Check mle_retvals\", ConvergenceWarning)\n"
     ]
    }
   ],
   "source": [
    "forecasts = []\n",
    "for i in range(len(y_test_base)):\n",
    "    y_train = pd.concat([y_train_base, y_test_base[:i]]).asfreq('B', method='bfill')\n",
    "    x_train = pd.concat([x_train_base, x_test_base[:i]]).asfreq('B', method='bfill')\n",
    "    model = SARIMAX(y_train, x_train, order=order, freq='B', trend='c', enforce_invertibility=False, enforce_stationarity=False)\n",
    "    results = model.fit()\n",
    "    forecasts.append(results.forecast(exog=x_test_base[i:i+1])[0])\n",
    "forecasts = pd.Series(forecasts, index=y_test_base.index)"
   ]
  },
  {
   "cell_type": "code",
   "execution_count": 33,
   "metadata": {
    "scrolled": false
   },
   "outputs": [
    {
     "data": {
      "image/png": "[encoded data removed]",
      "text/plain": [
       "<Figure size 1080x720 with 1 Axes>"
      ]
     },
     "metadata": {
      "needs_background": "light"
     },
     "output_type": "display_data"
    },
    {
     "data": {
      "image/png": "[encoded data removed]",
      "text/plain": [
       "<Figure size 1080x720 with 1 Axes>"
      ]
     },
     "metadata": {
      "needs_background": "light"
     },
     "output_type": "display_data"
    },
    {
     "data": {
      "image/png": "[encoded data removed]",
      "text/plain": [
       "<Figure size 1080x720 with 1 Axes>"
      ]
     },
     "metadata": {
      "needs_background": "light"
     },
     "output_type": "display_data"
    }
   ],
   "source": [
    "forecasts.plot(color='red', label='Forecast')\n",
    "y_test_base.plot(color='blue', label='Real')\n",
    "plt.title(rmse(y_test_base, forecasts))\n",
    "plt.show()\n",
    "show_est_plot(y_test_base, naiwny=True, label='Naiwny')\n",
    "show_est_plot(y_test_base, zero=True, label='Zero')"
   ]
  },
  {
   "cell_type": "code",
   "execution_count": null,
   "metadata": {},
   "outputs": [],
   "source": []
  }
 ],
 "metadata": {
  "kernelspec": {
   "display_name": "Python 3",
   "language": "python",
   "name": "python3"
  },
  "language_info": {
   "codemirror_mode": {
    "name": "ipython",
    "version": 3
   },
   "file_extension": ".py",
   "mimetype": "text/x-python",
   "name": "python",
   "nbconvert_exporter": "python",
   "pygments_lexer": "ipython3",
   "version": "3.7.1"
  }
 },
 "nbformat": 4,
 "nbformat_minor": 2
}
