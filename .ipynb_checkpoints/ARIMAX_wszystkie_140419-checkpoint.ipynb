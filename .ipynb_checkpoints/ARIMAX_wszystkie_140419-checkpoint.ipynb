{
 "cells": [
  {
   "cell_type": "markdown",
   "metadata": {},
   "source": [
    "# Biblioteki"
   ]
  },
  {
   "cell_type": "code",
   "execution_count": 1,
   "metadata": {},
   "outputs": [],
   "source": [
    "import numpy as np\n",
    "import pandas as pd\n",
    "import json\n",
    "pd.set_option('display.max_rows', 500)\n",
    "pd.set_option('display.max_columns', 500)\n",
    "pd.set_option('display.width', 1000)\n",
    "import matplotlib.pyplot as plt\n",
    "plt.style.use(\"bmh\")\n",
    "plt.rcParams['figure.figsize'] = [15, 10]\n",
    "from statsmodels.tsa.stattools import adfuller\n",
    "from statsmodels.tsa.stattools import acf, pacf\n",
    "from statsmodels.graphics.tsaplots import plot_acf, plot_pacf\n",
    "from statsmodels.tsa.seasonal import seasonal_decompose\n",
    "from statsmodels.tools.eval_measures import rmse\n",
    "from statsmodels.tsa.arima_model import ARIMA\n",
    "from statsmodels.tsa.statespace.sarimax import SARIMAX\n",
    "\n",
    "from sklearn.feature_selection import SelectFromModel\n",
    "from sklearn.linear_model import LassoCV, Lasso\n",
    "\n",
    "import itertools"
   ]
  },
  {
   "cell_type": "markdown",
   "metadata": {},
   "source": [
    "# Deklaracje"
   ]
  },
  {
   "cell_type": "code",
   "execution_count": 2,
   "metadata": {},
   "outputs": [],
   "source": [
    "def plot_ts(ts):\n",
    "    fig, ax = plt.subplots()\n",
    "    ts_roll_mean = ts.rolling(window=12).mean()\n",
    "    ts_roll_std = ts.rolling(window=12).std()\n",
    "    \n",
    "    ts.plot(color='blue', label='Original', use_index=False)\n",
    "    ts_roll_mean.plot(color='red', label=\"Rolling mean\", use_index=False)\n",
    "    ts_roll_std.plot(color='black', label=\"Rolling std\", use_index=False)\n",
    "    \n",
    "    ax.set_xticklabels(ts.index)\n",
    "    fig.autofmt_xdate()\n",
    "    \n",
    "    \n",
    "    plt.xlabel('Date')\n",
    "    plt.ylabel('Return ratio')\n",
    "    plt.show()\n",
    "    \n",
    "def perform_dft(ts):\n",
    "    #Perform Augmented Dickey–Fuller test:\n",
    "    print('Results of Dickey Fuller Test:')\n",
    "    dftest = adfuller(y_train, autolag='AIC')\n",
    "    add_col = []\n",
    "    values = list(dftest[0:4])\n",
    "    for key,value in dftest[4].items():\n",
    "        add_col.append('Critical Value (%s)'%key)\n",
    "        values.append(value)\n",
    "\n",
    "    dfoutput = pd.DataFrame(data = [values], index=['Wartość'], columns=['Test Statistic','p-value','#Lags Used','Number of Observations Used']+add_col)\n",
    "    display(dfoutput)\n",
    "\n",
    "def decompose(ts):\n",
    "    decomposition = seasonal_decompose(ts, freq=10) \n",
    "    decomposition.plot()\n",
    "    plt.show()\n",
    "    \n",
    "def find_best_hparameters(ts, x, pmax, d, qmax):\n",
    "    errors_dict = {}\n",
    "    rmse_value_list = []\n",
    "    order_list = []\n",
    "    for p in range(pmax+1):\n",
    "        for q in range(qmax+1):\n",
    "            order = (p,d,q)\n",
    "            try:\n",
    "                model = SARIMAX(ts, x, order=order, freq='B', trend='c')\n",
    "                results = model.fit()\n",
    "                rmse_value = rmse(results.fittedvalues, ts)\n",
    "                rmse_value_list.append(rmse_value)\n",
    "                order_list.append(order)\n",
    "            except Exception as e:\n",
    "                errors_dict[str(order)] = {'error_str': str(e)}\n",
    "    \n",
    "    errors = pd.DataFrame.from_dict(errors_dict, orient='index')\n",
    "    display(errors)\n",
    "    \n",
    "    results = sorted([(order, rmse_value) for order, rmse_value in zip(order_list, rmse_value_list)], key = lambda x: x[1])\n",
    "    best10 = tuple(order for order, rmse_value in results[:10])\n",
    "    return best10, results\n",
    "\n",
    "# def find_best_extra_vars(ts, x_array, order, n_max=4):\n",
    "#     errors_dict = {}\n",
    "#     rmse_value_list = []\n",
    "#     order_list = []\n",
    "#     for i in range(2, n_max+1):\n",
    "#         print(i)\n",
    "#         try:\n",
    "#             model = SARIMAX(ts, order=order, freq='B')\n",
    "#             results = model.fit()\n",
    "#             rmse_value = rmse(results.fittedvalues, ts)\n",
    "#             rmse_value_list.append(rmse_value)\n",
    "#             order_list.append(order)\n",
    "#         except Exception as e:\n",
    "#             errors_dict[str(order)] = {'error_str': str(e)}\n",
    "    \n",
    "#     errors = pd.DataFrame.from_dict(errors_dict, orient='index')\n",
    "#     display(errors)\n",
    "    \n",
    "#     results = sorted([(order, rmse_value) for order, rmse_value in zip(order_list, rmse_value_list)], key = lambda x: x[1])\n",
    "#     best10 = tuple(order for order, rmse_value in results[:10])\n",
    "#     return best10, results\n",
    "\n",
    "def select_best_orders_from_best10(ts, x, best10):\n",
    "    errors_dict = {}\n",
    "    rmse_value_list = []\n",
    "    order_list = []\n",
    "    for order in best10:\n",
    "        try:\n",
    "            model = SARIMAX(ts, x, order=order, freq='B', trend='c')\n",
    "            results = model.fit()\n",
    "            rmse_value = rmse(results.fittedvalues, ts)\n",
    "            rmse_value_list.append(rmse_value)\n",
    "            order_list.append(order)\n",
    "        except Exception as e:\n",
    "            errors_dict[str(order)] = {'error_str': str(e)}\n",
    "            \n",
    "    errors = pd.DataFrame.from_dict(errors_dict, orient='index')\n",
    "    display(errors)\n",
    "    \n",
    "    results = sorted([(order, rmse_value) for order, rmse_value in zip(order_list, rmse_value_list)], key = lambda x: x[1])\n",
    "    best = results[0][0]\n",
    "    return best, results\n",
    "\n",
    "def test_orders(ts, orders):\n",
    "    errors_dict = {}\n",
    "    rmse_value_list = []\n",
    "    order_list = []\n",
    "    for order in orders:\n",
    "        try:\n",
    "            model = ARIMA(ts, order=order, freq='B')\n",
    "            results = model.fit()\n",
    "            rmse_value = rmse(results.fittedvalues, ts)\n",
    "            rmse_value_list.append(rmse_value)\n",
    "            order_list.append(order)\n",
    "        except Exception as e:\n",
    "            errors_dict[str(order)] = {'error_str': str(e)}\n",
    "            \n",
    "    errors = pd.DataFrame.from_dict(errors_dict, orient='index')\n",
    "    display(errors)\n",
    "    \n",
    "    results = sorted([(order, rmse_value) for order, rmse_value in zip(order_list, rmse_value_list)], key = lambda x: x[1])\n",
    "    best = results[0][0]\n",
    "    return best, results\n",
    "\n",
    "def show_est_plot(ts, x_array=None, order=None, zero=False, naiwny=False, label=\"Wykres\"):\n",
    "    if zero == True:\n",
    "        z = [0]*len(ts)\n",
    "        rmse_value = rmse(ts, z)\n",
    "        plt.plot(ts.index, z, label=\"Zero\", color='red')\n",
    "        plt.plot(ts.index, ts, label=label, color='blue')\n",
    "        plt.title(f'{label} (RMSE: {rmse_value})')\n",
    "        plt.show()\n",
    "    elif naiwny == True:\n",
    "        rmse_value = rmse(ts[1:], ts.shift()[1:])\n",
    "        plt.plot(ts[1:].index, ts.shift()[1:], label=\"Naiwny\", color='red')\n",
    "        plt.plot(ts[1:].index, ts[1:], label=label, color='blue')\n",
    "        plt.title(f'{label} (RMSE: {rmse_value})')\n",
    "        plt.show()\n",
    "    else:\n",
    "        model = SARIMAX(ts, x_array, order=order, freq='B', trend='c')\n",
    "        results = model.fit()\n",
    "        rmse_value = rmse(results.fittedvalues, ts)\n",
    "        plt.plot(ts.index, results.fittedvalues, label=label, color='red')\n",
    "        plt.plot(ts.index, ts, label=label, color='blue')\n",
    "        plt.title(f'{label} (RMSE: {rmse_value})')\n",
    "        plt.show()\n",
    "        "
   ]
  },
  {
   "cell_type": "markdown",
   "metadata": {},
   "source": [
    "# Wczytanie zbiorów"
   ]
  },
  {
   "cell_type": "code",
   "execution_count": 3,
   "metadata": {},
   "outputs": [],
   "source": [
    "train = pd.read_csv('datasets/podzielone/ekonometryczne/stacjonarne/train_ekon.csv', index_col=0)\n",
    "val1 = pd.read_csv('datasets/podzielone/ekonometryczne/stacjonarne/valid1_ekon.csv', index_col=0)\n",
    "val2 = pd.read_csv('datasets/podzielone/ekonometryczne/stacjonarne/valid2_ekon.csv', index_col=0)\n",
    "val3 = pd.read_csv('datasets/podzielone/ekonometryczne/stacjonarne/valid3_ekon.csv', index_col=0)\n",
    "test = pd.read_csv('datasets/podzielone/ekonometryczne/stacjonarne/test_ekon.csv', index_col=0)\n",
    "\n",
    "train.index = pd.to_datetime(train.index)\n",
    "val1.index = pd.to_datetime(val1.index)\n",
    "val2.index = pd.to_datetime(val2.index)\n",
    "val3.index = pd.to_datetime(val3.index)\n",
    "test.index = pd.to_datetime(test.index)\n",
    "\n",
    "whole = pd.concat([train, val1, val2, val3, test]).fillna(method='bfill')\n",
    "\n",
    "train1 = train.asfreq('B', method='bfill').fillna(method='bfill')\n",
    "train2 = pd.concat([train, val1]).asfreq('B', method='bfill').fillna(method='bfill')\n",
    "train3 = pd.concat([train, val1, val2]).asfreq('B', method='bfill').fillna(method='bfill')\n",
    "\n",
    "val1 = val1.asfreq('B', method='bfill').fillna(method='bfill')\n",
    "val2 = val2.asfreq('B', method='bfill').fillna(method='bfill')\n",
    "val3 = val3.asfreq('B', method='bfill').fillna(method='bfill')\n",
    "test = test.asfreq('B', method='bfill').fillna(method='bfill')\n",
    "\n",
    "val = pd.concat([val1, val2, val3]).asfreq('B', method='bfill').fillna(method='bfill')\n"
   ]
  },
  {
   "cell_type": "code",
   "execution_count": 4,
   "metadata": {},
   "outputs": [],
   "source": [
    "train1[\"day_of_week\"] = train1.index.dayofweek\n",
    "train1[\"day_of_year\"] = train1.index.dayofweek\n",
    "train1[\"week\"] = train1.index.week\n",
    "train1[\"quarter\"] = train1.index.quarter\n",
    "\n",
    "\n",
    "val[\"day_of_week\"] = val.index.dayofweek\n",
    "val[\"day_of_year\"] = val.index.dayofweek\n",
    "val[\"week\"] = val.index.week\n",
    "val[\"quarter\"] = val.index.quarter\n"
   ]
  },
  {
   "cell_type": "markdown",
   "metadata": {},
   "source": [
    "# Wybór hiperparametrów"
   ]
  },
  {
   "cell_type": "code",
   "execution_count": 5,
   "metadata": {},
   "outputs": [],
   "source": [
    "last_candidates = [\n",
    "    ['MIN_diff_1', 'MININDEX_diff_1_shift_19'],\n",
    "    ['SandP_diff_1', 'NasdaqTech_diff_1'],\n",
    "    ['SandP_diff_1', 'NasdaqTech_diff_1', 'MININDEX_diff_1_shift_19', 'week'],\n",
    "]"
   ]
  },
  {
   "cell_type": "markdown",
   "metadata": {},
   "source": [
    "## Trening 1"
   ]
  },
  {
   "cell_type": "code",
   "execution_count": null,
   "metadata": {
    "scrolled": true
   },
   "outputs": [
    {
     "name": "stderr",
     "output_type": "stream",
     "text": [
      "/home/michal/anaconda3/lib/python3.6/site-packages/statsmodels/tsa/statespace/representation.py:375: FutureWarning: Using a non-tuple sequence for multidimensional indexing is deprecated; use `arr[tuple(seq)]` instead of `arr[seq]`. In the future this will be interpreted as an array index, `arr[np.array(seq)]`, which will result either in an error or a different result.\n",
      "  return matrix[[slice(None)]*(matrix.ndim-1) + [0]]\n"
     ]
    },
    {
     "name": "stdout",
     "output_type": "stream",
     "text": [
      "0.02811816343926858\n"
     ]
    },
    {
     "data": {
      "text/html": [
       "<table class=\"simpletable\">\n",
       "<caption>Statespace Model Results</caption>\n",
       "<tr>\n",
       "  <th>Dep. Variable:</th>    <td>y_return_ratio</td>  <th>  No. Observations:  </th>   <td>1435</td>   \n",
       "</tr>\n",
       "<tr>\n",
       "  <th>Model:</th>                <td>SARIMAX</td>     <th>  Log Likelihood     </th> <td>3453.504</td> \n",
       "</tr>\n",
       "<tr>\n",
       "  <th>Date:</th>            <td>Sun, 14 Apr 2019</td> <th>  AIC                </th> <td>-6899.007</td>\n",
       "</tr>\n",
       "<tr>\n",
       "  <th>Time:</th>                <td>22:33:33</td>     <th>  BIC                </th> <td>-6877.931</td>\n",
       "</tr>\n",
       "<tr>\n",
       "  <th>Sample:</th>             <td>07-02-2012</td>    <th>  HQIC               </th> <td>-6891.138</td>\n",
       "</tr>\n",
       "<tr>\n",
       "  <th></th>                   <td>- 12-29-2017</td>   <th>                     </th>     <td> </td>    \n",
       "</tr>\n",
       "<tr>\n",
       "  <th>Covariance Type:</th>        <td>opg</td>       <th>                     </th>     <td> </td>    \n",
       "</tr>\n",
       "</table>\n",
       "<table class=\"simpletable\">\n",
       "<tr>\n",
       "              <td></td>                <th>coef</th>     <th>std err</th>      <th>z</th>      <th>P>|z|</th>  <th>[0.025</th>    <th>0.975]</th>  \n",
       "</tr>\n",
       "<tr>\n",
       "  <th>intercept</th>                <td>    0.0023</td> <td>    0.001</td> <td>    3.388</td> <td> 0.001</td> <td>    0.001</td> <td>    0.004</td>\n",
       "</tr>\n",
       "<tr>\n",
       "  <th>MIN_diff_1</th>               <td>    0.0012</td> <td>    0.000</td> <td>    3.280</td> <td> 0.001</td> <td>    0.000</td> <td>    0.002</td>\n",
       "</tr>\n",
       "<tr>\n",
       "  <th>MININDEX_diff_1_shift_19</th> <td>   -0.0002</td> <td>    0.000</td> <td>   -1.555</td> <td> 0.120</td> <td>   -0.001</td> <td> 6.26e-05</td>\n",
       "</tr>\n",
       "<tr>\n",
       "  <th>sigma2</th>                   <td>    0.0005</td> <td> 5.02e-06</td> <td>   94.618</td> <td> 0.000</td> <td>    0.000</td> <td>    0.000</td>\n",
       "</tr>\n",
       "</table>\n",
       "<table class=\"simpletable\">\n",
       "<tr>\n",
       "  <th>Ljung-Box (Q):</th>          <td>44.97</td> <th>  Jarque-Bera (JB):  </th> <td>55228.67</td>\n",
       "</tr>\n",
       "<tr>\n",
       "  <th>Prob(Q):</th>                <td>0.27</td>  <th>  Prob(JB):          </th>   <td>0.00</td>  \n",
       "</tr>\n",
       "<tr>\n",
       "  <th>Heteroskedasticity (H):</th> <td>2.98</td>  <th>  Skew:              </th>   <td>2.57</td>  \n",
       "</tr>\n",
       "<tr>\n",
       "  <th>Prob(H) (two-sided):</th>    <td>0.00</td>  <th>  Kurtosis:          </th>   <td>32.95</td> \n",
       "</tr>\n",
       "</table><br/><br/>Warnings:<br/>[1] Covariance matrix calculated using the outer product of gradients (complex-step)."
      ],
      "text/plain": [
       "<class 'statsmodels.iolib.summary.Summary'>\n",
       "\"\"\"\n",
       "                           Statespace Model Results                           \n",
       "==============================================================================\n",
       "Dep. Variable:         y_return_ratio   No. Observations:                 1435\n",
       "Model:                        SARIMAX   Log Likelihood                3453.504\n",
       "Date:                Sun, 14 Apr 2019   AIC                          -6899.007\n",
       "Time:                        22:33:33   BIC                          -6877.931\n",
       "Sample:                    07-02-2012   HQIC                         -6891.138\n",
       "                         - 12-29-2017                                         \n",
       "Covariance Type:                  opg                                         \n",
       "============================================================================================\n",
       "                               coef    std err          z      P>|z|      [0.025      0.975]\n",
       "--------------------------------------------------------------------------------------------\n",
       "intercept                    0.0023      0.001      3.388      0.001       0.001       0.004\n",
       "MIN_diff_1                   0.0012      0.000      3.280      0.001       0.000       0.002\n",
       "MININDEX_diff_1_shift_19    -0.0002      0.000     -1.555      0.120      -0.001    6.26e-05\n",
       "sigma2                       0.0005   5.02e-06     94.618      0.000       0.000       0.000\n",
       "===================================================================================\n",
       "Ljung-Box (Q):                       44.97   Jarque-Bera (JB):             55228.67\n",
       "Prob(Q):                              0.27   Prob(JB):                         0.00\n",
       "Heteroskedasticity (H):               2.98   Skew:                             2.57\n",
       "Prob(H) (two-sided):                  0.00   Kurtosis:                        32.95\n",
       "===================================================================================\n",
       "\n",
       "Warnings:\n",
       "[1] Covariance matrix calculated using the outer product of gradients (complex-step).\n",
       "\"\"\""
      ]
     },
     "metadata": {},
     "output_type": "display_data"
    },
    {
     "name": "stdout",
     "output_type": "stream",
     "text": [
      "0.028112380867207236\n"
     ]
    },
    {
     "data": {
      "text/html": [
       "<table class=\"simpletable\">\n",
       "<caption>Statespace Model Results</caption>\n",
       "<tr>\n",
       "  <th>Dep. Variable:</th>    <td>y_return_ratio</td>  <th>  No. Observations:  </th>   <td>1435</td>   \n",
       "</tr>\n",
       "<tr>\n",
       "  <th>Model:</th>           <td>SARIMAX(0, 0, 1)</td> <th>  Log Likelihood     </th> <td>3453.509</td> \n",
       "</tr>\n",
       "<tr>\n",
       "  <th>Date:</th>            <td>Sun, 14 Apr 2019</td> <th>  AIC                </th> <td>-6897.017</td>\n",
       "</tr>\n",
       "<tr>\n",
       "  <th>Time:</th>                <td>22:34:03</td>     <th>  BIC                </th> <td>-6870.673</td>\n",
       "</tr>\n",
       "<tr>\n",
       "  <th>Sample:</th>             <td>07-02-2012</td>    <th>  HQIC               </th> <td>-6887.181</td>\n",
       "</tr>\n",
       "<tr>\n",
       "  <th></th>                   <td>- 12-29-2017</td>   <th>                     </th>     <td> </td>    \n",
       "</tr>\n",
       "<tr>\n",
       "  <th>Covariance Type:</th>        <td>opg</td>       <th>                     </th>     <td> </td>    \n",
       "</tr>\n",
       "</table>\n",
       "<table class=\"simpletable\">\n",
       "<tr>\n",
       "              <td></td>                <th>coef</th>     <th>std err</th>      <th>z</th>      <th>P>|z|</th>  <th>[0.025</th>    <th>0.975]</th>  \n",
       "</tr>\n",
       "<tr>\n",
       "  <th>intercept</th>                <td>    0.0023</td> <td>    0.001</td> <td>    3.395</td> <td> 0.001</td> <td>    0.001</td> <td>    0.004</td>\n",
       "</tr>\n",
       "<tr>\n",
       "  <th>MIN_diff_1</th>               <td>    0.0012</td> <td>    0.000</td> <td>    3.275</td> <td> 0.001</td> <td>    0.000</td> <td>    0.002</td>\n",
       "</tr>\n",
       "<tr>\n",
       "  <th>MININDEX_diff_1_shift_19</th> <td>   -0.0002</td> <td>    0.000</td> <td>   -1.542</td> <td> 0.123</td> <td>   -0.001</td> <td> 6.52e-05</td>\n",
       "</tr>\n",
       "<tr>\n",
       "  <th>ma.L1</th>                    <td>   -0.0024</td> <td>    0.020</td> <td>   -0.122</td> <td> 0.903</td> <td>   -0.041</td> <td>    0.036</td>\n",
       "</tr>\n",
       "<tr>\n",
       "  <th>sigma2</th>                   <td>    0.0005</td> <td> 5.32e-06</td> <td>   89.426</td> <td> 0.000</td> <td>    0.000</td> <td>    0.000</td>\n",
       "</tr>\n",
       "</table>\n",
       "<table class=\"simpletable\">\n",
       "<tr>\n",
       "  <th>Ljung-Box (Q):</th>          <td>45.03</td> <th>  Jarque-Bera (JB):  </th> <td>55125.09</td>\n",
       "</tr>\n",
       "<tr>\n",
       "  <th>Prob(Q):</th>                <td>0.27</td>  <th>  Prob(JB):          </th>   <td>0.00</td>  \n",
       "</tr>\n",
       "<tr>\n",
       "  <th>Heteroskedasticity (H):</th> <td>2.98</td>  <th>  Skew:              </th>   <td>2.57</td>  \n",
       "</tr>\n",
       "<tr>\n",
       "  <th>Prob(H) (two-sided):</th>    <td>0.00</td>  <th>  Kurtosis:          </th>   <td>32.93</td> \n",
       "</tr>\n",
       "</table><br/><br/>Warnings:<br/>[1] Covariance matrix calculated using the outer product of gradients (complex-step)."
      ],
      "text/plain": [
       "<class 'statsmodels.iolib.summary.Summary'>\n",
       "\"\"\"\n",
       "                           Statespace Model Results                           \n",
       "==============================================================================\n",
       "Dep. Variable:         y_return_ratio   No. Observations:                 1435\n",
       "Model:               SARIMAX(0, 0, 1)   Log Likelihood                3453.509\n",
       "Date:                Sun, 14 Apr 2019   AIC                          -6897.017\n",
       "Time:                        22:34:03   BIC                          -6870.673\n",
       "Sample:                    07-02-2012   HQIC                         -6887.181\n",
       "                         - 12-29-2017                                         \n",
       "Covariance Type:                  opg                                         \n",
       "============================================================================================\n",
       "                               coef    std err          z      P>|z|      [0.025      0.975]\n",
       "--------------------------------------------------------------------------------------------\n",
       "intercept                    0.0023      0.001      3.395      0.001       0.001       0.004\n",
       "MIN_diff_1                   0.0012      0.000      3.275      0.001       0.000       0.002\n",
       "MININDEX_diff_1_shift_19    -0.0002      0.000     -1.542      0.123      -0.001    6.52e-05\n",
       "ma.L1                       -0.0024      0.020     -0.122      0.903      -0.041       0.036\n",
       "sigma2                       0.0005   5.32e-06     89.426      0.000       0.000       0.000\n",
       "===================================================================================\n",
       "Ljung-Box (Q):                       45.03   Jarque-Bera (JB):             55125.09\n",
       "Prob(Q):                              0.27   Prob(JB):                         0.00\n",
       "Heteroskedasticity (H):               2.98   Skew:                             2.57\n",
       "Prob(H) (two-sided):                  0.00   Kurtosis:                        32.93\n",
       "===================================================================================\n",
       "\n",
       "Warnings:\n",
       "[1] Covariance matrix calculated using the outer product of gradients (complex-step).\n",
       "\"\"\""
      ]
     },
     "metadata": {},
     "output_type": "display_data"
    }
   ],
   "source": [
    "results_of_e = []\n",
    "for train_variables in last_candidates:\n",
    "    X_train1 = train1[train_variables]\n",
    "    y_train1 = train1['y_return_ratio']\n",
    "    \n",
    "    X_val1 = val1[train_variables]\n",
    "    y_val1 = val1['y_return_ratio']\n",
    "    for p in range(4):\n",
    "        for q in range(4):\n",
    "            order = (p, 0, q)\n",
    "            try:\n",
    "                prediction = []\n",
    "                for i in range(len(y_val1)):\n",
    "                    trainX = pd.concat([X_train1, X_val1.iloc[:i]]).asfreq('B', method='bfill')[train_variables]\n",
    "                    trainY = pd.concat([y_train1, y_val1.iloc[:i]]).asfreq('B', method='bfill')\n",
    "                    model = SARIMAX(y_train1, X_train1, order=order, trend='c', freq='B')\n",
    "                    results = model.fit()\n",
    "                    y_hat = results.forecast(steps=1, exog=X_val1.iloc[i:i+1])\n",
    "                    prediction.append(y_hat[0])\n",
    "                rmse_value = rmse(prediction, y_val1)\n",
    "                print(rmse_value)\n",
    "                display(results.summary())\n",
    "                results_of_e.append(((p,0,q), train_variables, rmse_value))\n",
    "            except ValueError as e: pass"
   ]
  },
  {
   "cell_type": "code",
   "execution_count": null,
   "metadata": {},
   "outputs": [],
   "source": [
    "sorted(results_of_e, key=lambda x: x[2])"
   ]
  },
  {
   "cell_type": "markdown",
   "metadata": {},
   "source": [
    "## Trening 2"
   ]
  },
  {
   "cell_type": "code",
   "execution_count": null,
   "metadata": {
    "scrolled": true
   },
   "outputs": [],
   "source": [
    "results_of_e = []\n",
    "for train_variables in last_candidates:\n",
    "    X_train2 = train2[train_variables]\n",
    "    y_train2 = train2['y_return_ratio']\n",
    "    \n",
    "    X_val2 = val2[train_variables]\n",
    "    y_val2 = val2['y_return_ratio']\n",
    "    for p in range(4):\n",
    "        for q in range(4):\n",
    "            order = (p, 0, q)\n",
    "            try:\n",
    "                prediction = []\n",
    "                for i in range(len(y_val2)):\n",
    "                    trainX = pd.concat([X_train2, X_val2.iloc[:i]]).asfreq('B', method='bfill')[train_variables]\n",
    "                    trainY = pd.concat([y_train2, y_val2.iloc[:i]]).asfreq('B', method='bfill')\n",
    "                    model = SARIMAX(y_train2, X_train2, order=order, trend='c', freq='B')\n",
    "                    results = model.fit()\n",
    "                    y_hat = results.forecast(steps=1, exog=X_val2.iloc[i:i+1])\n",
    "                    prediction.append(y_hat[0])\n",
    "                rmse_value = rmse(prediction, y_val2)\n",
    "                print(rmse_value)\n",
    "                display(results.summary())\n",
    "                results_of_e.append(((p,0,q), train_variables, rmse_value))\n",
    "            except ValueError as e: pass"
   ]
  },
  {
   "cell_type": "code",
   "execution_count": null,
   "metadata": {},
   "outputs": [],
   "source": [
    "results_of_e"
   ]
  },
  {
   "cell_type": "markdown",
   "metadata": {},
   "source": [
    "## Trening 3"
   ]
  },
  {
   "cell_type": "code",
   "execution_count": null,
   "metadata": {
    "scrolled": true
   },
   "outputs": [],
   "source": [
    "results_of_e = []\n",
    "for train_variables in last_candidates:\n",
    "    X_train3 = train3[train_variables]\n",
    "    y_train3 = train3['y_return_ratio']\n",
    "    \n",
    "    X_val3 = val3[train_variables]\n",
    "    y_val3 = val3['y_return_ratio']\n",
    "    for p in range(4):\n",
    "        for q in range(4):\n",
    "            order = (p, 0, q)\n",
    "            try:\n",
    "                prediction = []\n",
    "                for i in range(len(y_val3)):\n",
    "                    trainX = pd.concat([X_train3, X_val3.iloc[:i]]).asfreq('B', method='bfill')[train_variables]\n",
    "                    trainY = pd.concat([y_train3, y_val3.iloc[:i]]).asfreq('B', method='bfill')\n",
    "                    model = SARIMAX(y_train3, X_train3, order=order, trend='c', freq='B')\n",
    "                    results = model.fit()\n",
    "                    y_hat = results.forecast(steps=1, exog=X_val3.iloc[i:i+1])\n",
    "                    prediction.append(y_hat[0])\n",
    "                rmse_value = rmse(prediction, y_val3)\n",
    "                print(rmse_value)\n",
    "                display(results.summary())\n",
    "                results_of_e.append(((p,0,q), train_variables, rmse_value))\n",
    "            except ValueError as e: pass"
   ]
  },
  {
   "cell_type": "code",
   "execution_count": null,
   "metadata": {},
   "outputs": [],
   "source": [
    "results_of_e"
   ]
  },
  {
   "cell_type": "markdown",
   "metadata": {},
   "source": [
    "## Wyniki selekcji"
   ]
  },
  {
   "cell_type": "code",
   "execution_count": null,
   "metadata": {},
   "outputs": [],
   "source": [
    "best_results"
   ]
  },
  {
   "cell_type": "code",
   "execution_count": null,
   "metadata": {
    "scrolled": true
   },
   "outputs": [],
   "source": [
    "rmse_values_dict = {}\n",
    "chosen_one_list = []\n",
    "for k, (results, variables) in best_results.items():\n",
    "    for order, rmse_value in results:\n",
    "        rmse_values = []\n",
    "        try:\n",
    "            model = SARIMAX(val1['y_return_ratio'], val1[variables], order=order, freq='B', trend='c')\n",
    "            results = model.fit(disp=-1)\n",
    "            rmse_value = rmse(results.fittedvalues, val1['y_return_ratio'])\n",
    "            rmse_values.append(rmse_value)\n",
    "        except Exception as e: pass\n",
    "            \n",
    "        try:\n",
    "            model = SARIMAX(val2['y_return_ratio'], val2[variables], order=order, freq='B', trend='c')\n",
    "            results = model.fit(disp=-1)\n",
    "            rmse_value = rmse(results.fittedvalues, val2['y_return_ratio'])\n",
    "            rmse_values.append(rmse_value)\n",
    "        except: pass\n",
    "            \n",
    "        try:\n",
    "            model = SARIMAX(val3['y_return_ratio'], val3[variables], order=order, freq='B', trend='c')\n",
    "            results = model.fit(disp=-1)\n",
    "            rmse_value = rmse(results.fittedvalues, val3['y_return_ratio'])\n",
    "            rmse_values.append(rmse_value)\n",
    "        except: pass\n",
    "        print(rmse_values)\n",
    "        if len(rmse_values) == 3: chosen_one_list.append((order, variables, np.mean(rmse_values)))\n",
    "\n",
    "        \n",
    "chosen_one_list.sort(key=lambda x: x[2])"
   ]
  },
  {
   "cell_type": "code",
   "execution_count": null,
   "metadata": {},
   "outputs": [],
   "source": [
    "chosen_one_list"
   ]
  },
  {
   "cell_type": "markdown",
   "metadata": {},
   "source": [
    "# Estymacja na walidacji i teście"
   ]
  },
  {
   "cell_type": "markdown",
   "metadata": {},
   "source": [
    "## Walidacja"
   ]
  },
  {
   "cell_type": "code",
   "execution_count": null,
   "metadata": {},
   "outputs": [],
   "source": [
    "order = (3, 0, 2)\n",
    "variables =  ['MIN_diff_1', 'MININDEX_diff_1_shift_19']\n",
    "y_train_base = train1['y_return_ratio']\n",
    "x_train_base = train1[variables]\n",
    "y_test_base = pd.concat([val1, val2, val3]).asfreq('B', method='bfill')['y_return_ratio']\n",
    "x_test_base = pd.concat([val1, val2, val3]).asfreq('B', method='bfill')[variables]"
   ]
  },
  {
   "cell_type": "code",
   "execution_count": null,
   "metadata": {
    "scrolled": true
   },
   "outputs": [],
   "source": [
    "model = SARIMAX(y_train_base, x_train_base, order=order, freq='B', trend='c')\n",
    "results = model.fit()\n",
    "print(results.summary())"
   ]
  },
  {
   "cell_type": "code",
   "execution_count": null,
   "metadata": {
    "scrolled": true
   },
   "outputs": [],
   "source": [
    "forecasts = []\n",
    "for i in range(len(y_test_base)):\n",
    "    y_train = pd.concat([y_train_base, y_test_base[:i]]).asfreq('B', method='bfill')\n",
    "    x_train = pd.concat([x_train_base, x_test_base[:i]]).asfreq('B', method='bfill')\n",
    "    model = SARIMAX(y_train, x_train, order=order, freq='B', trend='c', enforce_invertibility=False, enforce_stationarity=False)\n",
    "    results = model.fit(disp=False)\n",
    "    forecasts.append(results.forecast(exog=x_test_base[i:i+1])[0])\n",
    "forecasts = pd.Series(forecasts, index=y_test_base.index)"
   ]
  },
  {
   "cell_type": "code",
   "execution_count": null,
   "metadata": {
    "scrolled": false
   },
   "outputs": [],
   "source": [
    "forecasts.plot(color='red', label='Forecast')\n",
    "y_test_base.plot(color='blue', label='Real')\n",
    "plt.title(rmse(y_test_base, forecasts))\n",
    "plt.show()\n",
    "show_est_plot(y_test_base, naiwny=True, label='Naiwny')\n",
    "show_est_plot(y_test_base, zero=True, label='Zero')\n",
    "print(forecasts)"
   ]
  },
  {
   "cell_type": "markdown",
   "metadata": {},
   "source": [
    "## Test"
   ]
  },
  {
   "cell_type": "code",
   "execution_count": null,
   "metadata": {},
   "outputs": [],
   "source": [
    "order = (3,0,2)\n",
    "variables = ['MIN_diff_1', 'MININDEX_diff_1_shift_19']\n",
    "test[\"week\"] = test.index.week\n",
    "y_train_base = pd.concat([train1, val1, val2, val3]).asfreq('B', method='bfill')['y_return_ratio']\n",
    "x_train_base = pd.concat([train1, val1, val2, val3]).asfreq('B', method='bfill')[variables]\n",
    "y_test_base = test['y_return_ratio']\n",
    "x_test_base = test[variables]"
   ]
  },
  {
   "cell_type": "code",
   "execution_count": null,
   "metadata": {},
   "outputs": [],
   "source": [
    "model = SARIMAX(y_train_base, x_train_base, order=order, freq='B', trend='c')\n",
    "results = model.fit()\n",
    "print(results.summary())"
   ]
  },
  {
   "cell_type": "code",
   "execution_count": null,
   "metadata": {
    "scrolled": true
   },
   "outputs": [],
   "source": [
    "forecasts = []\n",
    "for i in range(len(y_test_base)):\n",
    "    y_train = pd.concat([y_train_base, y_test_base[:i]]).asfreq('B', method='bfill')\n",
    "    x_train = pd.concat([x_train_base, x_test_base[:i]]).asfreq('B', method='bfill')\n",
    "    model = SARIMAX(y_train, x_train, order=order, freq='B', trend='c', enforce_invertibility=False, enforce_stationarity=False)\n",
    "    results = model.fit()\n",
    "    forecasts.append(results.forecast(exog=x_test_base[i:i+1])[0])\n",
    "forecasts = pd.Series(forecasts, index=y_test_base.index)"
   ]
  },
  {
   "cell_type": "code",
   "execution_count": null,
   "metadata": {
    "scrolled": false
   },
   "outputs": [],
   "source": [
    "forecasts.plot(color='red', label='Forecast')\n",
    "y_test_base.plot(color='blue', label='Real')\n",
    "plt.title(rmse(y_test_base, forecasts))\n",
    "plt.show()\n",
    "show_est_plot(y_test_base, naiwny=True, label='Naiwny')\n",
    "show_est_plot(y_test_base, zero=True, label='Zero')\n",
    "print(forecasts)"
   ]
  },
  {
   "cell_type": "code",
   "execution_count": null,
   "metadata": {},
   "outputs": [],
   "source": []
  }
 ],
 "metadata": {
  "kernelspec": {
   "display_name": "Python 3",
   "language": "python",
   "name": "python3"
  },
  "language_info": {
   "codemirror_mode": {
    "name": "ipython",
    "version": 3
   },
   "file_extension": ".py",
   "mimetype": "text/x-python",
   "name": "python",
   "nbconvert_exporter": "python",
   "pygments_lexer": "ipython3",
   "version": "3.6.8"
  }
 },
 "nbformat": 4,
 "nbformat_minor": 2
}
